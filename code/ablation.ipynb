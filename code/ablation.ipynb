{
  "cells": [
    {
      "cell_type": "markdown",
      "metadata": {
        "id": "c2VUT_VBMiPc"
      },
      "source": [
        "## Importazione delle principali librerie"
      ]
    },
    {
      "cell_type": "code",
      "execution_count": 1,
      "metadata": {
        "id": "fkw0aYlac1RU"
      },
      "outputs": [],
      "source": [
        "import warnings\n",
        "\n",
        "# Ignora il warning di sklearn riguardante i nomi delle feature durante la PCA\n",
        "warnings.filterwarnings(\"ignore\", message=\"X does not have valid feature names, but PCA was fitted with feature names\", category=UserWarning)"
      ]
    },
    {
      "cell_type": "code",
      "execution_count": 2,
      "metadata": {
        "id": "APv-2idHMiPc"
      },
      "outputs": [],
      "source": [
        "import pandas as pd\n",
        "import numpy as np\n",
        "import json\n",
        "import time\n",
        "import matplotlib.pyplot as plt\n",
        "import seaborn as sns\n",
        "from sklearn.metrics import confusion_matrix\n",
        "import pickle\n",
        "\n",
        "from skimage import color"
      ]
    },
    {
      "cell_type": "code",
      "execution_count": 3,
      "metadata": {
        "colab": {
          "base_uri": "https://localhost:8080/"
        },
        "id": "vdrih2TDMohf",
        "outputId": "9ad3b93a-6728-44bf-f97a-222c4dc44191"
      },
      "outputs": [
        {
          "output_type": "stream",
          "name": "stdout",
          "text": [
            "Mounted at /content/drive\n"
          ]
        }
      ],
      "source": [
        "from google.colab import drive\n",
        "drive.mount('/content/drive')"
      ]
    },
    {
      "cell_type": "markdown",
      "metadata": {
        "id": "ITG-heRTMiPd"
      },
      "source": [
        "## Definizione di costanti"
      ]
    },
    {
      "cell_type": "code",
      "execution_count": 4,
      "metadata": {
        "id": "ruWpi8rmMiPd"
      },
      "outputs": [],
      "source": [
        "COLOR_IMAGE_SIZE = (3, 80, 80)\n",
        "IMAGE_SIZE = (3, 80, 80)\n",
        "\n",
        "ORIGINAL_DATASET_PATH = 'drive/MyDrive/ML/projFinale/shipsnet.json'\n",
        "FINAL_DATASET_PATH = 'drive/MyDrive/ML/projFinale/ablationdata_gray.csv'\n",
        "NN_WEIGHTS_PATH = \"drive/MyDrive/ML/projFinale/ablationship_nn_weights.h5\"\n",
        "NN_CONFIG_PATH = \"drive/MyDrive/ML/projFinale/ablationship_nn_config.json\"\n",
        "SVM_MODEL_DUMP_PATH = \"drive/MyDrive/ML/projFinale/ablationsvmAddestratoSuTuttoDataset.pkl\"\n",
        "\n",
        "RANDOM_STATE = 57\n",
        "(TRAINING_SET_SIZE, VALIDATION_SET_SIZE, TEST_SET_SIZE) = (0.7, 0.2, 0.1)\n",
        "\n",
        "EPSILON = 1e-6"
      ]
    },
    {
      "cell_type": "code",
      "execution_count": 5,
      "metadata": {
        "id": "O_FmY80BMiPd"
      },
      "outputs": [],
      "source": [
        "assert abs(TRAINING_SET_SIZE + VALIDATION_SET_SIZE + TEST_SET_SIZE - 1) < EPSILON, \"Invalid split sizes\""
      ]
    },
    {
      "cell_type": "markdown",
      "metadata": {
        "id": "q44XVm_LMiPe"
      },
      "source": [
        "__Random seed__ per la riproducibilità degli esperimenti:"
      ]
    },
    {
      "cell_type": "code",
      "execution_count": 6,
      "metadata": {
        "id": "Uzm50ZBQMiPe"
      },
      "outputs": [],
      "source": [
        "np.random.seed(RANDOM_STATE)"
      ]
    },
    {
      "cell_type": "markdown",
      "metadata": {
        "id": "t19OFuvCMiPe"
      },
      "source": [
        "## Importazione del dataset\n",
        "\n",
        "Il dataset è una raccolta di __immagini satelittari__ *RGB* di dimensioni $3 \\times 80 \\times 80$, etichettate nella seguente maniera:\n",
        " - _1_: L'immagine contiene una __nave completa__;\n",
        " - _0_: L'immagine non contiene una nave (o contiene soltanto una parte di una nave);"
      ]
    },
    {
      "cell_type": "code",
      "execution_count": 7,
      "metadata": {
        "colab": {
          "base_uri": "https://localhost:8080/"
        },
        "id": "r7XPQufUMiPe",
        "outputId": "c06699ec-cf7a-4617-92bb-f2477eca687f"
      },
      "outputs": [
        {
          "output_type": "execute_result",
          "data": {
            "text/plain": [
              "dict_keys(['data', 'labels', 'locations', 'scene_ids'])"
            ]
          },
          "metadata": {},
          "execution_count": 7
        }
      ],
      "source": [
        "with open(ORIGINAL_DATASET_PATH) as f:\n",
        "    dataset = json.load(f)\n",
        "\n",
        "dataset.keys()"
      ]
    },
    {
      "cell_type": "code",
      "execution_count": 8,
      "metadata": {
        "colab": {
          "base_uri": "https://localhost:8080/",
          "height": 235
        },
        "id": "nKeRQbacMiPf",
        "outputId": "d705c50e-314f-4730-a5bc-306bbc42dee8"
      },
      "outputs": [
        {
          "output_type": "execute_result",
          "data": {
            "text/plain": [
              "     0    1    2    3    4    5    6    7    8    9  ...  19191  19192  19193  \\\n",
              "0   82   89   91   87   89   87   86   86   86   86  ...     87     87     85   \n",
              "1   76   75   67   62   68   72   73   73   68   69  ...     53     51     54   \n",
              "2  125  127  129  130  126  125  129  133  132  130  ...    116    122    118   \n",
              "3  102   99  113  106   96  102  105  105  103  106  ...     62     68     73   \n",
              "4   78   76   74   78   79   79   79   82   86   85  ...     86     86     87   \n",
              "\n",
              "   19194  19195  19196  19197  19198  19199  labels  \n",
              "0     84     85     86     86     88     89       1  \n",
              "1     52     54     56     54     57     58       1  \n",
              "2    116    118    117    111    109    115       1  \n",
              "3     80     93     89     94     95     77       1  \n",
              "4     84     84     85     85     86     83       1  \n",
              "\n",
              "[5 rows x 19201 columns]"
            ],
            "text/html": [
              "\n",
              "  <div id=\"df-7c08803c-3462-4fae-b0c1-81ba353c9342\" class=\"colab-df-container\">\n",
              "    <div>\n",
              "<style scoped>\n",
              "    .dataframe tbody tr th:only-of-type {\n",
              "        vertical-align: middle;\n",
              "    }\n",
              "\n",
              "    .dataframe tbody tr th {\n",
              "        vertical-align: top;\n",
              "    }\n",
              "\n",
              "    .dataframe thead th {\n",
              "        text-align: right;\n",
              "    }\n",
              "</style>\n",
              "<table border=\"1\" class=\"dataframe\">\n",
              "  <thead>\n",
              "    <tr style=\"text-align: right;\">\n",
              "      <th></th>\n",
              "      <th>0</th>\n",
              "      <th>1</th>\n",
              "      <th>2</th>\n",
              "      <th>3</th>\n",
              "      <th>4</th>\n",
              "      <th>5</th>\n",
              "      <th>6</th>\n",
              "      <th>7</th>\n",
              "      <th>8</th>\n",
              "      <th>9</th>\n",
              "      <th>...</th>\n",
              "      <th>19191</th>\n",
              "      <th>19192</th>\n",
              "      <th>19193</th>\n",
              "      <th>19194</th>\n",
              "      <th>19195</th>\n",
              "      <th>19196</th>\n",
              "      <th>19197</th>\n",
              "      <th>19198</th>\n",
              "      <th>19199</th>\n",
              "      <th>labels</th>\n",
              "    </tr>\n",
              "  </thead>\n",
              "  <tbody>\n",
              "    <tr>\n",
              "      <th>0</th>\n",
              "      <td>82</td>\n",
              "      <td>89</td>\n",
              "      <td>91</td>\n",
              "      <td>87</td>\n",
              "      <td>89</td>\n",
              "      <td>87</td>\n",
              "      <td>86</td>\n",
              "      <td>86</td>\n",
              "      <td>86</td>\n",
              "      <td>86</td>\n",
              "      <td>...</td>\n",
              "      <td>87</td>\n",
              "      <td>87</td>\n",
              "      <td>85</td>\n",
              "      <td>84</td>\n",
              "      <td>85</td>\n",
              "      <td>86</td>\n",
              "      <td>86</td>\n",
              "      <td>88</td>\n",
              "      <td>89</td>\n",
              "      <td>1</td>\n",
              "    </tr>\n",
              "    <tr>\n",
              "      <th>1</th>\n",
              "      <td>76</td>\n",
              "      <td>75</td>\n",
              "      <td>67</td>\n",
              "      <td>62</td>\n",
              "      <td>68</td>\n",
              "      <td>72</td>\n",
              "      <td>73</td>\n",
              "      <td>73</td>\n",
              "      <td>68</td>\n",
              "      <td>69</td>\n",
              "      <td>...</td>\n",
              "      <td>53</td>\n",
              "      <td>51</td>\n",
              "      <td>54</td>\n",
              "      <td>52</td>\n",
              "      <td>54</td>\n",
              "      <td>56</td>\n",
              "      <td>54</td>\n",
              "      <td>57</td>\n",
              "      <td>58</td>\n",
              "      <td>1</td>\n",
              "    </tr>\n",
              "    <tr>\n",
              "      <th>2</th>\n",
              "      <td>125</td>\n",
              "      <td>127</td>\n",
              "      <td>129</td>\n",
              "      <td>130</td>\n",
              "      <td>126</td>\n",
              "      <td>125</td>\n",
              "      <td>129</td>\n",
              "      <td>133</td>\n",
              "      <td>132</td>\n",
              "      <td>130</td>\n",
              "      <td>...</td>\n",
              "      <td>116</td>\n",
              "      <td>122</td>\n",
              "      <td>118</td>\n",
              "      <td>116</td>\n",
              "      <td>118</td>\n",
              "      <td>117</td>\n",
              "      <td>111</td>\n",
              "      <td>109</td>\n",
              "      <td>115</td>\n",
              "      <td>1</td>\n",
              "    </tr>\n",
              "    <tr>\n",
              "      <th>3</th>\n",
              "      <td>102</td>\n",
              "      <td>99</td>\n",
              "      <td>113</td>\n",
              "      <td>106</td>\n",
              "      <td>96</td>\n",
              "      <td>102</td>\n",
              "      <td>105</td>\n",
              "      <td>105</td>\n",
              "      <td>103</td>\n",
              "      <td>106</td>\n",
              "      <td>...</td>\n",
              "      <td>62</td>\n",
              "      <td>68</td>\n",
              "      <td>73</td>\n",
              "      <td>80</td>\n",
              "      <td>93</td>\n",
              "      <td>89</td>\n",
              "      <td>94</td>\n",
              "      <td>95</td>\n",
              "      <td>77</td>\n",
              "      <td>1</td>\n",
              "    </tr>\n",
              "    <tr>\n",
              "      <th>4</th>\n",
              "      <td>78</td>\n",
              "      <td>76</td>\n",
              "      <td>74</td>\n",
              "      <td>78</td>\n",
              "      <td>79</td>\n",
              "      <td>79</td>\n",
              "      <td>79</td>\n",
              "      <td>82</td>\n",
              "      <td>86</td>\n",
              "      <td>85</td>\n",
              "      <td>...</td>\n",
              "      <td>86</td>\n",
              "      <td>86</td>\n",
              "      <td>87</td>\n",
              "      <td>84</td>\n",
              "      <td>84</td>\n",
              "      <td>85</td>\n",
              "      <td>85</td>\n",
              "      <td>86</td>\n",
              "      <td>83</td>\n",
              "      <td>1</td>\n",
              "    </tr>\n",
              "  </tbody>\n",
              "</table>\n",
              "<p>5 rows × 19201 columns</p>\n",
              "</div>\n",
              "    <div class=\"colab-df-buttons\">\n",
              "\n",
              "  <div class=\"colab-df-container\">\n",
              "    <button class=\"colab-df-convert\" onclick=\"convertToInteractive('df-7c08803c-3462-4fae-b0c1-81ba353c9342')\"\n",
              "            title=\"Convert this dataframe to an interactive table.\"\n",
              "            style=\"display:none;\">\n",
              "\n",
              "  <svg xmlns=\"http://www.w3.org/2000/svg\" height=\"24px\" viewBox=\"0 -960 960 960\">\n",
              "    <path d=\"M120-120v-720h720v720H120Zm60-500h600v-160H180v160Zm220 220h160v-160H400v160Zm0 220h160v-160H400v160ZM180-400h160v-160H180v160Zm440 0h160v-160H620v160ZM180-180h160v-160H180v160Zm440 0h160v-160H620v160Z\"/>\n",
              "  </svg>\n",
              "    </button>\n",
              "\n",
              "  <style>\n",
              "    .colab-df-container {\n",
              "      display:flex;\n",
              "      gap: 12px;\n",
              "    }\n",
              "\n",
              "    .colab-df-convert {\n",
              "      background-color: #E8F0FE;\n",
              "      border: none;\n",
              "      border-radius: 50%;\n",
              "      cursor: pointer;\n",
              "      display: none;\n",
              "      fill: #1967D2;\n",
              "      height: 32px;\n",
              "      padding: 0 0 0 0;\n",
              "      width: 32px;\n",
              "    }\n",
              "\n",
              "    .colab-df-convert:hover {\n",
              "      background-color: #E2EBFA;\n",
              "      box-shadow: 0px 1px 2px rgba(60, 64, 67, 0.3), 0px 1px 3px 1px rgba(60, 64, 67, 0.15);\n",
              "      fill: #174EA6;\n",
              "    }\n",
              "\n",
              "    .colab-df-buttons div {\n",
              "      margin-bottom: 4px;\n",
              "    }\n",
              "\n",
              "    [theme=dark] .colab-df-convert {\n",
              "      background-color: #3B4455;\n",
              "      fill: #D2E3FC;\n",
              "    }\n",
              "\n",
              "    [theme=dark] .colab-df-convert:hover {\n",
              "      background-color: #434B5C;\n",
              "      box-shadow: 0px 1px 3px 1px rgba(0, 0, 0, 0.15);\n",
              "      filter: drop-shadow(0px 1px 2px rgba(0, 0, 0, 0.3));\n",
              "      fill: #FFFFFF;\n",
              "    }\n",
              "  </style>\n",
              "\n",
              "    <script>\n",
              "      const buttonEl =\n",
              "        document.querySelector('#df-7c08803c-3462-4fae-b0c1-81ba353c9342 button.colab-df-convert');\n",
              "      buttonEl.style.display =\n",
              "        google.colab.kernel.accessAllowed ? 'block' : 'none';\n",
              "\n",
              "      async function convertToInteractive(key) {\n",
              "        const element = document.querySelector('#df-7c08803c-3462-4fae-b0c1-81ba353c9342');\n",
              "        const dataTable =\n",
              "          await google.colab.kernel.invokeFunction('convertToInteractive',\n",
              "                                                    [key], {});\n",
              "        if (!dataTable) return;\n",
              "\n",
              "        const docLinkHtml = 'Like what you see? Visit the ' +\n",
              "          '<a target=\"_blank\" href=https://colab.research.google.com/notebooks/data_table.ipynb>data table notebook</a>'\n",
              "          + ' to learn more about interactive tables.';\n",
              "        element.innerHTML = '';\n",
              "        dataTable['output_type'] = 'display_data';\n",
              "        await google.colab.output.renderOutput(dataTable, element);\n",
              "        const docLink = document.createElement('div');\n",
              "        docLink.innerHTML = docLinkHtml;\n",
              "        element.appendChild(docLink);\n",
              "      }\n",
              "    </script>\n",
              "  </div>\n",
              "\n",
              "\n",
              "<div id=\"df-6c8059ed-356c-45ff-a72a-10dfab523bf3\">\n",
              "  <button class=\"colab-df-quickchart\" onclick=\"quickchart('df-6c8059ed-356c-45ff-a72a-10dfab523bf3')\"\n",
              "            title=\"Suggest charts\"\n",
              "            style=\"display:none;\">\n",
              "\n",
              "<svg xmlns=\"http://www.w3.org/2000/svg\" height=\"24px\"viewBox=\"0 0 24 24\"\n",
              "     width=\"24px\">\n",
              "    <g>\n",
              "        <path d=\"M19 3H5c-1.1 0-2 .9-2 2v14c0 1.1.9 2 2 2h14c1.1 0 2-.9 2-2V5c0-1.1-.9-2-2-2zM9 17H7v-7h2v7zm4 0h-2V7h2v10zm4 0h-2v-4h2v4z\"/>\n",
              "    </g>\n",
              "</svg>\n",
              "  </button>\n",
              "\n",
              "<style>\n",
              "  .colab-df-quickchart {\n",
              "      --bg-color: #E8F0FE;\n",
              "      --fill-color: #1967D2;\n",
              "      --hover-bg-color: #E2EBFA;\n",
              "      --hover-fill-color: #174EA6;\n",
              "      --disabled-fill-color: #AAA;\n",
              "      --disabled-bg-color: #DDD;\n",
              "  }\n",
              "\n",
              "  [theme=dark] .colab-df-quickchart {\n",
              "      --bg-color: #3B4455;\n",
              "      --fill-color: #D2E3FC;\n",
              "      --hover-bg-color: #434B5C;\n",
              "      --hover-fill-color: #FFFFFF;\n",
              "      --disabled-bg-color: #3B4455;\n",
              "      --disabled-fill-color: #666;\n",
              "  }\n",
              "\n",
              "  .colab-df-quickchart {\n",
              "    background-color: var(--bg-color);\n",
              "    border: none;\n",
              "    border-radius: 50%;\n",
              "    cursor: pointer;\n",
              "    display: none;\n",
              "    fill: var(--fill-color);\n",
              "    height: 32px;\n",
              "    padding: 0;\n",
              "    width: 32px;\n",
              "  }\n",
              "\n",
              "  .colab-df-quickchart:hover {\n",
              "    background-color: var(--hover-bg-color);\n",
              "    box-shadow: 0 1px 2px rgba(60, 64, 67, 0.3), 0 1px 3px 1px rgba(60, 64, 67, 0.15);\n",
              "    fill: var(--button-hover-fill-color);\n",
              "  }\n",
              "\n",
              "  .colab-df-quickchart-complete:disabled,\n",
              "  .colab-df-quickchart-complete:disabled:hover {\n",
              "    background-color: var(--disabled-bg-color);\n",
              "    fill: var(--disabled-fill-color);\n",
              "    box-shadow: none;\n",
              "  }\n",
              "\n",
              "  .colab-df-spinner {\n",
              "    border: 2px solid var(--fill-color);\n",
              "    border-color: transparent;\n",
              "    border-bottom-color: var(--fill-color);\n",
              "    animation:\n",
              "      spin 1s steps(1) infinite;\n",
              "  }\n",
              "\n",
              "  @keyframes spin {\n",
              "    0% {\n",
              "      border-color: transparent;\n",
              "      border-bottom-color: var(--fill-color);\n",
              "      border-left-color: var(--fill-color);\n",
              "    }\n",
              "    20% {\n",
              "      border-color: transparent;\n",
              "      border-left-color: var(--fill-color);\n",
              "      border-top-color: var(--fill-color);\n",
              "    }\n",
              "    30% {\n",
              "      border-color: transparent;\n",
              "      border-left-color: var(--fill-color);\n",
              "      border-top-color: var(--fill-color);\n",
              "      border-right-color: var(--fill-color);\n",
              "    }\n",
              "    40% {\n",
              "      border-color: transparent;\n",
              "      border-right-color: var(--fill-color);\n",
              "      border-top-color: var(--fill-color);\n",
              "    }\n",
              "    60% {\n",
              "      border-color: transparent;\n",
              "      border-right-color: var(--fill-color);\n",
              "    }\n",
              "    80% {\n",
              "      border-color: transparent;\n",
              "      border-right-color: var(--fill-color);\n",
              "      border-bottom-color: var(--fill-color);\n",
              "    }\n",
              "    90% {\n",
              "      border-color: transparent;\n",
              "      border-bottom-color: var(--fill-color);\n",
              "    }\n",
              "  }\n",
              "</style>\n",
              "\n",
              "  <script>\n",
              "    async function quickchart(key) {\n",
              "      const quickchartButtonEl =\n",
              "        document.querySelector('#' + key + ' button');\n",
              "      quickchartButtonEl.disabled = true;  // To prevent multiple clicks.\n",
              "      quickchartButtonEl.classList.add('colab-df-spinner');\n",
              "      try {\n",
              "        const charts = await google.colab.kernel.invokeFunction(\n",
              "            'suggestCharts', [key], {});\n",
              "      } catch (error) {\n",
              "        console.error('Error during call to suggestCharts:', error);\n",
              "      }\n",
              "      quickchartButtonEl.classList.remove('colab-df-spinner');\n",
              "      quickchartButtonEl.classList.add('colab-df-quickchart-complete');\n",
              "    }\n",
              "    (() => {\n",
              "      let quickchartButtonEl =\n",
              "        document.querySelector('#df-6c8059ed-356c-45ff-a72a-10dfab523bf3 button');\n",
              "      quickchartButtonEl.style.display =\n",
              "        google.colab.kernel.accessAllowed ? 'block' : 'none';\n",
              "    })();\n",
              "  </script>\n",
              "</div>\n",
              "    </div>\n",
              "  </div>\n"
            ]
          },
          "metadata": {},
          "execution_count": 8
        }
      ],
      "source": [
        "df = pd.DataFrame(np.array(dataset['data'], dtype=np.uint8))\n",
        "df['labels'] = dataset['labels']\n",
        "df.head()"
      ]
    },
    {
      "cell_type": "markdown",
      "metadata": {
        "id": "awWtDxyyMiPf"
      },
      "source": [
        "Dimensioni del dataset:"
      ]
    },
    {
      "cell_type": "code",
      "execution_count": 9,
      "metadata": {
        "colab": {
          "base_uri": "https://localhost:8080/"
        },
        "id": "kXb1PToGMiPg",
        "outputId": "6df5a85b-4653-43be-cf91-bfcef617605f"
      },
      "outputs": [
        {
          "output_type": "execute_result",
          "data": {
            "text/plain": [
              "(4000, 19201)"
            ]
          },
          "metadata": {},
          "execution_count": 9
        }
      ],
      "source": [
        "df.shape"
      ]
    },
    {
      "cell_type": "markdown",
      "metadata": {
        "id": "7-8Qv1iAMiPg"
      },
      "source": [
        "Tipi delle features:"
      ]
    },
    {
      "cell_type": "code",
      "execution_count": 10,
      "metadata": {
        "colab": {
          "base_uri": "https://localhost:8080/"
        },
        "id": "xL3BOO9EMiPh",
        "outputId": "320a7488-f63b-4058-8c2f-3daec57ee615"
      },
      "outputs": [
        {
          "output_type": "execute_result",
          "data": {
            "text/plain": [
              "0         uint8\n",
              "1         uint8\n",
              "2         uint8\n",
              "3         uint8\n",
              "4         uint8\n",
              "          ...  \n",
              "19196     uint8\n",
              "19197     uint8\n",
              "19198     uint8\n",
              "19199     uint8\n",
              "labels    int64\n",
              "Length: 19201, dtype: object"
            ]
          },
          "metadata": {},
          "execution_count": 10
        }
      ],
      "source": [
        "df.dtypes"
      ]
    },
    {
      "cell_type": "markdown",
      "metadata": {
        "id": "Q4a6rrp6MiPh"
      },
      "source": [
        "## Pre-processamento del dataset"
      ]
    },
    {
      "cell_type": "markdown",
      "metadata": {
        "id": "nfP17iMLMiPh"
      },
      "source": [
        " Visualizzazione di alcune immagini casuali del dataset originale:"
      ]
    },
    {
      "cell_type": "code",
      "execution_count": 11,
      "metadata": {
        "id": "tSEaBvosMiPh"
      },
      "outputs": [],
      "source": [
        "n_images_to_show = 10\n",
        "n_images_per_row = 5"
      ]
    },
    {
      "cell_type": "code",
      "execution_count": 12,
      "metadata": {
        "id": "WtgElIO8MiPh"
      },
      "outputs": [],
      "source": [
        "random_indexes = df.sample(n=n_images_to_show, random_state=RANDOM_STATE).index"
      ]
    },
    {
      "cell_type": "markdown",
      "metadata": {
        "id": "KVKUi2jnMiPi"
      },
      "source": [
        "Normalizzazione del nuovo dataset:"
      ]
    },
    {
      "cell_type": "code",
      "execution_count": 13,
      "metadata": {
        "colab": {
          "base_uri": "https://localhost:8080/"
        },
        "id": "UxT_P2A_MiPi",
        "outputId": "e935638f-3165-43a1-eca3-daf0d8543ae3"
      },
      "outputs": [
        {
          "output_type": "stream",
          "name": "stdout",
          "text": [
            "Normalized dataset dimension:  (4000, 19201)\n"
          ]
        }
      ],
      "source": [
        "from sklearn.preprocessing import StandardScaler\n",
        "\n",
        "scaler = StandardScaler()\n",
        "scaled_data = scaler.fit_transform(scaler.fit_transform(np.array(dataset['data']).astype('uint8')))\n",
        "\n",
        "df = pd.DataFrame(scaled_data)\n",
        "\n",
        "df[\"labels\"] = dataset[\"labels\"]\n",
        "print(\"Normalized dataset dimension: \", df.shape) # 4000 x 19201"
      ]
    },
    {
      "cell_type": "markdown",
      "metadata": {
        "id": "-ppeMmMJMiPi"
      },
      "source": [
        "Salvataggio del nuovo dataset in scala di grigi:"
      ]
    },
    {
      "cell_type": "markdown",
      "metadata": {
        "id": "_Edv0W2tMiPk"
      },
      "source": [
        "## Esplorazione del dataset"
      ]
    },
    {
      "cell_type": "markdown",
      "metadata": {
        "id": "iL1QvhjgMiPk"
      },
      "source": [
        "Importazione del dataset modificato:"
      ]
    },
    {
      "cell_type": "code",
      "execution_count": 14,
      "metadata": {
        "colab": {
          "base_uri": "https://localhost:8080/",
          "height": 255
        },
        "id": "-R8FbDhjMiPk",
        "outputId": "c511be75-9997-411c-ad3e-a8c3eecc8e5a"
      },
      "outputs": [
        {
          "output_type": "execute_result",
          "data": {
            "text/plain": [
              "          0         1         2         3         4         5         6  \\\n",
              "0 -0.367295 -0.202086 -0.156337 -0.255318 -0.215134 -0.264477 -0.286256   \n",
              "1 -0.507858 -0.531112 -0.719967 -0.843554 -0.708561 -0.613805 -0.588135   \n",
              "2  0.640068  0.690983  0.736077  0.756448  0.654237  0.620489  0.712265   \n",
              "3  0.101246  0.032932  0.360324  0.191741 -0.050659  0.084852  0.154951   \n",
              "4 -0.461004 -0.507610 -0.555575 -0.467083 -0.450099 -0.450785 -0.448806   \n",
              "\n",
              "          7         8         9  ...     19191     19192     19193     19194  \\\n",
              "0 -0.289458 -0.284247 -0.279008  ... -0.112946 -0.111198 -0.156120 -0.183496   \n",
              "1 -0.593375 -0.705630 -0.673915  ... -1.060437 -1.115751 -1.030344 -1.097548   \n",
              "2  0.809321  0.792622  0.743105  ...  0.695207  0.865450  0.774507  0.730556   \n",
              "3  0.154729  0.113727  0.185589  ... -0.809630 -0.641379 -0.494529 -0.297753   \n",
              "4 -0.382971 -0.284247 -0.302238  ... -0.140814 -0.139103 -0.099718 -0.183496   \n",
              "\n",
              "      19195     19196     19197     19198     19199  labels  \n",
              "0 -0.157644 -0.131615 -0.127391 -0.066084 -0.037103       1  \n",
              "1 -1.040685 -0.981152 -1.033385 -0.946537 -0.920162       1  \n",
              "2  0.782367  0.746241  0.580416  0.530353  0.703528       1  \n",
              "3  0.070237 -0.046661  0.099107  0.132728 -0.378932       1  \n",
              "4 -0.186129 -0.159933 -0.155703 -0.122887 -0.208017       1  \n",
              "\n",
              "[5 rows x 19201 columns]"
            ],
            "text/html": [
              "\n",
              "  <div id=\"df-4bfbd9f6-8e37-4482-b63b-bf82c4bdde81\" class=\"colab-df-container\">\n",
              "    <div>\n",
              "<style scoped>\n",
              "    .dataframe tbody tr th:only-of-type {\n",
              "        vertical-align: middle;\n",
              "    }\n",
              "\n",
              "    .dataframe tbody tr th {\n",
              "        vertical-align: top;\n",
              "    }\n",
              "\n",
              "    .dataframe thead th {\n",
              "        text-align: right;\n",
              "    }\n",
              "</style>\n",
              "<table border=\"1\" class=\"dataframe\">\n",
              "  <thead>\n",
              "    <tr style=\"text-align: right;\">\n",
              "      <th></th>\n",
              "      <th>0</th>\n",
              "      <th>1</th>\n",
              "      <th>2</th>\n",
              "      <th>3</th>\n",
              "      <th>4</th>\n",
              "      <th>5</th>\n",
              "      <th>6</th>\n",
              "      <th>7</th>\n",
              "      <th>8</th>\n",
              "      <th>9</th>\n",
              "      <th>...</th>\n",
              "      <th>19191</th>\n",
              "      <th>19192</th>\n",
              "      <th>19193</th>\n",
              "      <th>19194</th>\n",
              "      <th>19195</th>\n",
              "      <th>19196</th>\n",
              "      <th>19197</th>\n",
              "      <th>19198</th>\n",
              "      <th>19199</th>\n",
              "      <th>labels</th>\n",
              "    </tr>\n",
              "  </thead>\n",
              "  <tbody>\n",
              "    <tr>\n",
              "      <th>0</th>\n",
              "      <td>-0.367295</td>\n",
              "      <td>-0.202086</td>\n",
              "      <td>-0.156337</td>\n",
              "      <td>-0.255318</td>\n",
              "      <td>-0.215134</td>\n",
              "      <td>-0.264477</td>\n",
              "      <td>-0.286256</td>\n",
              "      <td>-0.289458</td>\n",
              "      <td>-0.284247</td>\n",
              "      <td>-0.279008</td>\n",
              "      <td>...</td>\n",
              "      <td>-0.112946</td>\n",
              "      <td>-0.111198</td>\n",
              "      <td>-0.156120</td>\n",
              "      <td>-0.183496</td>\n",
              "      <td>-0.157644</td>\n",
              "      <td>-0.131615</td>\n",
              "      <td>-0.127391</td>\n",
              "      <td>-0.066084</td>\n",
              "      <td>-0.037103</td>\n",
              "      <td>1</td>\n",
              "    </tr>\n",
              "    <tr>\n",
              "      <th>1</th>\n",
              "      <td>-0.507858</td>\n",
              "      <td>-0.531112</td>\n",
              "      <td>-0.719967</td>\n",
              "      <td>-0.843554</td>\n",
              "      <td>-0.708561</td>\n",
              "      <td>-0.613805</td>\n",
              "      <td>-0.588135</td>\n",
              "      <td>-0.593375</td>\n",
              "      <td>-0.705630</td>\n",
              "      <td>-0.673915</td>\n",
              "      <td>...</td>\n",
              "      <td>-1.060437</td>\n",
              "      <td>-1.115751</td>\n",
              "      <td>-1.030344</td>\n",
              "      <td>-1.097548</td>\n",
              "      <td>-1.040685</td>\n",
              "      <td>-0.981152</td>\n",
              "      <td>-1.033385</td>\n",
              "      <td>-0.946537</td>\n",
              "      <td>-0.920162</td>\n",
              "      <td>1</td>\n",
              "    </tr>\n",
              "    <tr>\n",
              "      <th>2</th>\n",
              "      <td>0.640068</td>\n",
              "      <td>0.690983</td>\n",
              "      <td>0.736077</td>\n",
              "      <td>0.756448</td>\n",
              "      <td>0.654237</td>\n",
              "      <td>0.620489</td>\n",
              "      <td>0.712265</td>\n",
              "      <td>0.809321</td>\n",
              "      <td>0.792622</td>\n",
              "      <td>0.743105</td>\n",
              "      <td>...</td>\n",
              "      <td>0.695207</td>\n",
              "      <td>0.865450</td>\n",
              "      <td>0.774507</td>\n",
              "      <td>0.730556</td>\n",
              "      <td>0.782367</td>\n",
              "      <td>0.746241</td>\n",
              "      <td>0.580416</td>\n",
              "      <td>0.530353</td>\n",
              "      <td>0.703528</td>\n",
              "      <td>1</td>\n",
              "    </tr>\n",
              "    <tr>\n",
              "      <th>3</th>\n",
              "      <td>0.101246</td>\n",
              "      <td>0.032932</td>\n",
              "      <td>0.360324</td>\n",
              "      <td>0.191741</td>\n",
              "      <td>-0.050659</td>\n",
              "      <td>0.084852</td>\n",
              "      <td>0.154951</td>\n",
              "      <td>0.154729</td>\n",
              "      <td>0.113727</td>\n",
              "      <td>0.185589</td>\n",
              "      <td>...</td>\n",
              "      <td>-0.809630</td>\n",
              "      <td>-0.641379</td>\n",
              "      <td>-0.494529</td>\n",
              "      <td>-0.297753</td>\n",
              "      <td>0.070237</td>\n",
              "      <td>-0.046661</td>\n",
              "      <td>0.099107</td>\n",
              "      <td>0.132728</td>\n",
              "      <td>-0.378932</td>\n",
              "      <td>1</td>\n",
              "    </tr>\n",
              "    <tr>\n",
              "      <th>4</th>\n",
              "      <td>-0.461004</td>\n",
              "      <td>-0.507610</td>\n",
              "      <td>-0.555575</td>\n",
              "      <td>-0.467083</td>\n",
              "      <td>-0.450099</td>\n",
              "      <td>-0.450785</td>\n",
              "      <td>-0.448806</td>\n",
              "      <td>-0.382971</td>\n",
              "      <td>-0.284247</td>\n",
              "      <td>-0.302238</td>\n",
              "      <td>...</td>\n",
              "      <td>-0.140814</td>\n",
              "      <td>-0.139103</td>\n",
              "      <td>-0.099718</td>\n",
              "      <td>-0.183496</td>\n",
              "      <td>-0.186129</td>\n",
              "      <td>-0.159933</td>\n",
              "      <td>-0.155703</td>\n",
              "      <td>-0.122887</td>\n",
              "      <td>-0.208017</td>\n",
              "      <td>1</td>\n",
              "    </tr>\n",
              "  </tbody>\n",
              "</table>\n",
              "<p>5 rows × 19201 columns</p>\n",
              "</div>\n",
              "    <div class=\"colab-df-buttons\">\n",
              "\n",
              "  <div class=\"colab-df-container\">\n",
              "    <button class=\"colab-df-convert\" onclick=\"convertToInteractive('df-4bfbd9f6-8e37-4482-b63b-bf82c4bdde81')\"\n",
              "            title=\"Convert this dataframe to an interactive table.\"\n",
              "            style=\"display:none;\">\n",
              "\n",
              "  <svg xmlns=\"http://www.w3.org/2000/svg\" height=\"24px\" viewBox=\"0 -960 960 960\">\n",
              "    <path d=\"M120-120v-720h720v720H120Zm60-500h600v-160H180v160Zm220 220h160v-160H400v160Zm0 220h160v-160H400v160ZM180-400h160v-160H180v160Zm440 0h160v-160H620v160ZM180-180h160v-160H180v160Zm440 0h160v-160H620v160Z\"/>\n",
              "  </svg>\n",
              "    </button>\n",
              "\n",
              "  <style>\n",
              "    .colab-df-container {\n",
              "      display:flex;\n",
              "      gap: 12px;\n",
              "    }\n",
              "\n",
              "    .colab-df-convert {\n",
              "      background-color: #E8F0FE;\n",
              "      border: none;\n",
              "      border-radius: 50%;\n",
              "      cursor: pointer;\n",
              "      display: none;\n",
              "      fill: #1967D2;\n",
              "      height: 32px;\n",
              "      padding: 0 0 0 0;\n",
              "      width: 32px;\n",
              "    }\n",
              "\n",
              "    .colab-df-convert:hover {\n",
              "      background-color: #E2EBFA;\n",
              "      box-shadow: 0px 1px 2px rgba(60, 64, 67, 0.3), 0px 1px 3px 1px rgba(60, 64, 67, 0.15);\n",
              "      fill: #174EA6;\n",
              "    }\n",
              "\n",
              "    .colab-df-buttons div {\n",
              "      margin-bottom: 4px;\n",
              "    }\n",
              "\n",
              "    [theme=dark] .colab-df-convert {\n",
              "      background-color: #3B4455;\n",
              "      fill: #D2E3FC;\n",
              "    }\n",
              "\n",
              "    [theme=dark] .colab-df-convert:hover {\n",
              "      background-color: #434B5C;\n",
              "      box-shadow: 0px 1px 3px 1px rgba(0, 0, 0, 0.15);\n",
              "      filter: drop-shadow(0px 1px 2px rgba(0, 0, 0, 0.3));\n",
              "      fill: #FFFFFF;\n",
              "    }\n",
              "  </style>\n",
              "\n",
              "    <script>\n",
              "      const buttonEl =\n",
              "        document.querySelector('#df-4bfbd9f6-8e37-4482-b63b-bf82c4bdde81 button.colab-df-convert');\n",
              "      buttonEl.style.display =\n",
              "        google.colab.kernel.accessAllowed ? 'block' : 'none';\n",
              "\n",
              "      async function convertToInteractive(key) {\n",
              "        const element = document.querySelector('#df-4bfbd9f6-8e37-4482-b63b-bf82c4bdde81');\n",
              "        const dataTable =\n",
              "          await google.colab.kernel.invokeFunction('convertToInteractive',\n",
              "                                                    [key], {});\n",
              "        if (!dataTable) return;\n",
              "\n",
              "        const docLinkHtml = 'Like what you see? Visit the ' +\n",
              "          '<a target=\"_blank\" href=https://colab.research.google.com/notebooks/data_table.ipynb>data table notebook</a>'\n",
              "          + ' to learn more about interactive tables.';\n",
              "        element.innerHTML = '';\n",
              "        dataTable['output_type'] = 'display_data';\n",
              "        await google.colab.output.renderOutput(dataTable, element);\n",
              "        const docLink = document.createElement('div');\n",
              "        docLink.innerHTML = docLinkHtml;\n",
              "        element.appendChild(docLink);\n",
              "      }\n",
              "    </script>\n",
              "  </div>\n",
              "\n",
              "\n",
              "<div id=\"df-c52f9294-7e75-4df0-a595-6f41c9027317\">\n",
              "  <button class=\"colab-df-quickchart\" onclick=\"quickchart('df-c52f9294-7e75-4df0-a595-6f41c9027317')\"\n",
              "            title=\"Suggest charts\"\n",
              "            style=\"display:none;\">\n",
              "\n",
              "<svg xmlns=\"http://www.w3.org/2000/svg\" height=\"24px\"viewBox=\"0 0 24 24\"\n",
              "     width=\"24px\">\n",
              "    <g>\n",
              "        <path d=\"M19 3H5c-1.1 0-2 .9-2 2v14c0 1.1.9 2 2 2h14c1.1 0 2-.9 2-2V5c0-1.1-.9-2-2-2zM9 17H7v-7h2v7zm4 0h-2V7h2v10zm4 0h-2v-4h2v4z\"/>\n",
              "    </g>\n",
              "</svg>\n",
              "  </button>\n",
              "\n",
              "<style>\n",
              "  .colab-df-quickchart {\n",
              "      --bg-color: #E8F0FE;\n",
              "      --fill-color: #1967D2;\n",
              "      --hover-bg-color: #E2EBFA;\n",
              "      --hover-fill-color: #174EA6;\n",
              "      --disabled-fill-color: #AAA;\n",
              "      --disabled-bg-color: #DDD;\n",
              "  }\n",
              "\n",
              "  [theme=dark] .colab-df-quickchart {\n",
              "      --bg-color: #3B4455;\n",
              "      --fill-color: #D2E3FC;\n",
              "      --hover-bg-color: #434B5C;\n",
              "      --hover-fill-color: #FFFFFF;\n",
              "      --disabled-bg-color: #3B4455;\n",
              "      --disabled-fill-color: #666;\n",
              "  }\n",
              "\n",
              "  .colab-df-quickchart {\n",
              "    background-color: var(--bg-color);\n",
              "    border: none;\n",
              "    border-radius: 50%;\n",
              "    cursor: pointer;\n",
              "    display: none;\n",
              "    fill: var(--fill-color);\n",
              "    height: 32px;\n",
              "    padding: 0;\n",
              "    width: 32px;\n",
              "  }\n",
              "\n",
              "  .colab-df-quickchart:hover {\n",
              "    background-color: var(--hover-bg-color);\n",
              "    box-shadow: 0 1px 2px rgba(60, 64, 67, 0.3), 0 1px 3px 1px rgba(60, 64, 67, 0.15);\n",
              "    fill: var(--button-hover-fill-color);\n",
              "  }\n",
              "\n",
              "  .colab-df-quickchart-complete:disabled,\n",
              "  .colab-df-quickchart-complete:disabled:hover {\n",
              "    background-color: var(--disabled-bg-color);\n",
              "    fill: var(--disabled-fill-color);\n",
              "    box-shadow: none;\n",
              "  }\n",
              "\n",
              "  .colab-df-spinner {\n",
              "    border: 2px solid var(--fill-color);\n",
              "    border-color: transparent;\n",
              "    border-bottom-color: var(--fill-color);\n",
              "    animation:\n",
              "      spin 1s steps(1) infinite;\n",
              "  }\n",
              "\n",
              "  @keyframes spin {\n",
              "    0% {\n",
              "      border-color: transparent;\n",
              "      border-bottom-color: var(--fill-color);\n",
              "      border-left-color: var(--fill-color);\n",
              "    }\n",
              "    20% {\n",
              "      border-color: transparent;\n",
              "      border-left-color: var(--fill-color);\n",
              "      border-top-color: var(--fill-color);\n",
              "    }\n",
              "    30% {\n",
              "      border-color: transparent;\n",
              "      border-left-color: var(--fill-color);\n",
              "      border-top-color: var(--fill-color);\n",
              "      border-right-color: var(--fill-color);\n",
              "    }\n",
              "    40% {\n",
              "      border-color: transparent;\n",
              "      border-right-color: var(--fill-color);\n",
              "      border-top-color: var(--fill-color);\n",
              "    }\n",
              "    60% {\n",
              "      border-color: transparent;\n",
              "      border-right-color: var(--fill-color);\n",
              "    }\n",
              "    80% {\n",
              "      border-color: transparent;\n",
              "      border-right-color: var(--fill-color);\n",
              "      border-bottom-color: var(--fill-color);\n",
              "    }\n",
              "    90% {\n",
              "      border-color: transparent;\n",
              "      border-bottom-color: var(--fill-color);\n",
              "    }\n",
              "  }\n",
              "</style>\n",
              "\n",
              "  <script>\n",
              "    async function quickchart(key) {\n",
              "      const quickchartButtonEl =\n",
              "        document.querySelector('#' + key + ' button');\n",
              "      quickchartButtonEl.disabled = true;  // To prevent multiple clicks.\n",
              "      quickchartButtonEl.classList.add('colab-df-spinner');\n",
              "      try {\n",
              "        const charts = await google.colab.kernel.invokeFunction(\n",
              "            'suggestCharts', [key], {});\n",
              "      } catch (error) {\n",
              "        console.error('Error during call to suggestCharts:', error);\n",
              "      }\n",
              "      quickchartButtonEl.classList.remove('colab-df-spinner');\n",
              "      quickchartButtonEl.classList.add('colab-df-quickchart-complete');\n",
              "    }\n",
              "    (() => {\n",
              "      let quickchartButtonEl =\n",
              "        document.querySelector('#df-c52f9294-7e75-4df0-a595-6f41c9027317 button');\n",
              "      quickchartButtonEl.style.display =\n",
              "        google.colab.kernel.accessAllowed ? 'block' : 'none';\n",
              "    })();\n",
              "  </script>\n",
              "</div>\n",
              "    </div>\n",
              "  </div>\n"
            ]
          },
          "metadata": {},
          "execution_count": 14
        }
      ],
      "source": [
        "dataset = df\n",
        "dataset.head()"
      ]
    },
    {
      "cell_type": "markdown",
      "metadata": {
        "id": "8UX7IAHBMiPk"
      },
      "source": [
        "Dimensione del dataset:"
      ]
    },
    {
      "cell_type": "code",
      "execution_count": 15,
      "metadata": {
        "colab": {
          "base_uri": "https://localhost:8080/"
        },
        "id": "7SKqURKNMiPl",
        "outputId": "0d91b62b-69e8-4530-c580-ae010b4cff6e"
      },
      "outputs": [
        {
          "output_type": "execute_result",
          "data": {
            "text/plain": [
              "(4000, 19201)"
            ]
          },
          "metadata": {},
          "execution_count": 15
        }
      ],
      "source": [
        "dataset.shape"
      ]
    },
    {
      "cell_type": "markdown",
      "metadata": {
        "id": "i113ACYUMiPm"
      },
      "source": [
        "Tipi delle features:"
      ]
    },
    {
      "cell_type": "code",
      "execution_count": 16,
      "metadata": {
        "id": "ndN0d33JMiPm",
        "colab": {
          "base_uri": "https://localhost:8080/"
        },
        "outputId": "ffe3e7bc-1463-4dd2-d9b0-502ee081ba34"
      },
      "outputs": [
        {
          "output_type": "execute_result",
          "data": {
            "text/plain": [
              "0         float64\n",
              "1         float64\n",
              "2         float64\n",
              "3         float64\n",
              "4         float64\n",
              "           ...   \n",
              "19196     float64\n",
              "19197     float64\n",
              "19198     float64\n",
              "19199     float64\n",
              "labels      int64\n",
              "Length: 19201, dtype: object"
            ]
          },
          "metadata": {},
          "execution_count": 16
        }
      ],
      "source": [
        "dataset.dtypes"
      ]
    },
    {
      "cell_type": "markdown",
      "metadata": {
        "id": "PzYZYN04MiPp"
      },
      "source": [
        "### Suddivisione del dataset in __training set__ , __validation test__ e __test set__\n",
        "Si opta per una divisione del tipo:\n",
        " - $70\\%$ __training set__\n",
        " - $20\\%$ __validation set__\n",
        " - $10\\%$ __test set__"
      ]
    },
    {
      "cell_type": "code",
      "execution_count": 17,
      "metadata": {
        "id": "0CxsqBclMiPp"
      },
      "outputs": [],
      "source": [
        "from sklearn.model_selection import train_test_split\n",
        "\n",
        "X_train_val, X_test, y_train_val, y_test = train_test_split(dataset.drop(\"labels\", axis=1), dataset[\"labels\"], test_size=TEST_SET_SIZE, random_state=RANDOM_STATE)"
      ]
    },
    {
      "cell_type": "code",
      "execution_count": 18,
      "metadata": {
        "id": "0WIkI_qdMiPq"
      },
      "outputs": [],
      "source": [
        "X_train, X_val, y_train, y_val = train_test_split(X_train_val, y_train_val, test_size=VALIDATION_SET_SIZE / (TRAINING_SET_SIZE + VALIDATION_SET_SIZE), random_state=RANDOM_STATE)"
      ]
    },
    {
      "cell_type": "code",
      "execution_count": 19,
      "metadata": {
        "id": "aZFvldZDMiPq"
      },
      "outputs": [],
      "source": [
        "assert abs(X_train.shape[0] - dataset.shape[0] * TRAINING_SET_SIZE) <= 1, \"Invalid training split size: \" + str(X_train.shape[0]) + \" instead of \" + str(dataset.shape[0] * TRAINING_SET_SIZE)\n",
        "assert abs(X_val.shape[0] - dataset.shape[0] * VALIDATION_SET_SIZE) <= 1, \"Invalid validation split size: \" + str(X_val.shape[0]) + \" instead of \" + str(dataset.shape[0] * VALIDATION_SET_SIZE)"
      ]
    },
    {
      "cell_type": "markdown",
      "metadata": {
        "id": "X_eVMIL4MiPq"
      },
      "source": [
        "## Ricampionamento del training set\n",
        "\n",
        "Per equilibrare le classi del __training set__, utilizziamo sia l'**oversampling** della classe meno rappresentata che che l'**undersampling** di quella più rappresentata."
      ]
    },
    {
      "cell_type": "markdown",
      "metadata": {
        "id": "1lvMfXc0MiPq"
      },
      "source": [
        "Distribuzione iniziale delle classe del __training set__:"
      ]
    },
    {
      "cell_type": "code",
      "execution_count": 20,
      "metadata": {
        "colab": {
          "base_uri": "https://localhost:8080/",
          "height": 428
        },
        "id": "5X4fDzJUMiPr",
        "outputId": "386d4214-dabf-40f6-eddc-1b43890958cd"
      },
      "outputs": [
        {
          "output_type": "display_data",
          "data": {
            "text/plain": [
              "<Figure size 640x480 with 1 Axes>"
            ],
            "image/png": "[encoded data removed]"
          },
          "metadata": {}
        }
      ],
      "source": [
        "target_features_number = dict(y_train.value_counts())\n",
        "\n",
        "plt.pie(target_features_number.values(), labels=target_features_number.keys(),\n",
        "                autopct=lambda pct : f\"{pct:.1f}%\\n({round(pct/100*len(X_train))})\",\n",
        "                startangle=90,\n",
        "                wedgeprops=dict(edgecolor=(0, 0, 0, 1), width=0.7),\n",
        "                explode=[0.05, 0.05])\n",
        "\n",
        "plt.title(\"Distribuzione delle classi nel training set\")\n",
        "plt.text(0, -1.2, f\"Su {len(X_train)} esempi\", ha='center')\n",
        "\n",
        "plt.show()"
      ]
    },
    {
      "cell_type": "code",
      "execution_count": 21,
      "metadata": {
        "id": "-8Gfi-yNMiPr"
      },
      "outputs": [],
      "source": [
        "resized_X_train = X_train.copy()\n",
        "resized_y_train = y_train.copy()"
      ]
    },
    {
      "cell_type": "markdown",
      "metadata": {
        "id": "5GZRyrP8MiPs"
      },
      "source": [
        "### Undersampling per la classe minoritaria"
      ]
    },
    {
      "cell_type": "code",
      "execution_count": 22,
      "metadata": {
        "colab": {
          "base_uri": "https://localhost:8080/"
        },
        "id": "VKbiCtzNMiPs",
        "outputId": "495776be-0a67-48d3-a11f-f9b2dff5bd4c"
      },
      "outputs": [
        {
          "output_type": "stream",
          "name": "stdout",
          "text": [
            "Desired proportion of positive examples: 0.333 --> pos / (pos + neg)\n",
            "Desired proportion of positive to negative examples: 0.499 --> pos / neg\n",
            "Negative examples to remove: 688, 32.8% of the actual negative examples\n"
          ]
        }
      ],
      "source": [
        "pos_proportion = 0.333  # percentuale della classe positiva che vogliamo ottenere dall'undersampling (pos / (pos + neg))\n",
        "\n",
        "pos_to_neg_proportion = pos_proportion / (1 - pos_proportion)   # rapporto tra le classi positiva e negativa che vogliamo ottenere (pos / neg)\n",
        "neg_elem_to_remove = round(target_features_number[0] - target_features_number[1] * (1 - pos_proportion) / pos_proportion)   # numero di elementi negativi da rimuovere\n",
        "print(f\"Desired proportion of positive examples: {pos_proportion:.3f} --> pos / (pos + neg)\")\n",
        "print(f\"Desired proportion of positive to negative examples: {pos_to_neg_proportion:.3f} --> pos / neg\")\n",
        "print(f\"Negative examples to remove: {neg_elem_to_remove}, {neg_elem_to_remove / target_features_number[0] * 100:.1f}% of the actual negative examples\")"
      ]
    },
    {
      "cell_type": "code",
      "execution_count": 23,
      "metadata": {
        "colab": {
          "base_uri": "https://localhost:8080/"
        },
        "id": "5dVW8y0WMiPs",
        "outputId": "b034a4cf-95b9-49ff-ceae-0edea5a6d418"
      },
      "outputs": [
        {
          "output_type": "execute_result",
          "data": {
            "text/plain": [
              "(2111, 19200)"
            ]
          },
          "metadata": {},
          "execution_count": 23
        }
      ],
      "source": [
        "from imblearn.under_sampling import RandomUnderSampler\n",
        "\n",
        "undersampler = RandomUnderSampler(sampling_strategy=pos_to_neg_proportion, random_state=RANDOM_STATE)\n",
        "resized_X_train, resized_y_train = undersampler.fit_resample(resized_X_train, resized_y_train)\n",
        "resized_X_train.shape"
      ]
    },
    {
      "cell_type": "code",
      "execution_count": 24,
      "metadata": {
        "colab": {
          "base_uri": "https://localhost:8080/"
        },
        "id": "It9nB7DeMiPt",
        "outputId": "6b1bf75c-0534-4a5a-8e3a-666d0cce18d6"
      },
      "outputs": [
        {
          "output_type": "execute_result",
          "data": {
            "text/plain": [
              "0    1408\n",
              "1     703\n",
              "Name: labels, dtype: int64"
            ]
          },
          "metadata": {},
          "execution_count": 24
        }
      ],
      "source": [
        "resized_y_train.value_counts()"
      ]
    },
    {
      "cell_type": "code",
      "execution_count": 25,
      "metadata": {
        "colab": {
          "base_uri": "https://localhost:8080/",
          "height": 428
        },
        "id": "s8Kd1JwwMiPt",
        "outputId": "c581c1ff-aefd-40c9-a3c7-784cd3352e9a"
      },
      "outputs": [
        {
          "output_type": "display_data",
          "data": {
            "text/plain": [
              "<Figure size 640x480 with 1 Axes>"
            ],
            "image/png": "[encoded data removed]"
          },
          "metadata": {}
        }
      ],
      "source": [
        "target_features_number = dict(resized_y_train.value_counts())\n",
        "\n",
        "plt.pie(target_features_number.values(), labels=target_features_number.keys(),\n",
        "        autopct=lambda pct : f\"{pct:.1f}%\\n({round(pct/100*len(resized_X_train))})\",\n",
        "        startangle=90,\n",
        "        wedgeprops=dict(edgecolor=(0, 0, 0, 1), width=0.7),\n",
        "        explode=[0.05, 0.05])\n",
        "\n",
        "plt.title(\"Distribuzione delle classi nel training set dopo undersampling\")\n",
        "plt.text(0, -1.2, f\"Su {len(resized_X_train)} esempi\", ha='center')\n",
        "plt.show()\n"
      ]
    },
    {
      "cell_type": "markdown",
      "metadata": {
        "id": "V34MNhU-MiPt"
      },
      "source": [
        "### Oversampling per la classe maggioritaria"
      ]
    },
    {
      "cell_type": "code",
      "execution_count": 26,
      "metadata": {
        "colab": {
          "base_uri": "https://localhost:8080/"
        },
        "id": "kip_M7ouMiPt",
        "outputId": "2ecfbb1b-33d1-459d-a1ec-5d096e1dc810"
      },
      "outputs": [
        {
          "output_type": "stream",
          "name": "stdout",
          "text": [
            "Desired proportion of positive examples: 0.400 --> pos / (pos + neg)\n",
            "Desired proportion of positive to negative examples: 0.667 --> pos / neg\n",
            "Positive examples to generate: 354, 25.1% of the actual positive examples\n"
          ]
        }
      ],
      "source": [
        "pos_proportion = 0.4    # percentuale della classe positiva che vogliamo ottenere dall'oversampling (pos / (pos + neg))\n",
        "\n",
        "pos_to_neg_proportion = pos_proportion / (1 - pos_proportion)   # rapporto tra le classi positiva e negativa che vogliamo ottenere (pos / neg)\n",
        "pos_elem_to_generate = round(target_features_number[0] - target_features_number[1] * (1 - pos_proportion) / pos_proportion)   # numero di elementi negativi da rimuovere\n",
        "print(f\"Desired proportion of positive examples: {pos_proportion:.3f} --> pos / (pos + neg)\")\n",
        "print(f\"Desired proportion of positive to negative examples: {pos_to_neg_proportion:.3f} --> pos / neg\")\n",
        "print(f\"Positive examples to generate: {pos_elem_to_generate}, {pos_elem_to_generate / target_features_number[0] * 100:.1f}% of the actual positive examples\")"
      ]
    },
    {
      "cell_type": "code",
      "execution_count": 27,
      "metadata": {
        "colab": {
          "base_uri": "https://localhost:8080/"
        },
        "id": "G6-XDs-fMiPu",
        "outputId": "46c21ee5-405f-46d1-9366-ea6286a4450e"
      },
      "outputs": [
        {
          "output_type": "execute_result",
          "data": {
            "text/plain": [
              "(2346,)"
            ]
          },
          "metadata": {},
          "execution_count": 27
        }
      ],
      "source": [
        "from imblearn.over_sampling import RandomOverSampler\n",
        "\n",
        "oversampler = RandomOverSampler(sampling_strategy=pos_to_neg_proportion, random_state=RANDOM_STATE)\n",
        "resized_X_train, resized_y_train = oversampler.fit_resample(resized_X_train, resized_y_train)\n",
        "resized_y_train.shape"
      ]
    },
    {
      "cell_type": "code",
      "execution_count": 28,
      "metadata": {
        "colab": {
          "base_uri": "https://localhost:8080/"
        },
        "id": "OwmQVLKGMiPu",
        "outputId": "05647247-863c-460f-809f-c7231ea5c225"
      },
      "outputs": [
        {
          "output_type": "execute_result",
          "data": {
            "text/plain": [
              "0    1408\n",
              "1     938\n",
              "Name: labels, dtype: int64"
            ]
          },
          "metadata": {},
          "execution_count": 28
        }
      ],
      "source": [
        "resized_y_train.value_counts()"
      ]
    },
    {
      "cell_type": "code",
      "execution_count": 29,
      "metadata": {
        "colab": {
          "base_uri": "https://localhost:8080/",
          "height": 428
        },
        "id": "Ot-tzqnXMiPu",
        "outputId": "66cbeb72-5f1c-4360-ac31-db8a9fd273dd"
      },
      "outputs": [
        {
          "output_type": "display_data",
          "data": {
            "text/plain": [
              "<Figure size 640x480 with 1 Axes>"
            ],
            "image/png": "[encoded data removed]"
          },
          "metadata": {}
        }
      ],
      "source": [
        "target_features_number = dict(resized_y_train.value_counts())\n",
        "\n",
        "plt.pie(target_features_number.values(), labels=target_features_number.keys(),\n",
        "        autopct=lambda pct : f\"{pct:.1f}%\\n({round(pct/100*len(resized_X_train))})\",\n",
        "        startangle=90,\n",
        "        wedgeprops=dict(edgecolor=(0, 0, 0, 1), width=0.7),\n",
        "        explode=[0.05, 0.05])\n",
        "\n",
        "plt.title(\"Distribuzione delle classi nel training set dopo oversampling\")\n",
        "plt.text(0, -1.2, f\"Su {len(resized_X_train)} esempi\", ha='center')\n",
        "plt.show()"
      ]
    },
    {
      "cell_type": "markdown",
      "metadata": {
        "id": "Xj9FwzjoMiPv"
      },
      "source": [
        "## __PCA__ - Principal Components Analysis"
      ]
    },
    {
      "cell_type": "markdown",
      "metadata": {
        "id": "PclHQ9FkMiPv"
      },
      "source": [
        "Percentuali di __varianza spiegata__ di riferimento:"
      ]
    },
    {
      "cell_type": "code",
      "execution_count": 30,
      "metadata": {
        "id": "Vla40gNeMiPv"
      },
      "outputs": [],
      "source": [
        "target_var = [0.6, 0.7, 0.8, 0.9, 0.95, 0.99]"
      ]
    },
    {
      "cell_type": "markdown",
      "metadata": {
        "id": "ktnnhkHWMiPv"
      },
      "source": [
        "Calcolo della varianza spiegata da ogni componente:"
      ]
    },
    {
      "cell_type": "code",
      "execution_count": 31,
      "metadata": {
        "id": "ptt096X5MiPv"
      },
      "outputs": [],
      "source": [
        "from sklearn.decomposition import PCA\n",
        "\n",
        "pca = PCA().fit(resized_X_train)"
      ]
    },
    {
      "cell_type": "markdown",
      "metadata": {
        "id": "5iVjXghbMiPw"
      },
      "source": [
        "### Analisi del numero ottimale di componenti da utilizzare:"
      ]
    },
    {
      "cell_type": "code",
      "execution_count": 32,
      "metadata": {
        "colab": {
          "base_uri": "https://localhost:8080/",
          "height": 576
        },
        "id": "0yealnqcMiPw",
        "outputId": "39636ec9-2379-4140-e822-44b3722ef5a9"
      },
      "outputs": [
        {
          "output_type": "stream",
          "name": "stdout",
          "text": [
            "Varianza spiegata: 0.6 -> Componenti necessarie: 5\n",
            "Varianza spiegata: 0.7 -> Componenti necessarie: 10\n",
            "Varianza spiegata: 0.8 -> Componenti necessarie: 26\n",
            "Varianza spiegata: 0.9 -> Componenti necessarie: 92\n",
            "Varianza spiegata: 0.95 -> Componenti necessarie: 212\n",
            "Varianza spiegata: 0.99 -> Componenti necessarie: 679\n"
          ]
        },
        {
          "output_type": "display_data",
          "data": {
            "text/plain": [
              "<Figure size 640x480 with 1 Axes>"
            ],
            "image/png": "[encoded data removed]"
          },
          "metadata": {}
        }
      ],
      "source": [
        "tot_var_explained = []\n",
        "prev_var_explained = 0\n",
        "n_comp_for_target_var = []\n",
        "\n",
        "for i, comp_var_explained in enumerate(pca.explained_variance_ratio_):\n",
        "    tot_var_explained.append(prev_var_explained + comp_var_explained)\n",
        "    prev_var_explained += comp_var_explained\n",
        "    if len(n_comp_for_target_var) < len(target_var) and prev_var_explained >= target_var[len(n_comp_for_target_var)]:\n",
        "        n_comp_for_target_var.append(i + 1)\n",
        "\n",
        "for var, n_comp in zip(target_var, n_comp_for_target_var):\n",
        "    print(\"Varianza spiegata: {} -> Componenti necessarie: {}\".format(var, n_comp))\n",
        "\n",
        "# Crea un grafico della varianza spiegata per ogni componente\n",
        "plt.plot(range(1, pca.n_components_ + 1), tot_var_explained, marker='o', color='red', label=\"Var. spiegata cumulativa\")\n",
        "for i, crit_val in enumerate(n_comp_for_target_var):\n",
        "    plt.plot(crit_val, target_var[i], marker='o', color='red', markeredgecolor='black')\n",
        "\n",
        "plt.plot(range(1, pca.n_components_ + 1), pca.explained_variance_ratio_, marker='o', label=\"Var. spiegata dalla singola componente\")\n",
        "for i, var in enumerate(target_var):\n",
        "    plt.axhline(y=var, color='black', linestyle='--', linewidth=0.9 - i * 0.05)\n",
        "\n",
        "plt.xlabel('Componenti')\n",
        "plt.ylabel('Varianza spiegata')\n",
        "plt.title(\"Risultati della PCA\")\n",
        "plt.legend()\n",
        "\n",
        "plt.show()"
      ]
    },
    {
      "cell_type": "code",
      "execution_count": 33,
      "metadata": {
        "id": "MDIf2awgMiPx"
      },
      "outputs": [],
      "source": [
        "assert abs(sum(pca.explained_variance_ratio_) - 1) <= EPSILON, \"La somma della varianza spiegata dalle singole componenti non è 1\""
      ]
    },
    {
      "cell_type": "code",
      "execution_count": 34,
      "metadata": {
        "colab": {
          "base_uri": "https://localhost:8080/"
        },
        "id": "2tPM9AkxMiPx",
        "outputId": "7673ad2c-2fd9-4e4e-f5e2-5e485f4ed284"
      },
      "outputs": [
        {
          "output_type": "execute_result",
          "data": {
            "text/plain": [
              "92"
            ]
          },
          "metadata": {},
          "execution_count": 34
        }
      ],
      "source": [
        "max_component_index = 3\n",
        "\n",
        "max_var_n_comp = n_comp_for_target_var[max_component_index]\n",
        "max_var_n_comp"
      ]
    },
    {
      "cell_type": "code",
      "execution_count": 35,
      "metadata": {
        "colab": {
          "base_uri": "https://localhost:8080/",
          "height": 564
        },
        "id": "xACg8TslMiPx",
        "outputId": "c3586cfe-583a-4b12-dc26-0f7d225abf50"
      },
      "outputs": [
        {
          "output_type": "display_data",
          "data": {
            "text/plain": [
              "<Figure size 1400x600 with 2 Axes>"
            ],
            "image/png": "[encoded data removed]"
          },
          "metadata": {}
        }
      ],
      "source": [
        "tot_var_explained = []\n",
        "prev_var_explained = 0\n",
        "incr_ratio = []\n",
        "\n",
        "for i in range(max_var_n_comp):\n",
        "    comp_var_explained = pca.explained_variance_ratio_[i]\n",
        "    tot_var_explained.append(prev_var_explained + comp_var_explained)\n",
        "    if i > 0:\n",
        "        incr_ratio.append(tot_var_explained[-2] - tot_var_explained[-1])\n",
        "    else:\n",
        "        incr_ratio.append(0 - tot_var_explained[-1])\n",
        "    prev_var_explained += comp_var_explained\n",
        "\n",
        "fig, ax = plt.subplots(1, 2, figsize=(14, 6))\n",
        "\n",
        "# Crea un grafico della varianza spiegata per ogni componente\n",
        "ax[0].plot(range(1, max_var_n_comp + 1), tot_var_explained, marker='o', color='red', label=\"Var. spiegata cumulativa\")\n",
        "ax[0].plot(range(1, max_var_n_comp + 1), pca.explained_variance_ratio_[:max_var_n_comp], marker='o', label=\"Var. spiegata dalla singola componente\")\n",
        "for i, var in enumerate(target_var[:max_component_index + 1]):\n",
        "    ax[0].axhline(y=var, color='black', linestyle='--', linewidth=0.9 - i * 0.1)\n",
        "    ax[0].axvline(x=n_comp_for_target_var[i], ymax=var/ax[0].get_ylim()[1], color='black', linestyle='--', linewidth=0.9 - i * 0.1)\n",
        "\n",
        "ax[0].set_xlabel('Componenti')\n",
        "ax[0].set_ylabel('Varianza spiegata')\n",
        "ax[0].set_title(\"Risultati della PCA\")\n",
        "ax[0].legend()\n",
        "\n",
        "# Crea un grafico del rapporto incrementale per ogni componente\n",
        "ax[1].plot(range(1, max_var_n_comp + 1), incr_ratio, marker='o', label=\"Rapporto incrementale\")\n",
        "for crit_val in n_comp_for_target_var[:max_component_index + 1]:\n",
        "    ax[1].plot(crit_val, incr_ratio[crit_val - 1], marker='o', color='blue', markeredgecolor='black')\n",
        "    ax[1].axvline(x=crit_val, color='black', linestyle='--', linewidth=0.9 - i * 0.1)\n",
        "ax[1].set_xlabel('Componenti')\n",
        "ax[1].set_ylabel('Rapporto incrementale')\n",
        "ax[1].set_title(\"Rapporto incrementale della varianza spiegata cumulativa\")\n",
        "\n",
        "plt.show()"
      ]
    },
    {
      "cell_type": "markdown",
      "metadata": {
        "id": "SR_CPkyVMiPy"
      },
      "source": [
        "Analisi numerica del numero di componenti:"
      ]
    },
    {
      "cell_type": "code",
      "execution_count": 36,
      "metadata": {
        "colab": {
          "base_uri": "https://localhost:8080/",
          "height": 423
        },
        "id": "vn-WxsJqMiPy",
        "outputId": "a318cb74-eb27-42df-876a-0a4a3f5c35ec"
      },
      "outputs": [
        {
          "output_type": "execute_result",
          "data": {
            "text/plain": [
              "    Numero di componenti  Varianza spiegata cumulativa  Derivata prima  \\\n",
              "0                      1                      0.479948       -0.479948   \n",
              "1                      2                      0.536918       -0.056970   \n",
              "2                      3                      0.567651       -0.030733   \n",
              "3                      4                      0.596097       -0.028447   \n",
              "4                      5                      0.623585       -0.027488   \n",
              "..                   ...                           ...             ...   \n",
              "87                    88                      0.897731       -0.000761   \n",
              "88                    89                      0.898479       -0.000748   \n",
              "89                    90                      0.899223       -0.000744   \n",
              "90                    91                      0.899952       -0.000729   \n",
              "91                    92                      0.900674       -0.000722   \n",
              "\n",
              "    Derivata seconda  \n",
              "0           0.479948  \n",
              "1           0.422978  \n",
              "2           0.026237  \n",
              "3           0.002286  \n",
              "4           0.000959  \n",
              "..               ...  \n",
              "87          0.000012  \n",
              "88          0.000013  \n",
              "89          0.000003  \n",
              "90          0.000016  \n",
              "91          0.000006  \n",
              "\n",
              "[92 rows x 4 columns]"
            ],
            "text/html": [
              "\n",
              "  <div id=\"df-85d30cfe-3c63-40a8-b78c-70c9b53c26f2\" class=\"colab-df-container\">\n",
              "    <div>\n",
              "<style scoped>\n",
              "    .dataframe tbody tr th:only-of-type {\n",
              "        vertical-align: middle;\n",
              "    }\n",
              "\n",
              "    .dataframe tbody tr th {\n",
              "        vertical-align: top;\n",
              "    }\n",
              "\n",
              "    .dataframe thead th {\n",
              "        text-align: right;\n",
              "    }\n",
              "</style>\n",
              "<table border=\"1\" class=\"dataframe\">\n",
              "  <thead>\n",
              "    <tr style=\"text-align: right;\">\n",
              "      <th></th>\n",
              "      <th>Numero di componenti</th>\n",
              "      <th>Varianza spiegata cumulativa</th>\n",
              "      <th>Derivata prima</th>\n",
              "      <th>Derivata seconda</th>\n",
              "    </tr>\n",
              "  </thead>\n",
              "  <tbody>\n",
              "    <tr>\n",
              "      <th>0</th>\n",
              "      <td>1</td>\n",
              "      <td>0.479948</td>\n",
              "      <td>-0.479948</td>\n",
              "      <td>0.479948</td>\n",
              "    </tr>\n",
              "    <tr>\n",
              "      <th>1</th>\n",
              "      <td>2</td>\n",
              "      <td>0.536918</td>\n",
              "      <td>-0.056970</td>\n",
              "      <td>0.422978</td>\n",
              "    </tr>\n",
              "    <tr>\n",
              "      <th>2</th>\n",
              "      <td>3</td>\n",
              "      <td>0.567651</td>\n",
              "      <td>-0.030733</td>\n",
              "      <td>0.026237</td>\n",
              "    </tr>\n",
              "    <tr>\n",
              "      <th>3</th>\n",
              "      <td>4</td>\n",
              "      <td>0.596097</td>\n",
              "      <td>-0.028447</td>\n",
              "      <td>0.002286</td>\n",
              "    </tr>\n",
              "    <tr>\n",
              "      <th>4</th>\n",
              "      <td>5</td>\n",
              "      <td>0.623585</td>\n",
              "      <td>-0.027488</td>\n",
              "      <td>0.000959</td>\n",
              "    </tr>\n",
              "    <tr>\n",
              "      <th>...</th>\n",
              "      <td>...</td>\n",
              "      <td>...</td>\n",
              "      <td>...</td>\n",
              "      <td>...</td>\n",
              "    </tr>\n",
              "    <tr>\n",
              "      <th>87</th>\n",
              "      <td>88</td>\n",
              "      <td>0.897731</td>\n",
              "      <td>-0.000761</td>\n",
              "      <td>0.000012</td>\n",
              "    </tr>\n",
              "    <tr>\n",
              "      <th>88</th>\n",
              "      <td>89</td>\n",
              "      <td>0.898479</td>\n",
              "      <td>-0.000748</td>\n",
              "      <td>0.000013</td>\n",
              "    </tr>\n",
              "    <tr>\n",
              "      <th>89</th>\n",
              "      <td>90</td>\n",
              "      <td>0.899223</td>\n",
              "      <td>-0.000744</td>\n",
              "      <td>0.000003</td>\n",
              "    </tr>\n",
              "    <tr>\n",
              "      <th>90</th>\n",
              "      <td>91</td>\n",
              "      <td>0.899952</td>\n",
              "      <td>-0.000729</td>\n",
              "      <td>0.000016</td>\n",
              "    </tr>\n",
              "    <tr>\n",
              "      <th>91</th>\n",
              "      <td>92</td>\n",
              "      <td>0.900674</td>\n",
              "      <td>-0.000722</td>\n",
              "      <td>0.000006</td>\n",
              "    </tr>\n",
              "  </tbody>\n",
              "</table>\n",
              "<p>92 rows × 4 columns</p>\n",
              "</div>\n",
              "    <div class=\"colab-df-buttons\">\n",
              "\n",
              "  <div class=\"colab-df-container\">\n",
              "    <button class=\"colab-df-convert\" onclick=\"convertToInteractive('df-85d30cfe-3c63-40a8-b78c-70c9b53c26f2')\"\n",
              "            title=\"Convert this dataframe to an interactive table.\"\n",
              "            style=\"display:none;\">\n",
              "\n",
              "  <svg xmlns=\"http://www.w3.org/2000/svg\" height=\"24px\" viewBox=\"0 -960 960 960\">\n",
              "    <path d=\"M120-120v-720h720v720H120Zm60-500h600v-160H180v160Zm220 220h160v-160H400v160Zm0 220h160v-160H400v160ZM180-400h160v-160H180v160Zm440 0h160v-160H620v160ZM180-180h160v-160H180v160Zm440 0h160v-160H620v160Z\"/>\n",
              "  </svg>\n",
              "    </button>\n",
              "\n",
              "  <style>\n",
              "    .colab-df-container {\n",
              "      display:flex;\n",
              "      gap: 12px;\n",
              "    }\n",
              "\n",
              "    .colab-df-convert {\n",
              "      background-color: #E8F0FE;\n",
              "      border: none;\n",
              "      border-radius: 50%;\n",
              "      cursor: pointer;\n",
              "      display: none;\n",
              "      fill: #1967D2;\n",
              "      height: 32px;\n",
              "      padding: 0 0 0 0;\n",
              "      width: 32px;\n",
              "    }\n",
              "\n",
              "    .colab-df-convert:hover {\n",
              "      background-color: #E2EBFA;\n",
              "      box-shadow: 0px 1px 2px rgba(60, 64, 67, 0.3), 0px 1px 3px 1px rgba(60, 64, 67, 0.15);\n",
              "      fill: #174EA6;\n",
              "    }\n",
              "\n",
              "    .colab-df-buttons div {\n",
              "      margin-bottom: 4px;\n",
              "    }\n",
              "\n",
              "    [theme=dark] .colab-df-convert {\n",
              "      background-color: #3B4455;\n",
              "      fill: #D2E3FC;\n",
              "    }\n",
              "\n",
              "    [theme=dark] .colab-df-convert:hover {\n",
              "      background-color: #434B5C;\n",
              "      box-shadow: 0px 1px 3px 1px rgba(0, 0, 0, 0.15);\n",
              "      filter: drop-shadow(0px 1px 2px rgba(0, 0, 0, 0.3));\n",
              "      fill: #FFFFFF;\n",
              "    }\n",
              "  </style>\n",
              "\n",
              "    <script>\n",
              "      const buttonEl =\n",
              "        document.querySelector('#df-85d30cfe-3c63-40a8-b78c-70c9b53c26f2 button.colab-df-convert');\n",
              "      buttonEl.style.display =\n",
              "        google.colab.kernel.accessAllowed ? 'block' : 'none';\n",
              "\n",
              "      async function convertToInteractive(key) {\n",
              "        const element = document.querySelector('#df-85d30cfe-3c63-40a8-b78c-70c9b53c26f2');\n",
              "        const dataTable =\n",
              "          await google.colab.kernel.invokeFunction('convertToInteractive',\n",
              "                                                    [key], {});\n",
              "        if (!dataTable) return;\n",
              "\n",
              "        const docLinkHtml = 'Like what you see? Visit the ' +\n",
              "          '<a target=\"_blank\" href=https://colab.research.google.com/notebooks/data_table.ipynb>data table notebook</a>'\n",
              "          + ' to learn more about interactive tables.';\n",
              "        element.innerHTML = '';\n",
              "        dataTable['output_type'] = 'display_data';\n",
              "        await google.colab.output.renderOutput(dataTable, element);\n",
              "        const docLink = document.createElement('div');\n",
              "        docLink.innerHTML = docLinkHtml;\n",
              "        element.appendChild(docLink);\n",
              "      }\n",
              "    </script>\n",
              "  </div>\n",
              "\n",
              "\n",
              "<div id=\"df-c65ed04a-d612-4233-9788-7b110c177dba\">\n",
              "  <button class=\"colab-df-quickchart\" onclick=\"quickchart('df-c65ed04a-d612-4233-9788-7b110c177dba')\"\n",
              "            title=\"Suggest charts\"\n",
              "            style=\"display:none;\">\n",
              "\n",
              "<svg xmlns=\"http://www.w3.org/2000/svg\" height=\"24px\"viewBox=\"0 0 24 24\"\n",
              "     width=\"24px\">\n",
              "    <g>\n",
              "        <path d=\"M19 3H5c-1.1 0-2 .9-2 2v14c0 1.1.9 2 2 2h14c1.1 0 2-.9 2-2V5c0-1.1-.9-2-2-2zM9 17H7v-7h2v7zm4 0h-2V7h2v10zm4 0h-2v-4h2v4z\"/>\n",
              "    </g>\n",
              "</svg>\n",
              "  </button>\n",
              "\n",
              "<style>\n",
              "  .colab-df-quickchart {\n",
              "      --bg-color: #E8F0FE;\n",
              "      --fill-color: #1967D2;\n",
              "      --hover-bg-color: #E2EBFA;\n",
              "      --hover-fill-color: #174EA6;\n",
              "      --disabled-fill-color: #AAA;\n",
              "      --disabled-bg-color: #DDD;\n",
              "  }\n",
              "\n",
              "  [theme=dark] .colab-df-quickchart {\n",
              "      --bg-color: #3B4455;\n",
              "      --fill-color: #D2E3FC;\n",
              "      --hover-bg-color: #434B5C;\n",
              "      --hover-fill-color: #FFFFFF;\n",
              "      --disabled-bg-color: #3B4455;\n",
              "      --disabled-fill-color: #666;\n",
              "  }\n",
              "\n",
              "  .colab-df-quickchart {\n",
              "    background-color: var(--bg-color);\n",
              "    border: none;\n",
              "    border-radius: 50%;\n",
              "    cursor: pointer;\n",
              "    display: none;\n",
              "    fill: var(--fill-color);\n",
              "    height: 32px;\n",
              "    padding: 0;\n",
              "    width: 32px;\n",
              "  }\n",
              "\n",
              "  .colab-df-quickchart:hover {\n",
              "    background-color: var(--hover-bg-color);\n",
              "    box-shadow: 0 1px 2px rgba(60, 64, 67, 0.3), 0 1px 3px 1px rgba(60, 64, 67, 0.15);\n",
              "    fill: var(--button-hover-fill-color);\n",
              "  }\n",
              "\n",
              "  .colab-df-quickchart-complete:disabled,\n",
              "  .colab-df-quickchart-complete:disabled:hover {\n",
              "    background-color: var(--disabled-bg-color);\n",
              "    fill: var(--disabled-fill-color);\n",
              "    box-shadow: none;\n",
              "  }\n",
              "\n",
              "  .colab-df-spinner {\n",
              "    border: 2px solid var(--fill-color);\n",
              "    border-color: transparent;\n",
              "    border-bottom-color: var(--fill-color);\n",
              "    animation:\n",
              "      spin 1s steps(1) infinite;\n",
              "  }\n",
              "\n",
              "  @keyframes spin {\n",
              "    0% {\n",
              "      border-color: transparent;\n",
              "      border-bottom-color: var(--fill-color);\n",
              "      border-left-color: var(--fill-color);\n",
              "    }\n",
              "    20% {\n",
              "      border-color: transparent;\n",
              "      border-left-color: var(--fill-color);\n",
              "      border-top-color: var(--fill-color);\n",
              "    }\n",
              "    30% {\n",
              "      border-color: transparent;\n",
              "      border-left-color: var(--fill-color);\n",
              "      border-top-color: var(--fill-color);\n",
              "      border-right-color: var(--fill-color);\n",
              "    }\n",
              "    40% {\n",
              "      border-color: transparent;\n",
              "      border-right-color: var(--fill-color);\n",
              "      border-top-color: var(--fill-color);\n",
              "    }\n",
              "    60% {\n",
              "      border-color: transparent;\n",
              "      border-right-color: var(--fill-color);\n",
              "    }\n",
              "    80% {\n",
              "      border-color: transparent;\n",
              "      border-right-color: var(--fill-color);\n",
              "      border-bottom-color: var(--fill-color);\n",
              "    }\n",
              "    90% {\n",
              "      border-color: transparent;\n",
              "      border-bottom-color: var(--fill-color);\n",
              "    }\n",
              "  }\n",
              "</style>\n",
              "\n",
              "  <script>\n",
              "    async function quickchart(key) {\n",
              "      const quickchartButtonEl =\n",
              "        document.querySelector('#' + key + ' button');\n",
              "      quickchartButtonEl.disabled = true;  // To prevent multiple clicks.\n",
              "      quickchartButtonEl.classList.add('colab-df-spinner');\n",
              "      try {\n",
              "        const charts = await google.colab.kernel.invokeFunction(\n",
              "            'suggestCharts', [key], {});\n",
              "      } catch (error) {\n",
              "        console.error('Error during call to suggestCharts:', error);\n",
              "      }\n",
              "      quickchartButtonEl.classList.remove('colab-df-spinner');\n",
              "      quickchartButtonEl.classList.add('colab-df-quickchart-complete');\n",
              "    }\n",
              "    (() => {\n",
              "      let quickchartButtonEl =\n",
              "        document.querySelector('#df-c65ed04a-d612-4233-9788-7b110c177dba button');\n",
              "      quickchartButtonEl.style.display =\n",
              "        google.colab.kernel.accessAllowed ? 'block' : 'none';\n",
              "    })();\n",
              "  </script>\n",
              "</div>\n",
              "    </div>\n",
              "  </div>\n"
            ]
          },
          "metadata": {},
          "execution_count": 36
        }
      ],
      "source": [
        "APPROX = 6\n",
        "\n",
        "data = []\n",
        "for i, ratio in enumerate([0 - incr_ratio[0]] + [incr_ratio[i+1] - incr_ratio[i] for i in range(len(incr_ratio) - 1)]):\n",
        "    data.append([i+1, round(tot_var_explained[i], APPROX), round(incr_ratio[i], APPROX), round(ratio, APPROX)])\n",
        "\n",
        "df = pd.DataFrame(data, columns=['Numero di componenti', 'Varianza spiegata cumulativa', 'Derivata prima', 'Derivata seconda'])\n",
        "df"
      ]
    },
    {
      "cell_type": "code",
      "execution_count": 37,
      "metadata": {
        "id": "BlPkXB6JMiPy"
      },
      "outputs": [],
      "source": [
        "pca = PCA(n_components=max_var_n_comp).fit(resized_X_train)"
      ]
    },
    {
      "cell_type": "markdown",
      "metadata": {
        "id": "NIhgbpHeMiPy"
      },
      "source": [
        "Riepilogo dei valori di __varianza spiegata__ dalle componenti selezionate. Le colonne 1 e 2 dovrebbero coincidere a meno di errori di approsimazione: la differenza deriva dalle __operazioni di bilanciamento__ del dataset."
      ]
    },
    {
      "cell_type": "code",
      "execution_count": 38,
      "metadata": {
        "colab": {
          "base_uri": "https://localhost:8080/",
          "height": 423
        },
        "id": "IGRxBJ1BMiPz",
        "outputId": "cffd62b8-f2e8-441f-bbfd-522739e168af"
      },
      "outputs": [
        {
          "output_type": "execute_result",
          "data": {
            "text/plain": [
              "     Covarianza   Autovalore  Autovalore normalizzato  Somma cumulativa\n",
              "0   9029.811793  9015.810182                 0.532928          0.532928\n",
              "1   1094.094571  1070.182221                 0.063259          0.596186\n",
              "2    577.131985   577.313269                 0.034125          0.630312\n",
              "3    534.258194   534.369214                 0.031587          0.661898\n",
              "4    516.908700   516.352366                 0.030522          0.692420\n",
              "..          ...          ...                      ...               ...\n",
              "87    14.093744    14.098981                 0.000833          0.996780\n",
              "88    13.915650    13.918783                 0.000823          0.997603\n",
              "89    13.780947    13.775323                 0.000814          0.998417\n",
              "90    13.469772    13.464541                 0.000796          0.999213\n",
              "91    13.319318    13.318740                 0.000787          1.000000\n",
              "\n",
              "[92 rows x 4 columns]"
            ],
            "text/html": [
              "\n",
              "  <div id=\"df-4f8339b1-406e-4dfb-b93b-3a20cf5a5658\" class=\"colab-df-container\">\n",
              "    <div>\n",
              "<style scoped>\n",
              "    .dataframe tbody tr th:only-of-type {\n",
              "        vertical-align: middle;\n",
              "    }\n",
              "\n",
              "    .dataframe tbody tr th {\n",
              "        vertical-align: top;\n",
              "    }\n",
              "\n",
              "    .dataframe thead th {\n",
              "        text-align: right;\n",
              "    }\n",
              "</style>\n",
              "<table border=\"1\" class=\"dataframe\">\n",
              "  <thead>\n",
              "    <tr style=\"text-align: right;\">\n",
              "      <th></th>\n",
              "      <th>Covarianza</th>\n",
              "      <th>Autovalore</th>\n",
              "      <th>Autovalore normalizzato</th>\n",
              "      <th>Somma cumulativa</th>\n",
              "    </tr>\n",
              "  </thead>\n",
              "  <tbody>\n",
              "    <tr>\n",
              "      <th>0</th>\n",
              "      <td>9029.811793</td>\n",
              "      <td>9015.810182</td>\n",
              "      <td>0.532928</td>\n",
              "      <td>0.532928</td>\n",
              "    </tr>\n",
              "    <tr>\n",
              "      <th>1</th>\n",
              "      <td>1094.094571</td>\n",
              "      <td>1070.182221</td>\n",
              "      <td>0.063259</td>\n",
              "      <td>0.596186</td>\n",
              "    </tr>\n",
              "    <tr>\n",
              "      <th>2</th>\n",
              "      <td>577.131985</td>\n",
              "      <td>577.313269</td>\n",
              "      <td>0.034125</td>\n",
              "      <td>0.630312</td>\n",
              "    </tr>\n",
              "    <tr>\n",
              "      <th>3</th>\n",
              "      <td>534.258194</td>\n",
              "      <td>534.369214</td>\n",
              "      <td>0.031587</td>\n",
              "      <td>0.661898</td>\n",
              "    </tr>\n",
              "    <tr>\n",
              "      <th>4</th>\n",
              "      <td>516.908700</td>\n",
              "      <td>516.352366</td>\n",
              "      <td>0.030522</td>\n",
              "      <td>0.692420</td>\n",
              "    </tr>\n",
              "    <tr>\n",
              "      <th>...</th>\n",
              "      <td>...</td>\n",
              "      <td>...</td>\n",
              "      <td>...</td>\n",
              "      <td>...</td>\n",
              "    </tr>\n",
              "    <tr>\n",
              "      <th>87</th>\n",
              "      <td>14.093744</td>\n",
              "      <td>14.098981</td>\n",
              "      <td>0.000833</td>\n",
              "      <td>0.996780</td>\n",
              "    </tr>\n",
              "    <tr>\n",
              "      <th>88</th>\n",
              "      <td>13.915650</td>\n",
              "      <td>13.918783</td>\n",
              "      <td>0.000823</td>\n",
              "      <td>0.997603</td>\n",
              "    </tr>\n",
              "    <tr>\n",
              "      <th>89</th>\n",
              "      <td>13.780947</td>\n",
              "      <td>13.775323</td>\n",
              "      <td>0.000814</td>\n",
              "      <td>0.998417</td>\n",
              "    </tr>\n",
              "    <tr>\n",
              "      <th>90</th>\n",
              "      <td>13.469772</td>\n",
              "      <td>13.464541</td>\n",
              "      <td>0.000796</td>\n",
              "      <td>0.999213</td>\n",
              "    </tr>\n",
              "    <tr>\n",
              "      <th>91</th>\n",
              "      <td>13.319318</td>\n",
              "      <td>13.318740</td>\n",
              "      <td>0.000787</td>\n",
              "      <td>1.000000</td>\n",
              "    </tr>\n",
              "  </tbody>\n",
              "</table>\n",
              "<p>92 rows × 4 columns</p>\n",
              "</div>\n",
              "    <div class=\"colab-df-buttons\">\n",
              "\n",
              "  <div class=\"colab-df-container\">\n",
              "    <button class=\"colab-df-convert\" onclick=\"convertToInteractive('df-4f8339b1-406e-4dfb-b93b-3a20cf5a5658')\"\n",
              "            title=\"Convert this dataframe to an interactive table.\"\n",
              "            style=\"display:none;\">\n",
              "\n",
              "  <svg xmlns=\"http://www.w3.org/2000/svg\" height=\"24px\" viewBox=\"0 -960 960 960\">\n",
              "    <path d=\"M120-120v-720h720v720H120Zm60-500h600v-160H180v160Zm220 220h160v-160H400v160Zm0 220h160v-160H400v160ZM180-400h160v-160H180v160Zm440 0h160v-160H620v160ZM180-180h160v-160H180v160Zm440 0h160v-160H620v160Z\"/>\n",
              "  </svg>\n",
              "    </button>\n",
              "\n",
              "  <style>\n",
              "    .colab-df-container {\n",
              "      display:flex;\n",
              "      gap: 12px;\n",
              "    }\n",
              "\n",
              "    .colab-df-convert {\n",
              "      background-color: #E8F0FE;\n",
              "      border: none;\n",
              "      border-radius: 50%;\n",
              "      cursor: pointer;\n",
              "      display: none;\n",
              "      fill: #1967D2;\n",
              "      height: 32px;\n",
              "      padding: 0 0 0 0;\n",
              "      width: 32px;\n",
              "    }\n",
              "\n",
              "    .colab-df-convert:hover {\n",
              "      background-color: #E2EBFA;\n",
              "      box-shadow: 0px 1px 2px rgba(60, 64, 67, 0.3), 0px 1px 3px 1px rgba(60, 64, 67, 0.15);\n",
              "      fill: #174EA6;\n",
              "    }\n",
              "\n",
              "    .colab-df-buttons div {\n",
              "      margin-bottom: 4px;\n",
              "    }\n",
              "\n",
              "    [theme=dark] .colab-df-convert {\n",
              "      background-color: #3B4455;\n",
              "      fill: #D2E3FC;\n",
              "    }\n",
              "\n",
              "    [theme=dark] .colab-df-convert:hover {\n",
              "      background-color: #434B5C;\n",
              "      box-shadow: 0px 1px 3px 1px rgba(0, 0, 0, 0.15);\n",
              "      filter: drop-shadow(0px 1px 2px rgba(0, 0, 0, 0.3));\n",
              "      fill: #FFFFFF;\n",
              "    }\n",
              "  </style>\n",
              "\n",
              "    <script>\n",
              "      const buttonEl =\n",
              "        document.querySelector('#df-4f8339b1-406e-4dfb-b93b-3a20cf5a5658 button.colab-df-convert');\n",
              "      buttonEl.style.display =\n",
              "        google.colab.kernel.accessAllowed ? 'block' : 'none';\n",
              "\n",
              "      async function convertToInteractive(key) {\n",
              "        const element = document.querySelector('#df-4f8339b1-406e-4dfb-b93b-3a20cf5a5658');\n",
              "        const dataTable =\n",
              "          await google.colab.kernel.invokeFunction('convertToInteractive',\n",
              "                                                    [key], {});\n",
              "        if (!dataTable) return;\n",
              "\n",
              "        const docLinkHtml = 'Like what you see? Visit the ' +\n",
              "          '<a target=\"_blank\" href=https://colab.research.google.com/notebooks/data_table.ipynb>data table notebook</a>'\n",
              "          + ' to learn more about interactive tables.';\n",
              "        element.innerHTML = '';\n",
              "        dataTable['output_type'] = 'display_data';\n",
              "        await google.colab.output.renderOutput(dataTable, element);\n",
              "        const docLink = document.createElement('div');\n",
              "        docLink.innerHTML = docLinkHtml;\n",
              "        element.appendChild(docLink);\n",
              "      }\n",
              "    </script>\n",
              "  </div>\n",
              "\n",
              "\n",
              "<div id=\"df-b50d5d93-c1f0-4336-9f88-c59c829a214a\">\n",
              "  <button class=\"colab-df-quickchart\" onclick=\"quickchart('df-b50d5d93-c1f0-4336-9f88-c59c829a214a')\"\n",
              "            title=\"Suggest charts\"\n",
              "            style=\"display:none;\">\n",
              "\n",
              "<svg xmlns=\"http://www.w3.org/2000/svg\" height=\"24px\"viewBox=\"0 0 24 24\"\n",
              "     width=\"24px\">\n",
              "    <g>\n",
              "        <path d=\"M19 3H5c-1.1 0-2 .9-2 2v14c0 1.1.9 2 2 2h14c1.1 0 2-.9 2-2V5c0-1.1-.9-2-2-2zM9 17H7v-7h2v7zm4 0h-2V7h2v10zm4 0h-2v-4h2v4z\"/>\n",
              "    </g>\n",
              "</svg>\n",
              "  </button>\n",
              "\n",
              "<style>\n",
              "  .colab-df-quickchart {\n",
              "      --bg-color: #E8F0FE;\n",
              "      --fill-color: #1967D2;\n",
              "      --hover-bg-color: #E2EBFA;\n",
              "      --hover-fill-color: #174EA6;\n",
              "      --disabled-fill-color: #AAA;\n",
              "      --disabled-bg-color: #DDD;\n",
              "  }\n",
              "\n",
              "  [theme=dark] .colab-df-quickchart {\n",
              "      --bg-color: #3B4455;\n",
              "      --fill-color: #D2E3FC;\n",
              "      --hover-bg-color: #434B5C;\n",
              "      --hover-fill-color: #FFFFFF;\n",
              "      --disabled-bg-color: #3B4455;\n",
              "      --disabled-fill-color: #666;\n",
              "  }\n",
              "\n",
              "  .colab-df-quickchart {\n",
              "    background-color: var(--bg-color);\n",
              "    border: none;\n",
              "    border-radius: 50%;\n",
              "    cursor: pointer;\n",
              "    display: none;\n",
              "    fill: var(--fill-color);\n",
              "    height: 32px;\n",
              "    padding: 0;\n",
              "    width: 32px;\n",
              "  }\n",
              "\n",
              "  .colab-df-quickchart:hover {\n",
              "    background-color: var(--hover-bg-color);\n",
              "    box-shadow: 0 1px 2px rgba(60, 64, 67, 0.3), 0 1px 3px 1px rgba(60, 64, 67, 0.15);\n",
              "    fill: var(--button-hover-fill-color);\n",
              "  }\n",
              "\n",
              "  .colab-df-quickchart-complete:disabled,\n",
              "  .colab-df-quickchart-complete:disabled:hover {\n",
              "    background-color: var(--disabled-bg-color);\n",
              "    fill: var(--disabled-fill-color);\n",
              "    box-shadow: none;\n",
              "  }\n",
              "\n",
              "  .colab-df-spinner {\n",
              "    border: 2px solid var(--fill-color);\n",
              "    border-color: transparent;\n",
              "    border-bottom-color: var(--fill-color);\n",
              "    animation:\n",
              "      spin 1s steps(1) infinite;\n",
              "  }\n",
              "\n",
              "  @keyframes spin {\n",
              "    0% {\n",
              "      border-color: transparent;\n",
              "      border-bottom-color: var(--fill-color);\n",
              "      border-left-color: var(--fill-color);\n",
              "    }\n",
              "    20% {\n",
              "      border-color: transparent;\n",
              "      border-left-color: var(--fill-color);\n",
              "      border-top-color: var(--fill-color);\n",
              "    }\n",
              "    30% {\n",
              "      border-color: transparent;\n",
              "      border-left-color: var(--fill-color);\n",
              "      border-top-color: var(--fill-color);\n",
              "      border-right-color: var(--fill-color);\n",
              "    }\n",
              "    40% {\n",
              "      border-color: transparent;\n",
              "      border-right-color: var(--fill-color);\n",
              "      border-top-color: var(--fill-color);\n",
              "    }\n",
              "    60% {\n",
              "      border-color: transparent;\n",
              "      border-right-color: var(--fill-color);\n",
              "    }\n",
              "    80% {\n",
              "      border-color: transparent;\n",
              "      border-right-color: var(--fill-color);\n",
              "      border-bottom-color: var(--fill-color);\n",
              "    }\n",
              "    90% {\n",
              "      border-color: transparent;\n",
              "      border-bottom-color: var(--fill-color);\n",
              "    }\n",
              "  }\n",
              "</style>\n",
              "\n",
              "  <script>\n",
              "    async function quickchart(key) {\n",
              "      const quickchartButtonEl =\n",
              "        document.querySelector('#' + key + ' button');\n",
              "      quickchartButtonEl.disabled = true;  // To prevent multiple clicks.\n",
              "      quickchartButtonEl.classList.add('colab-df-spinner');\n",
              "      try {\n",
              "        const charts = await google.colab.kernel.invokeFunction(\n",
              "            'suggestCharts', [key], {});\n",
              "      } catch (error) {\n",
              "        console.error('Error during call to suggestCharts:', error);\n",
              "      }\n",
              "      quickchartButtonEl.classList.remove('colab-df-spinner');\n",
              "      quickchartButtonEl.classList.add('colab-df-quickchart-complete');\n",
              "    }\n",
              "    (() => {\n",
              "      let quickchartButtonEl =\n",
              "        document.querySelector('#df-b50d5d93-c1f0-4336-9f88-c59c829a214a button');\n",
              "      quickchartButtonEl.style.display =\n",
              "        google.colab.kernel.accessAllowed ? 'block' : 'none';\n",
              "    })();\n",
              "  </script>\n",
              "</div>\n",
              "    </div>\n",
              "  </div>\n"
            ]
          },
          "metadata": {},
          "execution_count": 38
        }
      ],
      "source": [
        "eigenvalues = pca.explained_variance_\n",
        "n_samples = resized_X_train.shape[0]\n",
        "cov_matrix = np.dot(resized_X_train.T, resized_X_train) / n_samples\n",
        "\n",
        "data = []\n",
        "for eigenvalue, eigenvector in zip(eigenvalues, pca.components_):\n",
        "    data.append([np.dot(eigenvector.T, np.dot(cov_matrix, eigenvector)), eigenvalue])\n",
        "\n",
        "df_eigen = pd.DataFrame(data, columns=['Covarianza', 'Autovalore'])\n",
        "df_eigen['Autovalore normalizzato'] = df_eigen['Autovalore'] / df_eigen['Autovalore'].sum()\n",
        "df_eigen['Somma cumulativa'] = df_eigen['Autovalore normalizzato'].cumsum()\n",
        "\n",
        "df_eigen"
      ]
    },
    {
      "cell_type": "code",
      "execution_count": 39,
      "metadata": {
        "id": "vvnW2lVwMiPz"
      },
      "outputs": [],
      "source": [
        "assert abs(sum(df_eigen['Autovalore normalizzato']) - 1) <= EPSILON, \"La somma degli autovalori normalizzati non è 1\""
      ]
    },
    {
      "cell_type": "markdown",
      "metadata": {
        "id": "wqBg_tE6MiP6"
      },
      "source": [
        "Estrazione del numero di componenti finale:"
      ]
    },
    {
      "cell_type": "code",
      "execution_count": 40,
      "metadata": {
        "id": "6plSfhbBMiP6"
      },
      "outputs": [],
      "source": [
        "n_components = 84"
      ]
    },
    {
      "cell_type": "code",
      "execution_count": 41,
      "metadata": {
        "id": "9HJjyZ42MiP6"
      },
      "outputs": [],
      "source": [
        "pca = PCA(n_components=n_components).fit(resized_X_train)"
      ]
    },
    {
      "cell_type": "markdown",
      "metadata": {
        "id": "mKThspahMiP6"
      },
      "source": [
        "### Trasformazione dei vari __set__ nelle componenti selezionate"
      ]
    },
    {
      "cell_type": "markdown",
      "metadata": {
        "id": "uEmynBRZMiP6"
      },
      "source": [
        "__Training set__:"
      ]
    },
    {
      "cell_type": "code",
      "execution_count": 42,
      "metadata": {
        "colab": {
          "base_uri": "https://localhost:8080/"
        },
        "id": "00-p7O4EMiP7",
        "outputId": "73ed185d-3ded-40a5-9a6a-6d07de485657"
      },
      "outputs": [
        {
          "output_type": "execute_result",
          "data": {
            "text/plain": [
              "(2346, 84)"
            ]
          },
          "metadata": {},
          "execution_count": 42
        }
      ],
      "source": [
        "pca_X_train = pca.transform(resized_X_train)\n",
        "pca_X_train.shape"
      ]
    },
    {
      "cell_type": "markdown",
      "metadata": {
        "id": "62QrhAs1MiP7"
      },
      "source": [
        "Ricerca di eventuali correlazioni tra le componenti del __training set__ dopo la pca:"
      ]
    },
    {
      "cell_type": "code",
      "execution_count": 43,
      "metadata": {
        "colab": {
          "base_uri": "https://localhost:8080/",
          "height": 374
        },
        "id": "xdg6GC28MiP7",
        "outputId": "1d19927d-975a-44d5-c679-71baf534a000"
      },
      "outputs": [
        {
          "output_type": "display_data",
          "data": {
            "text/plain": [
              "<Figure size 600x400 with 2 Axes>"
            ],
            "image/png": "[encoded data removed]"
          },
          "metadata": {}
        }
      ],
      "source": [
        "correlation_matrix = pd.DataFrame(pca_X_train).corr()\n",
        "\n",
        "plt.figure(figsize=(6, 4))\n",
        "sns.heatmap(correlation_matrix, annot=False, cmap='coolwarm')\n",
        "plt.show()"
      ]
    },
    {
      "cell_type": "markdown",
      "metadata": {
        "id": "Rhb4PSKiMiP7"
      },
      "source": [
        "__Validation set__"
      ]
    },
    {
      "cell_type": "code",
      "execution_count": 44,
      "metadata": {
        "colab": {
          "base_uri": "https://localhost:8080/"
        },
        "id": "k92E4U-RMiP7",
        "outputId": "9192ebaa-2cce-462b-9489-abb4b86225da"
      },
      "outputs": [
        {
          "output_type": "execute_result",
          "data": {
            "text/plain": [
              "(801, 84)"
            ]
          },
          "metadata": {},
          "execution_count": 44
        }
      ],
      "source": [
        "pca_X_val = pca.transform(X_val)\n",
        "pca_X_val.shape"
      ]
    },
    {
      "cell_type": "markdown",
      "metadata": {
        "id": "cdioTdS5MiP9"
      },
      "source": [
        "Ricerca di eventuali correlazioni tra le componenti del __validation set__ dopo la pca:"
      ]
    },
    {
      "cell_type": "code",
      "execution_count": 45,
      "metadata": {
        "colab": {
          "base_uri": "https://localhost:8080/",
          "height": 374
        },
        "id": "3ZjmAmgkMiP9",
        "outputId": "61cca8e9-15b2-49fb-bd9d-fcc476e431a2"
      },
      "outputs": [
        {
          "output_type": "display_data",
          "data": {
            "text/plain": [
              "<Figure size 600x400 with 2 Axes>"
            ],
            "image/png": "[encoded data removed]"
          },
          "metadata": {}
        }
      ],
      "source": [
        "correlation_matrix = pd.DataFrame(pca_X_val).corr()\n",
        "\n",
        "plt.figure(figsize=(6, 4))\n",
        "sns.heatmap(correlation_matrix, annot=False, cmap='coolwarm')\n",
        "plt.show()"
      ]
    },
    {
      "cell_type": "markdown",
      "metadata": {
        "id": "6snoP8tHMiP9"
      },
      "source": [
        "__Test set__"
      ]
    },
    {
      "cell_type": "code",
      "execution_count": 46,
      "metadata": {
        "colab": {
          "base_uri": "https://localhost:8080/"
        },
        "id": "rwbxK27fMiP9",
        "outputId": "15e436cd-6458-4011-e485-faef76d6b2c7"
      },
      "outputs": [
        {
          "output_type": "execute_result",
          "data": {
            "text/plain": [
              "(400, 84)"
            ]
          },
          "metadata": {},
          "execution_count": 46
        }
      ],
      "source": [
        "pca_X_test = pca.transform(X_test)\n",
        "pca_X_test.shape"
      ]
    },
    {
      "cell_type": "markdown",
      "metadata": {
        "id": "gj8uGUmBMiP9"
      },
      "source": [
        "Ricerca di eventuali correlazioni tra le componenti del __test set__ dopo la pca:"
      ]
    },
    {
      "cell_type": "code",
      "execution_count": 47,
      "metadata": {
        "colab": {
          "base_uri": "https://localhost:8080/",
          "height": 374
        },
        "id": "Qpx_dm1hMiP-",
        "outputId": "21513a0a-4ad5-42b3-e896-0df555df699d"
      },
      "outputs": [
        {
          "output_type": "display_data",
          "data": {
            "text/plain": [
              "<Figure size 600x400 with 2 Axes>"
            ],
            "image/png": "[encoded data removed]"
          },
          "metadata": {}
        }
      ],
      "source": [
        "correlation_matrix = pd.DataFrame(pca_X_test).corr()\n",
        "\n",
        "plt.figure(figsize=(6, 4))\n",
        "sns.heatmap(correlation_matrix, annot=False, cmap='coolwarm')\n",
        "plt.show()"
      ]
    },
    {
      "cell_type": "code",
      "execution_count": 48,
      "metadata": {
        "id": "43Zh6FlzMiP-"
      },
      "outputs": [],
      "source": [
        "assert resized_y_train.shape[0] == pca_X_train.shape[0], \"Il numero di esempi nel training set dopo la PCA è diverso dal numero di labels\""
      ]
    },
    {
      "cell_type": "code",
      "execution_count": 49,
      "metadata": {
        "id": "8xI0wZJxMiP-"
      },
      "outputs": [],
      "source": [
        "assert y_val.shape[0] == pca_X_val.shape[0], \"Il numero di esempi nel validation set dopo la PCA è diverso dal numero di labels\""
      ]
    },
    {
      "cell_type": "code",
      "execution_count": 50,
      "metadata": {
        "id": "kXMT6b_3MiP_"
      },
      "outputs": [],
      "source": [
        "assert y_test.shape[0] == pca_X_test.shape[0], \"Il numero di esempi nel test set dopo la PCA è diverso dal numero di labels\""
      ]
    },
    {
      "cell_type": "markdown",
      "metadata": {
        "id": "Dsr4MsHHMiP_"
      },
      "source": [
        "## __Modello 1__ - __Rete neurale__\n",
        "\n",
        "Verrà utilizzata una rete neurale con _uno strato nascosto_:\n",
        " - La __funzione di loss__ per l'addestramento sarà ___binary crossentropy___;\n",
        " - La __funzione di attivazione__ per lo strato di ouput (o meglio, il nodo di ouput) sarà ___sigmoid___.\n",
        "\n",
        "Per tutti gli altri _iperparametri_ verrà fatta una ricerca degli ottimi."
      ]
    },
    {
      "cell_type": "markdown",
      "metadata": {
        "id": "vETYvM4MMiP_"
      },
      "source": [
        "### Impostazione dei __random seed__ per la riproducibilità degli addestramenti"
      ]
    },
    {
      "cell_type": "code",
      "execution_count": 51,
      "metadata": {
        "id": "6J8D3yvEMiP_"
      },
      "outputs": [],
      "source": [
        "import tensorflow as tf\n",
        "\n",
        "tf.random.set_seed(RANDOM_STATE)"
      ]
    },
    {
      "cell_type": "markdown",
      "metadata": {
        "id": "gCuqvevIMiQA"
      },
      "source": [
        "### Ricerca della migliore __funzione di attivazione__ per lo strato nascosto"
      ]
    },
    {
      "cell_type": "code",
      "execution_count": 52,
      "metadata": {
        "id": "EiELMSr9MiQA"
      },
      "outputs": [],
      "source": [
        "activations_avaible = ['exponential', 'hard_sigmoid', 'linear', 'relu', 'selu', 'elu', 'gelu', 'sigmoid', 'softmax', 'softplus', 'softsign', 'swish', 'tanh', 'mish']\n",
        "activations_accuracy = []\n",
        "epochs = 10\n",
        "batch_size = 15\n",
        "hidden_layer_nodes = n_components//2"
      ]
    },
    {
      "cell_type": "code",
      "execution_count": 53,
      "metadata": {
        "colab": {
          "base_uri": "https://localhost:8080/"
        },
        "id": "P5TPieyRMiQA",
        "outputId": "25c2e265-3a46-4ba2-e20a-dbf9de42bf1e"
      },
      "outputs": [
        {
          "output_type": "stream",
          "name": "stdout",
          "text": [
            "26/26 [==============================] - 0s 1ms/step\n",
            "Activation: exponential, Accuracy: 0.757, Explained Variance: 0.000\n",
            "26/26 [==============================] - 0s 3ms/step\n",
            "Activation: hard_sigmoid, Accuracy: 0.938, Explained Variance: 0.664\n",
            "26/26 [==============================] - 0s 2ms/step\n",
            "Activation: linear, Accuracy: 0.915, Explained Variance: 0.546\n",
            "26/26 [==============================] - 0s 4ms/step\n",
            "Activation: relu, Accuracy: 0.950, Explained Variance: 0.729\n",
            "26/26 [==============================] - 0s 2ms/step\n",
            "Activation: selu, Accuracy: 0.951, Explained Variance: 0.737\n",
            "26/26 [==============================] - 0s 3ms/step\n",
            "Activation: elu, Accuracy: 0.943, Explained Variance: 0.691\n",
            "26/26 [==============================] - 0s 2ms/step\n",
            "Activation: gelu, Accuracy: 0.949, Explained Variance: 0.724\n",
            "26/26 [==============================] - 0s 2ms/step\n",
            "Activation: sigmoid, Accuracy: 0.940, Explained Variance: 0.679\n",
            "26/26 [==============================] - 0s 1ms/step\n",
            "Activation: softmax, Accuracy: 0.926, Explained Variance: 0.603\n",
            "26/26 [==============================] - 0s 1ms/step\n",
            "Activation: softplus, Accuracy: 0.956, Explained Variance: 0.765\n",
            "26/26 [==============================] - 0s 1ms/step\n",
            "Activation: softsign, Accuracy: 0.930, Explained Variance: 0.626\n",
            "26/26 [==============================] - 0s 3ms/step\n",
            "Activation: swish, Accuracy: 0.949, Explained Variance: 0.723\n",
            "26/26 [==============================] - 0s 3ms/step\n",
            "Activation: tanh, Accuracy: 0.919, Explained Variance: 0.572\n",
            "26/26 [==============================] - 0s 5ms/step\n",
            "Activation: mish, Accuracy: 0.945, Explained Variance: 0.706\n"
          ]
        }
      ],
      "source": [
        "from keras.models import Sequential\n",
        "from keras.layers import Dense\n",
        "from sklearn.metrics import accuracy_score, explained_variance_score\n",
        "from keras.callbacks import EarlyStopping\n",
        "\n",
        "early_stopping = EarlyStopping(monitor='val_loss', restore_best_weights=True, patience=5)  # Arresta l'addestramento se la loss sulla validation set non migliora per 5 epoche consecutive\n",
        "\n",
        "activations_accuracy = []\n",
        "activations_explained_variance = []\n",
        "\n",
        "for i, activation in enumerate(activations_avaible):\n",
        "    print(f\"Testing activation function: {activation} ({i+1}/{len(activations_avaible)}):\", end=\"\\r\")\n",
        "    model = Sequential()\n",
        "    model.add(Dense(hidden_layer_nodes, input_shape=(n_components,), activation=activation))\n",
        "    model.add(Dense(1, activation='sigmoid'))\n",
        "    model.compile(loss='binary_crossentropy', optimizer='adam', metrics=['accuracy'])\n",
        "    model.fit(pca_X_train, resized_y_train, epochs=epochs, batch_size=batch_size, verbose=0, callbacks=[early_stopping], validation_data=(pca_X_val, y_val))\n",
        "\n",
        "    y_pred = model.predict(pca_X_val)\n",
        "    threshold = 0.5\n",
        "    y_pred = (y_pred > threshold).astype(int)\n",
        "    activations_accuracy.append(accuracy_score(y_val, y_pred))\n",
        "    activations_explained_variance.append(explained_variance_score(y_val, y_pred))\n",
        "    print(f\"Activation: {activation}, Accuracy: {activations_accuracy[-1]:.3f}, Explained Variance: {activations_explained_variance[-1]:.3f}\")"
      ]
    },
    {
      "cell_type": "code",
      "execution_count": 54,
      "metadata": {
        "colab": {
          "base_uri": "https://localhost:8080/"
        },
        "id": "Ti4qIpgWMiQA",
        "outputId": "423426a3-4b5d-4267-d291-c4727c7eb820"
      },
      "outputs": [
        {
          "output_type": "stream",
          "name": "stdout",
          "text": [
            "relu: Accuracy = 0.9501 --> 0.993 of max accuracy, explained variance = 0.729\n",
            "selu: Accuracy = 0.9513 --> 0.995 of max accuracy, explained variance = 0.737\n",
            "elu: Accuracy = 0.9426 --> 0.986 of max accuracy, explained variance = 0.691\n",
            "gelu: Accuracy = 0.9488 --> 0.992 of max accuracy, explained variance = 0.724\n",
            "softplus: Accuracy = 0.9563 --> 1.000 of max accuracy, explained variance = 0.765\n",
            "swish: Accuracy = 0.9488 --> 0.992 of max accuracy, explained variance = 0.723\n",
            "mish: Accuracy = 0.9451 --> 0.988 of max accuracy, explained variance = 0.706\n"
          ]
        }
      ],
      "source": [
        "threshold = 0.985\n",
        "max_accuracy = max(activations_accuracy)\n",
        "best_activations_quad = [(activations_avaible[i], acc, expl) for i, (acc, expl) in enumerate(zip(activations_accuracy, activations_explained_variance)) if acc >= max_accuracy * threshold]\n",
        "\n",
        "for activation, accuracy, expl in best_activations_quad:\n",
        "    print(f\"{activation}: Accuracy = {accuracy:.4f} --> {accuracy / max_accuracy:.3f} of max accuracy, explained variance = {expl:.3f}\")"
      ]
    },
    {
      "cell_type": "code",
      "execution_count": 55,
      "metadata": {
        "colab": {
          "base_uri": "https://localhost:8080/"
        },
        "id": "Uh8XFY4XMiQA",
        "outputId": "ea88d5a4-8c71-41b9-ada0-031f4af42ecc"
      },
      "outputs": [
        {
          "output_type": "execute_result",
          "data": {
            "text/plain": [
              "('relu', 'selu', 'elu', 'gelu', 'softplus', 'swish', 'mish')"
            ]
          },
          "metadata": {},
          "execution_count": 55
        }
      ],
      "source": [
        "batch_size = 5\n",
        "hidden_layer_nodes = [n_components//2 - 5, n_components//2, n_components//2 + 5]\n",
        "epochs = 10\n",
        "\n",
        "target_metric_str = \"f1\"\n",
        "\n",
        "best_activations, best_activations_accuracy, best_activations_explained_var = zip(*best_activations_quad)\n",
        "best_activations"
      ]
    },
    {
      "cell_type": "code",
      "execution_count": 56,
      "metadata": {
        "colab": {
          "base_uri": "https://localhost:8080/"
        },
        "id": "w12F4dwiMiQB",
        "outputId": "f5eafd5e-50c2-4d29-a9ed-ef2fc9e0b264"
      },
      "outputs": [
        {
          "output_type": "stream",
          "name": "stdout",
          "text": [
            "Testing activation function: relu (1/7)\n",
            "26/26 [==============================] - 0s 4ms/step\n",
            "26/26 [==============================] - 0s 2ms/step\n",
            "26/26 [==============================] - 0s 1ms/step\n",
            "Best f1: 0.937 with 47 hidden nodes, Accuracy = 0.969, explained variance = 0.831\n",
            "Testing activation function: selu (2/7)\n",
            "26/26 [==============================] - 0s 3ms/step\n",
            "26/26 [==============================] - 0s 1ms/step\n",
            "26/26 [==============================] - 0s 2ms/step\n",
            "Best f1: 0.917 with 42 hidden nodes, Accuracy = 0.958, explained variance = 0.772\n",
            "Testing activation function: elu (3/7)\n",
            "26/26 [==============================] - 0s 2ms/step\n",
            "26/26 [==============================] - 0s 1ms/step\n",
            "26/26 [==============================] - 0s 2ms/step\n",
            "Best f1: 0.926 with 42 hidden nodes, Accuracy = 0.963, explained variance = 0.798\n",
            "Testing activation function: gelu (4/7)\n",
            "26/26 [==============================] - 0s 1ms/step\n",
            "26/26 [==============================] - 0s 1ms/step\n",
            "26/26 [==============================] - 0s 1ms/step\n",
            "Best f1: 0.939 with 42 hidden nodes, Accuracy = 0.970, explained variance = 0.838\n",
            "Testing activation function: softplus (5/7)\n",
            "26/26 [==============================] - 0s 2ms/step\n",
            "26/26 [==============================] - 0s 1ms/step\n",
            "26/26 [==============================] - 0s 2ms/step\n",
            "Best f1: 0.942 with 47 hidden nodes, Accuracy = 0.971, explained variance = 0.845\n",
            "Testing activation function: swish (6/7)\n",
            "26/26 [==============================] - 0s 2ms/step\n",
            "26/26 [==============================] - 0s 1ms/step\n",
            "26/26 [==============================] - 0s 1ms/step\n",
            "Best f1: 0.927 with 42 hidden nodes, Accuracy = 0.964, explained variance = 0.804\n",
            "Testing activation function: mish (7/7)\n",
            "26/26 [==============================] - 0s 1ms/step\n",
            "26/26 [==============================] - 0s 1ms/step\n",
            "26/26 [==============================] - 0s 2ms/step\n",
            "Best f1: 0.925 with 37 hidden nodes, Accuracy = 0.963, explained variance = 0.797\n"
          ]
        }
      ],
      "source": [
        "from sklearn.metrics import f1_score, explained_variance_score\n",
        "from keras.callbacks import EarlyStopping\n",
        "\n",
        "early_stopping = EarlyStopping(monitor='val_loss', restore_best_weights=True, patience=5)\n",
        "\n",
        "activations_best_parameters = []\n",
        "\n",
        "for i, activation in enumerate(best_activations):\n",
        "    print(f\"Testing activation function: {activation} ({i+1}/{len(best_activations)})\")\n",
        "    target_metric, best_nodes = 0, 0\n",
        "    for j, nodes in enumerate(hidden_layer_nodes):\n",
        "        print(f\"Testing with {nodes} hidden nodes ({j+1}/{len(hidden_layer_nodes)})\", end=\"\\r\")\n",
        "        model = Sequential()\n",
        "        model.add(Dense(nodes, input_shape=(n_components,), activation=activation))\n",
        "        model.add(Dense(1, activation='sigmoid'))\n",
        "        model.compile(loss='binary_crossentropy', optimizer='adam', metrics=['accuracy'])\n",
        "        model.fit(pca_X_train, resized_y_train, epochs=epochs, batch_size=batch_size, verbose=0, validation_data=(pca_X_val, y_val), callbacks=[early_stopping])\n",
        "\n",
        "        y_pred = model.predict(pca_X_val)\n",
        "        threshold = 0.5\n",
        "        y_pred = (y_pred > threshold).astype(int)\n",
        "        f1 = f1_score(y_val, y_pred)\n",
        "        if f1 > target_metric:\n",
        "            target_metric = f1\n",
        "            accuracy = accuracy_score(y_val, y_pred)\n",
        "            explained_variance = explained_variance_score(y_val, y_pred)\n",
        "            best_nodes = nodes\n",
        "    activations_best_parameters.append((activation, target_metric, accuracy, explained_variance, best_nodes ))\n",
        "    print(f\"Best {target_metric_str}: {target_metric:.3f} with {best_nodes} hidden nodes, Accuracy = {accuracy:.3f}, explained variance = {explained_variance:.3f}\")"
      ]
    },
    {
      "cell_type": "code",
      "execution_count": 57,
      "metadata": {
        "colab": {
          "base_uri": "https://localhost:8080/"
        },
        "id": "IcwbTns5MiQB",
        "outputId": "f7b5b10e-bf6a-4b46-cae3-dc7d965fef6f"
      },
      "outputs": [
        {
          "output_type": "execute_result",
          "data": {
            "text/plain": [
              "[('relu', 0.9367088607594937, 0.968789013732834, 0.8307523059998307, 47),\n",
              " ('selu', 0.9166666666666666, 0.9575530586766542, 0.7722772277227723, 42),\n",
              " ('elu', 0.9257425742574258, 0.9625468164794008, 0.7983075230599983, 42),\n",
              " ('gelu', 0.9393939393939394, 0.9700374531835206, 0.8376237623762376, 42),\n",
              " ('softplus', 0.9420654911838792, 0.9712858926342073, 0.8445121435220444, 47),\n",
              " ('swish', 0.9273182957393483, 0.9637952559300874, 0.8041127189642041, 42),\n",
              " ('mish', 0.9249999999999999, 0.9625468164794008, 0.7974951341287975, 37)]"
            ]
          },
          "metadata": {},
          "execution_count": 57
        }
      ],
      "source": [
        "activations_best_parameters"
      ]
    },
    {
      "cell_type": "code",
      "execution_count": 58,
      "metadata": {
        "id": "_kNSzk2pMiQC"
      },
      "outputs": [],
      "source": [
        "activations, target_metric, accuracy, explained_var, nodes = zip(*activations_best_parameters)"
      ]
    },
    {
      "cell_type": "code",
      "execution_count": 59,
      "metadata": {
        "colab": {
          "base_uri": "https://localhost:8080/"
        },
        "id": "lB6ggb3oMiQC",
        "outputId": "c64af7bb-8844-44a4-8102-92015f29900b"
      },
      "outputs": [
        {
          "output_type": "stream",
          "name": "stdout",
          "text": [
            "Best activation function is: softplus with 47 hidden nodes --> Accuracy = 0.9712858926342073, F1 = 0.9420654911838792, Explained Variance = 0.8445121435220444\n"
          ]
        }
      ],
      "source": [
        "best_index_metrics = np.argmax(target_metric)\n",
        "best_activation_function, target_metric, accuracy, explained_var, best_nodes = activations_best_parameters[best_index_metrics]\n",
        "print(f\"Best activation function is: {best_activation_function} with {best_nodes} hidden nodes --> Accuracy = {accuracy}, F1 = {target_metric}, Explained Variance = {explained_var}\")"
      ]
    },
    {
      "cell_type": "markdown",
      "metadata": {
        "id": "qS9HYTNsLJfq"
      },
      "source": [
        "A causa di fattori probabilistici della libreria __keras__ (come la inizializzazione dei pesi), la migliore funzione di attivazione può variare da esecuzione a esecuzione. Per questo viene scelta la funzione ___mish___, quella che ha dato risultati migliori negli esperimenti eseguiti."
      ]
    },
    {
      "cell_type": "code",
      "execution_count": 60,
      "metadata": {
        "colab": {
          "base_uri": "https://localhost:8080/",
          "height": 0
        },
        "id": "d7AxUvg2MiQC",
        "outputId": "9bc0e835-6b9a-41e2-9ba5-4d76976380eb"
      },
      "outputs": [
        {
          "output_type": "execute_result",
          "data": {
            "text/plain": [
              "'mish'"
            ],
            "application/vnd.google.colaboratory.intrinsic+json": {
              "type": "string"
            }
          },
          "metadata": {},
          "execution_count": 60
        }
      ],
      "source": [
        "best_activation_function = 'mish'\n",
        "best_activation_function"
      ]
    },
    {
      "cell_type": "markdown",
      "metadata": {
        "id": "87hv_1UwMiQC"
      },
      "source": [
        "### Ricerca della migliore __architettura__ per lo strato nascosto della rete\n",
        "Si eseguono diverse prove facendo variare il __numero di nodi__ dello __strato nascosto__."
      ]
    },
    {
      "cell_type": "code",
      "execution_count": 61,
      "metadata": {
        "id": "fEEVaMWqMiQD"
      },
      "outputs": [],
      "source": [
        "epochs = 50\n",
        "batch_size = 5\n",
        "patience = 10\n",
        "\n",
        "base_cardinality = n_components//2\n",
        "lower_bound = base_cardinality//2\n",
        "upper_bound = 3 * (base_cardinality//2)\n",
        "multiplier = 5\n",
        "\n",
        "hidden_layer_nodes = [hidden_nodes for hidden_nodes in range(lower_bound, upper_bound, multiplier)]"
      ]
    },
    {
      "cell_type": "code",
      "execution_count": 62,
      "metadata": {
        "colab": {
          "base_uri": "https://localhost:8080/"
        },
        "id": "_SRw7cDhMiQD",
        "outputId": "3f78b112-8ce0-4329-f094-d716e7313d22"
      },
      "outputs": [
        {
          "output_type": "stream",
          "name": "stdout",
          "text": [
            "Testing hidden layer dimension: 21 (1/9)\n",
            "26/26 [==============================] - 0s 1ms/step\n",
            "Hidden nodes: 21, Best epochs: 20,  Accuracy: 0.9612983770287141, F1: 0.9238329238329237, Explained Variance: 0.7923161546923922\n",
            "Testing hidden layer dimension: 26 (2/9)\n",
            "26/26 [==============================] - 0s 2ms/step\n",
            "Hidden nodes: 26, Best epochs: 23,  Accuracy: 0.9525593008739076, F1: 0.905940594059406, Explained Variance: 0.7440805619023441\n",
            "Testing hidden layer dimension: 31 (3/9)\n",
            "26/26 [==============================] - 0s 2ms/step\n",
            "Hidden nodes: 31, Best epochs: 20,  Accuracy: 0.9588014981273408, F1: 0.9185185185185185, Explained Variance: 0.7782178217821782\n",
            "Testing hidden layer dimension: 36 (4/9)\n",
            "26/26 [==============================] - 0s 1ms/step\n",
            "Hidden nodes: 36, Best epochs: 25,  Accuracy: 0.9637952559300874, F1: 0.9280397022332506, Explained Variance: 0.8048574088178049\n",
            "Testing hidden layer dimension: 41 (5/9)\n",
            "26/26 [==============================] - 0s 2ms/step\n",
            "Hidden nodes: 41, Best epochs: 18,  Accuracy: 0.9563046192259675, F1: 0.9122807017543859, Explained Variance: 0.7634424980959634\n",
            "Testing hidden layer dimension: 46 (6/9)\n",
            "26/26 [==============================] - 0s 3ms/step\n",
            "Hidden nodes: 46, Best epochs: 20,  Accuracy: 0.9600499375780275, F1: 0.9215686274509804, Explained Variance: 0.7858339680121859\n",
            "Testing hidden layer dimension: 51 (7/9)\n",
            "26/26 [==============================] - 0s 1ms/step\n",
            "Hidden nodes: 51, Best epochs: 26,  Accuracy: 0.9712858926342073, F1: 0.9417721518987343, Explained Variance: 0.8443090462892442\n",
            "Testing hidden layer dimension: 56 (8/9)\n",
            "26/26 [==============================] - 0s 1ms/step\n",
            "Hidden nodes: 56, Best epochs: 16,  Accuracy: 0.9550561797752809, F1: 0.9090909090909091, Explained Variance: 0.7562833206397562\n",
            "Testing hidden layer dimension: 61 (9/9)\n",
            "26/26 [==============================] - 0s 2ms/step\n",
            "Hidden nodes: 61, Best epochs: 15,  Accuracy: 0.9625468164794008, F1: 0.9249999999999999, Explained Variance: 0.7974951341287975\n"
          ]
        }
      ],
      "source": [
        "from sklearn.metrics import accuracy_score, recall_score, precision_score, f1_score, explained_variance_score\n",
        "from keras.callbacks import EarlyStopping\n",
        "\n",
        "early_stopping = EarlyStopping(monitor='val_loss', restore_best_weights=True, patience=patience)  # Arresta l'addestramento se la loss sulla validation set non migliora per _patience_ epoche consecutive\n",
        "\n",
        "accuracy = []\n",
        "recall = []\n",
        "precision = []\n",
        "f1 = []\n",
        "explained_variance = []\n",
        "best_epochs = []\n",
        "\n",
        "for i, nodes in enumerate(hidden_layer_nodes):\n",
        "    print(f\"Testing hidden layer dimension: {nodes} ({i+1}/{len(hidden_layer_nodes)})\")\n",
        "    model = Sequential()\n",
        "    model.add(Dense(nodes, input_shape=(n_components,), activation=best_activation_function)) # nodes=#nodi strato nascosto, varia di iterazione in iterazione\n",
        "    model.add(Dense(1, activation='sigmoid'))\n",
        "    model.compile(loss='binary_crossentropy', optimizer='adam', metrics=['accuracy'])\n",
        "\n",
        "    history = model.fit(pca_X_train, resized_y_train, epochs=epochs, batch_size=batch_size, verbose=0, callbacks=[early_stopping], validation_data=(pca_X_val, y_val))\n",
        "    best_epochs.append(len(history.history['val_loss']))\n",
        "\n",
        "    y_pred = model.predict(pca_X_val)\n",
        "    threshold = 0.5\n",
        "    y_pred = (y_pred > threshold).astype(int)\n",
        "\n",
        "    accuracy.append(accuracy_score(y_val, y_pred))\n",
        "    recall.append(recall_score(y_val, y_pred))\n",
        "    precision.append(precision_score(y_val, y_pred))\n",
        "    f1.append(f1_score(y_val, y_pred))\n",
        "    explained_variance.append(explained_variance_score(y_val, y_pred))\n",
        "\n",
        "    print(f'Hidden nodes: {nodes}, Best epochs: {best_epochs[-1]},  Accuracy: {accuracy[-1]}, F1: {f1[-1]}, Explained Variance: {explained_variance[-1]}')"
      ]
    },
    {
      "cell_type": "code",
      "execution_count": 63,
      "metadata": {
        "colab": {
          "base_uri": "https://localhost:8080/"
        },
        "id": "Owk04ZOiMiQD",
        "outputId": "9458bbac-177b-4c09-a2e8-93ec39a98bb7"
      },
      "outputs": [
        {
          "output_type": "stream",
          "name": "stdout",
          "text": [
            "Hidden nodes: 21, epochs: 20, Accuracy: 0.9612983770287141, Recall: 0.9641025641025641, Precision: 0.8867924528301887, F1: 0.9238329238329237, Explained variance score: 0.7923161546923922\n",
            "Hidden nodes: 26, epochs: 23, Accuracy: 0.9525593008739076, Recall: 0.9384615384615385, Precision: 0.8755980861244019, F1: 0.905940594059406, Explained variance score: 0.7440805619023441\n",
            "Hidden nodes: 31, epochs: 20, Accuracy: 0.9588014981273408, Recall: 0.9538461538461539, Precision: 0.8857142857142857, F1: 0.9185185185185185, Explained variance score: 0.7782178217821782\n",
            "Hidden nodes: 36, epochs: 25, Accuracy: 0.9637952559300874, Recall: 0.958974358974359, Precision: 0.8990384615384616, F1: 0.9280397022332506, Explained variance score: 0.8048574088178049\n",
            "Hidden nodes: 41, epochs: 18, Accuracy: 0.9563046192259675, Recall: 0.9333333333333333, Precision: 0.8921568627450981, F1: 0.9122807017543859, Explained variance score: 0.7634424980959634\n",
            "Hidden nodes: 46, epochs: 20, Accuracy: 0.9600499375780275, Recall: 0.9641025641025641, Precision: 0.8826291079812206, F1: 0.9215686274509804, Explained variance score: 0.7858339680121859\n",
            "Hidden nodes: 51, epochs: 26, Accuracy: 0.9712858926342073, Recall: 0.9538461538461539, Precision: 0.93, F1: 0.9417721518987343, Explained variance score: 0.8443090462892442\n",
            "Hidden nodes: 56, epochs: 16, Accuracy: 0.9550561797752809, Recall: 0.9230769230769231, Precision: 0.8955223880597015, F1: 0.9090909090909091, Explained variance score: 0.7562833206397562\n",
            "Hidden nodes: 61, epochs: 15, Accuracy: 0.9625468164794008, Recall: 0.9487179487179487, Precision: 0.9024390243902439, F1: 0.9249999999999999, Explained variance score: 0.7974951341287975\n"
          ]
        }
      ],
      "source": [
        "for i, nodes in enumerate(hidden_layer_nodes):\n",
        "    print(f'Hidden nodes: {nodes}, epochs: {best_epochs[i]}, Accuracy: {accuracy[i]}, Recall: {recall[i]}, Precision: {precision[i]}, F1: {f1[i]}, Explained variance score: {explained_variance[i]}')"
      ]
    },
    {
      "cell_type": "code",
      "execution_count": 64,
      "metadata": {
        "colab": {
          "base_uri": "https://localhost:8080/"
        },
        "id": "hI041GxBMiQD",
        "outputId": "d755c08c-60b2-4c47-bbff-ff3604a58c97"
      },
      "outputs": [
        {
          "output_type": "execute_result",
          "data": {
            "text/plain": [
              "51"
            ]
          },
          "metadata": {},
          "execution_count": 64
        }
      ],
      "source": [
        "best_nodes = hidden_layer_nodes[np.argmax(f1)]\n",
        "best_nodes"
      ]
    },
    {
      "cell_type": "code",
      "execution_count": 65,
      "metadata": {
        "id": "MxnZtnOPMiQE"
      },
      "outputs": [],
      "source": [
        "epochs = 50\n",
        "batch_size = 5\n",
        "patience = 10\n",
        "\n",
        "hidden_layer_nodes = [best_nodes + i  for i in range(1 - multiplier, multiplier)]"
      ]
    },
    {
      "cell_type": "code",
      "execution_count": 66,
      "metadata": {
        "colab": {
          "base_uri": "https://localhost:8080/"
        },
        "id": "0bTIuBkNMiQE",
        "outputId": "f294b84f-0e2a-4103-8bc3-e319b5254213"
      },
      "outputs": [
        {
          "output_type": "stream",
          "name": "stdout",
          "text": [
            "Testing hidden layer dimesions: 47 (1/9)\n",
            "26/26 [==============================] - 0s 2ms/step\n",
            "Hidden nodes: 47, Best epochs: 20,  Accuracy: 0.9600499375780275, F1: 0.9203980099502488, Explained Variance: 0.7843107387661843\n",
            "Testing hidden layer dimesions: 48 (2/9)\n",
            "26/26 [==============================] - 0s 1ms/step\n",
            "Hidden nodes: 48, Best epochs: 28,  Accuracy: 0.9712858926342073, F1: 0.94147582697201, Explained Variance: 0.8441736481340442\n",
            "Testing hidden layer dimesions: 49 (3/9)\n",
            "26/26 [==============================] - 0s 1ms/step\n",
            "Hidden nodes: 49, Best epochs: 23,  Accuracy: 0.9675405742821473, F1: 0.9346733668341708, Explained Variance: 0.8243039688584243\n",
            "Testing hidden layer dimesions: 50 (4/9)\n",
            "26/26 [==============================] - 0s 1ms/step\n",
            "Hidden nodes: 50, Best epochs: 20,  Accuracy: 0.9675405742821473, F1: 0.934010152284264, Explained Variance: 0.8238977743928239\n",
            "Testing hidden layer dimesions: 51 (5/9)\n",
            "26/26 [==============================] - 0s 2ms/step\n",
            "Hidden nodes: 51, Best epochs: 20,  Accuracy: 0.9675405742821473, F1: 0.934010152284264, Explained Variance: 0.8238977743928239\n",
            "Testing hidden layer dimesions: 52 (6/9)\n",
            "26/26 [==============================] - 0s 1ms/step\n",
            "Hidden nodes: 52, Best epochs: 23,  Accuracy: 0.9675405742821473, F1: 0.9346733668341708, Explained Variance: 0.8243039688584242\n",
            "Testing hidden layer dimesions: 53 (7/9)\n",
            "26/26 [==============================] - 0s 2ms/step\n",
            "Hidden nodes: 53, Best epochs: 17,  Accuracy: 0.9588014981273408, F1: 0.9172932330827067, Explained Variance: 0.776999238385377\n",
            "Testing hidden layer dimesions: 54 (8/9)\n",
            "26/26 [==============================] - 0s 1ms/step\n",
            "Hidden nodes: 54, Best epochs: 16,  Accuracy: 0.9637952559300874, F1: 0.9269521410579344, Explained Variance: 0.8038419226538038\n",
            "Testing hidden layer dimesions: 55 (9/9)\n",
            "26/26 [==============================] - 0s 1ms/step\n",
            "Hidden nodes: 55, Best epochs: 16,  Accuracy: 0.9637952559300874, F1: 0.926208651399491, Explained Variance: 0.8035034272658035\n"
          ]
        }
      ],
      "source": [
        "from sklearn.metrics import accuracy_score, recall_score, precision_score, f1_score, explained_variance_score\n",
        "from keras.callbacks import EarlyStopping\n",
        "\n",
        "early_stopping = EarlyStopping(monitor='val_loss', restore_best_weights=True, patience=patience)  # Arresta l'addestramento se la loss sulla validation set non migliora per _patience_ epoche consecutive\n",
        "\n",
        "accuracy = []\n",
        "recall = []\n",
        "precision = []\n",
        "f1 = []\n",
        "explained_variance = []\n",
        "best_epochs = []\n",
        "\n",
        "for i, nodes in enumerate(hidden_layer_nodes):\n",
        "    print(f\"Testing hidden layer dimesions: {nodes} ({i+1}/{len(hidden_layer_nodes)})\")\n",
        "    model = Sequential()\n",
        "    model.add(Dense(nodes, input_shape=(n_components,), activation=best_activation_function)) # nodes = #nodi strato nascosto, varia di iterazione in iterazione\n",
        "    model.add(Dense(1, activation='sigmoid'))\n",
        "    model.compile(loss='binary_crossentropy', optimizer='adam', metrics=['accuracy'])\n",
        "\n",
        "    history = model.fit(pca_X_train, resized_y_train, epochs=epochs, batch_size=batch_size, verbose=0, callbacks=[early_stopping], validation_data=(pca_X_val, y_val))\n",
        "    best_epochs.append(len(history.history['val_loss']))\n",
        "\n",
        "    y_pred = model.predict(pca_X_val)\n",
        "    threshold = 0.5\n",
        "    y_pred = (y_pred > threshold).astype(int)\n",
        "\n",
        "    accuracy.append(accuracy_score(y_val, y_pred))\n",
        "    recall.append(recall_score(y_val, y_pred))\n",
        "    precision.append(precision_score(y_val, y_pred))\n",
        "    f1.append(f1_score(y_val, y_pred))\n",
        "    explained_variance.append(explained_variance_score(y_val, y_pred))\n",
        "\n",
        "    print(f'Hidden nodes: {nodes}, Best epochs: {best_epochs[-1]},  Accuracy: {accuracy[-1]}, F1: {f1[-1]}, Explained Variance: {explained_variance[-1]}')"
      ]
    },
    {
      "cell_type": "code",
      "execution_count": 67,
      "metadata": {
        "colab": {
          "base_uri": "https://localhost:8080/"
        },
        "id": "PqEti57cMiQE",
        "outputId": "408409a2-87e1-445c-c5f0-22580adfa89c"
      },
      "outputs": [
        {
          "output_type": "stream",
          "name": "stdout",
          "text": [
            "Hidden nodes: 47, epochs: 20, Accuracy: 0.9600499375780275, Recall: 0.9487179487179487, Precision: 0.893719806763285, F1: 0.9203980099502488, Explained variance score: 0.7843107387661843\n",
            "Hidden nodes: 48, epochs: 28, Accuracy: 0.9712858926342073, Recall: 0.9487179487179487, Precision: 0.9343434343434344, F1: 0.94147582697201, Explained variance score: 0.8441736481340442\n",
            "Hidden nodes: 49, epochs: 23, Accuracy: 0.9675405742821473, Recall: 0.9538461538461539, Precision: 0.916256157635468, F1: 0.9346733668341708, Explained variance score: 0.8243039688584243\n",
            "Hidden nodes: 50, epochs: 20, Accuracy: 0.9675405742821473, Recall: 0.9435897435897436, Precision: 0.9246231155778895, F1: 0.934010152284264, Explained variance score: 0.8238977743928239\n",
            "Hidden nodes: 51, epochs: 20, Accuracy: 0.9675405742821473, Recall: 0.9435897435897436, Precision: 0.9246231155778895, F1: 0.934010152284264, Explained variance score: 0.8238977743928239\n",
            "Hidden nodes: 52, epochs: 23, Accuracy: 0.9675405742821473, Recall: 0.9538461538461539, Precision: 0.916256157635468, F1: 0.9346733668341708, Explained variance score: 0.8243039688584242\n",
            "Hidden nodes: 53, epochs: 17, Accuracy: 0.9588014981273408, Recall: 0.9384615384615385, Precision: 0.8970588235294118, F1: 0.9172932330827067, Explained variance score: 0.776999238385377\n",
            "Hidden nodes: 54, epochs: 16, Accuracy: 0.9637952559300874, Recall: 0.9435897435897436, Precision: 0.9108910891089109, F1: 0.9269521410579344, Explained variance score: 0.8038419226538038\n",
            "Hidden nodes: 55, epochs: 16, Accuracy: 0.9637952559300874, Recall: 0.9333333333333333, Precision: 0.9191919191919192, F1: 0.926208651399491, Explained variance score: 0.8035034272658035\n"
          ]
        }
      ],
      "source": [
        "for i, nodes in enumerate(hidden_layer_nodes):\n",
        "    print(f'Hidden nodes: {nodes}, epochs: {best_epochs[i]}, Accuracy: {accuracy[i]}, Recall: {recall[i]}, Precision: {precision[i]}, F1: {f1[i]}, Explained variance score: {explained_variance[i]}')"
      ]
    },
    {
      "cell_type": "code",
      "execution_count": 68,
      "metadata": {
        "colab": {
          "base_uri": "https://localhost:8080/"
        },
        "id": "skYF7s_fMiQE",
        "outputId": "aa469d92-5a11-4c9d-d656-6e3013aadfa3"
      },
      "outputs": [
        {
          "output_type": "stream",
          "name": "stdout",
          "text": [
            "Best hidden nodes number: 48, epochs: 28, Accuracy: 0.9712858926342073, Recall: 0.9487179487179487, Precision: 0.9343434343434344, F1: 0.94147582697201, Explained variance score: 0.8441736481340442\n"
          ]
        }
      ],
      "source": [
        "target_metric_best_index = np.argmax(f1)\n",
        "print(f\"Best hidden nodes number: {hidden_layer_nodes[target_metric_best_index]}, epochs: {best_epochs[target_metric_best_index]}, Accuracy: {accuracy[target_metric_best_index]}, Recall: {recall[target_metric_best_index]}, Precision: {precision[target_metric_best_index]}, F1: {f1[target_metric_best_index]}, Explained variance score: {explained_variance[target_metric_best_index]}\")"
      ]
    },
    {
      "cell_type": "code",
      "execution_count": 69,
      "metadata": {
        "id": "vsCIn7PiMiQF"
      },
      "outputs": [],
      "source": [
        "best_nodes = hidden_layer_nodes[target_metric_best_index]"
      ]
    },
    {
      "cell_type": "code",
      "execution_count": 70,
      "metadata": {
        "id": "qazCgQc2MiQF"
      },
      "outputs": [],
      "source": [
        "batch_size = 5\n",
        "epochs = best_epochs[target_metric_best_index]"
      ]
    },
    {
      "cell_type": "markdown",
      "metadata": {
        "id": "4IJlw_xbMJyb"
      },
      "source": [
        "Vengono fissati anche il numero di nodi e di epoche ottimale in base a quanto riscontrato durante gli esperimenti:"
      ]
    },
    {
      "cell_type": "code",
      "execution_count": 118,
      "metadata": {
        "colab": {
          "base_uri": "https://localhost:8080/"
        },
        "id": "9eaV8Cb6MiQF",
        "outputId": "026f2fdb-2512-42de-c20c-5405f2219227"
      },
      "outputs": [
        {
          "output_type": "execute_result",
          "data": {
            "text/plain": [
              "(53, 22, 'mish')"
            ]
          },
          "metadata": {},
          "execution_count": 118
        }
      ],
      "source": [
        "best_nodes, epochs = 53, 22\n",
        "best_nodes, epochs, best_activation_function"
      ]
    },
    {
      "cell_type": "markdown",
      "metadata": {
        "id": "_PLYO7yrMiQF"
      },
      "source": [
        "### __Stratified 10-fold cross validation__"
      ]
    },
    {
      "cell_type": "markdown",
      "metadata": {
        "id": "A_eNraCAMiQF"
      },
      "source": [
        "Ricostruzione del __training_val_set__ (__training set + validation set__):"
      ]
    },
    {
      "cell_type": "code",
      "execution_count": 203,
      "metadata": {
        "id": "QJ4TSDBcMiQG"
      },
      "outputs": [],
      "source": [
        "X_train_val = np.concatenate([X_train, X_val])\n",
        "y_train_val = np.concatenate([y_train, y_val])\n",
        "y = y_train_val"
      ]
    },
    {
      "cell_type": "code",
      "execution_count": 204,
      "metadata": {
        "id": "Bp9uX7WpMiQG"
      },
      "outputs": [],
      "source": [
        "assert X_train_val.shape[0] == y_train_val.shape[0], \"Training + validation set have different number of examples and labels\""
      ]
    },
    {
      "cell_type": "code",
      "execution_count": 205,
      "metadata": {
        "id": "-V8MgFr8MiQG"
      },
      "outputs": [],
      "source": [
        "pca_cross_dataset = pca.transform(X_train_val)\n",
        "df = pd.DataFrame(data=pca_cross_dataset)"
      ]
    },
    {
      "cell_type": "code",
      "execution_count": 206,
      "metadata": {
        "id": "0wmZA8WwMiQG"
      },
      "outputs": [],
      "source": [
        "from sklearn.metrics import accuracy_score, recall_score, precision_score, f1_score, explained_variance_score\n",
        "from sklearn.model_selection import StratifiedKFold\n",
        "from imblearn.under_sampling import RandomUnderSampler\n",
        "from imblearn.over_sampling import RandomOverSampler\n",
        "from keras.models import Sequential\n",
        "from keras.layers import Dense"
      ]
    },
    {
      "cell_type": "code",
      "execution_count": 207,
      "metadata": {
        "colab": {
          "base_uri": "https://localhost:8080/"
        },
        "id": "pxCmBJXmMiQH",
        "outputId": "2082d63f-1f8f-4a1d-b668-d2d8d779f03c"
      },
      "outputs": [
        {
          "output_type": "stream",
          "name": "stdout",
          "text": [
            "12/12 [==============================] - 0s 2ms/step\n",
            "Fold 1, Accuracy: 0.983, F1: 0.966, Explained Variance: 0.911, Training time: 41.639, Evaluation time: 0.152\n",
            "12/12 [==============================] - 0s 2ms/step\n",
            "Fold 2, Accuracy: 0.967, F1: 0.933, Explained Variance: 0.821, Training time: 18.217, Evaluation time: 0.145\n",
            "12/12 [==============================] - 0s 2ms/step\n",
            "Fold 3, Accuracy: 0.975, F1: 0.950, Explained Variance: 0.867, Training time: 15.760, Evaluation time: 5.522\n",
            "12/12 [==============================] - 0s 7ms/step\n",
            "Fold 4, Accuracy: 0.967, F1: 0.934, Explained Variance: 0.822, Training time: 15.493, Evaluation time: 0.501\n",
            "12/12 [==============================] - 0s 2ms/step\n",
            "Fold 5, Accuracy: 0.975, F1: 0.951, Explained Variance: 0.867, Training time: 21.678, Evaluation time: 2.812\n",
            "12/12 [==============================] - 0s 2ms/step\n",
            "Fold 6, Accuracy: 0.986, F1: 0.973, Explained Variance: 0.926, Training time: 27.696, Evaluation time: 0.179\n",
            "12/12 [==============================] - 0s 2ms/step\n",
            "Fold 7, Accuracy: 0.964, F1: 0.929, Explained Variance: 0.808, Training time: 14.777, Evaluation time: 6.476\n",
            "12/12 [==============================] - 0s 2ms/step\n",
            "Fold 8, Accuracy: 0.981, F1: 0.961, Explained Variance: 0.896, Training time: 19.932, Evaluation time: 1.332\n",
            "12/12 [==============================] - 0s 2ms/step\n",
            "Fold 9, Accuracy: 0.931, F1: 0.865, Explained Variance: 0.631, Training time: 16.367, Evaluation time: 5.114\n",
            "12/12 [==============================] - 0s 2ms/step\n",
            "Fold 10, Accuracy: 0.986, F1: 0.972, Explained Variance: 0.926, Training time: 21.814, Evaluation time: 19.884\n"
          ]
        }
      ],
      "source": [
        "n_fold = 10\n",
        "folds = StratifiedKFold(n_splits=n_fold, shuffle=True, random_state=RANDOM_STATE)\n",
        "\n",
        "test_pred_proba = np.zeros((df.shape[0], 2))\n",
        "accuracy_k_fold = []\n",
        "recall_k_fold = []\n",
        "precision_k_fold = []\n",
        "f1_k_fold = []\n",
        "explained_variance_k_fold = []\n",
        "timesAddestramento = []\n",
        "timesInferenza = []\n",
        "\n",
        "early_stopping = EarlyStopping(monitor='val_loss', restore_best_weights=True, patience=5)\n",
        "\n",
        "resample = False\n",
        "undersampling_pos_proportion, oversampling_pos_proportion = 0.333, 0.4\n",
        "undersampling_pos_to_neg_proportion = undersampling_pos_proportion / (1 - undersampling_pos_proportion)\n",
        "oversampling_pos_to_neg_proportion = oversampling_pos_proportion / (1 - oversampling_pos_proportion)\n",
        "undersampler = RandomUnderSampler(sampling_strategy=undersampling_pos_to_neg_proportion, random_state=RANDOM_STATE)\n",
        "oversampler = RandomOverSampler(sampling_strategy=oversampling_pos_to_neg_proportion, random_state=RANDOM_STATE)\n",
        "\n",
        "for n_fold, (train_idx, val_test_idx) in enumerate(folds.split(df, y)):\n",
        "        X_cross_train, X_cross_val = df.iloc[train_idx], df.iloc[val_test_idx]\n",
        "        y_cross_train, y_cross_val = y[train_idx], y[val_test_idx]\n",
        "\n",
        "        if resample:\n",
        "                X_cross_train, y_cross_train = undersampler.fit_resample(X_cross_train, y_cross_train)\n",
        "                X_cross_train, y_cross_train = oversampler.fit_resample(X_cross_train, y_cross_train)\n",
        "\n",
        "        model = Sequential()\n",
        "        model.add(Dense(best_nodes, input_shape=(n_components,), activation=best_activation_function))\n",
        "        model.add(Dense(1, activation='sigmoid'))\n",
        "        model.compile(loss='binary_crossentropy', optimizer='adam', metrics=['accuracy'])\n",
        "\n",
        "        tic = time.time()\n",
        "        model.fit(X_cross_train, y_cross_train, epochs=epochs, batch_size=batch_size,\n",
        "                  verbose=0, validation_data=(X_cross_val, y_cross_val), callbacks=[early_stopping])\n",
        "        timesAddestramento.append(time.time() - tic)\n",
        "\n",
        "        tic = time.time()\n",
        "        y_cross_pred_valid = model.predict(X_cross_val)\n",
        "        timesInferenza.append(time.time() - tic)\n",
        "\n",
        "        threshold = 0.5\n",
        "        y_cross_pred_valid = (y_cross_pred_valid > threshold).astype(int)\n",
        "\n",
        "        accuracy_k_fold.append(accuracy_score(y_cross_val, y_cross_pred_valid))\n",
        "        recall_k_fold.append(recall_score(y_cross_val, y_cross_pred_valid))\n",
        "        precision_k_fold.append(precision_score(y_cross_val, y_cross_pred_valid))\n",
        "        f1_k_fold.append(f1_score(y_cross_val, y_cross_pred_valid))\n",
        "        explained_variance_k_fold.append(explained_variance_score(y_cross_val, y_cross_pred_valid))\n",
        "\n",
        "        print(f'Fold {n_fold + 1}, Accuracy: {accuracy_k_fold[-1]:.3f}, F1: {f1_k_fold[-1]:.3f}, Explained Variance: {explained_variance_k_fold[-1]:.3f}', end=\", \")\n",
        "        print(f'Training time: {timesAddestramento[-1]:.3f}, Evaluation time: {timesInferenza[-1]:.3f}')"
      ]
    },
    {
      "cell_type": "markdown",
      "metadata": {
        "id": "PbEm31zEMiQH"
      },
      "source": [
        "Metriche sul __validation test__ per la __stratified cross validation__:"
      ]
    },
    {
      "cell_type": "code",
      "execution_count": 208,
      "metadata": {
        "colab": {
          "base_uri": "https://localhost:8080/"
        },
        "id": "wKnb9iJEW5Dt",
        "outputId": "622d8aae-3370-481c-a636-ee396c3915b4"
      },
      "outputs": [
        {
          "output_type": "stream",
          "name": "stdout",
          "text": [
            "Tempo medio di addestramento: 21.34 secondi\n",
            "Tempo medio di inferenza: 4.21 secondi\n"
          ]
        }
      ],
      "source": [
        "print(f\"Tempo medio di addestramento: {np.mean(timesAddestramento):.2f} secondi\")\n",
        "print(f\"Tempo medio di inferenza: {np.mean(timesInferenza):.2f} secondi\")"
      ]
    },
    {
      "cell_type": "code",
      "execution_count": 209,
      "metadata": {
        "colab": {
          "base_uri": "https://localhost:8080/"
        },
        "id": "_HtOPEGsMiQH",
        "outputId": "faaf9334-8468-4201-94fd-aa7e9bc86622"
      },
      "outputs": [
        {
          "output_type": "stream",
          "name": "stdout",
          "text": [
            "Accuracy=0.971, Recall=0.951, Precision=0.936, F1=0.943, Explained Variance=0.847\n"
          ]
        }
      ],
      "source": [
        "accuracy = np.mean(accuracy_k_fold)\n",
        "recall = np.mean(recall_k_fold)\n",
        "precision = np.mean(precision_k_fold)\n",
        "f1 = np.mean(f1_k_fold)\n",
        "explained_variance = np.mean(explained_variance_k_fold)\n",
        "print(f\"Accuracy={accuracy:.3f}, Recall={recall:.3f}, Precision={precision:.3f}, F1={f1:.3f}, Explained Variance={explained_variance:.3f}\")"
      ]
    },
    {
      "cell_type": "code",
      "execution_count": 210,
      "metadata": {
        "id": "1hfbKqVCMiQH"
      },
      "outputs": [],
      "source": [
        "confidence = 0.95"
      ]
    },
    {
      "cell_type": "markdown",
      "metadata": {
        "id": "mO-sAvCYMiQH"
      },
      "source": [
        "Intervalli di confidenza per tutte le metriche:"
      ]
    },
    {
      "cell_type": "code",
      "execution_count": 211,
      "metadata": {
        "colab": {
          "base_uri": "https://localhost:8080/"
        },
        "id": "h5B2XQcgMiQI",
        "outputId": "8acc4ec5-6346-4743-9f44-0ee045c9a42d"
      },
      "outputs": [
        {
          "output_type": "stream",
          "name": "stdout",
          "text": [
            "Accuracy 0.95 confidence interval: (0.9595753272074573, 0.9832024505703204)\n",
            "Recall 0.95 confidence interval: (0.9310561446686508, 0.9709163896634342)\n",
            "Precision 0.95 confidence interval: (0.9085102670058008, 0.9635294902556754)\n",
            "F1 0.95 confidence interval: (0.9204589378760564, 0.9662021628731192)\n",
            "Explained Variance 0.95 confidence interval: (0.7846393531229301, 0.9102939895604758)\n"
          ]
        }
      ],
      "source": [
        "import scipy.stats as stats\n",
        "\n",
        "print(f\"Accuracy {confidence} confidence interval: {stats.t.interval(confidence=confidence, df=len(accuracy_k_fold)-1, loc=np.mean(accuracy_k_fold), scale=stats.sem(accuracy_k_fold))}\")\n",
        "print(f\"Recall {confidence} confidence interval: {stats.t.interval(confidence=confidence, df=len(recall_k_fold)-1, loc=np.mean(recall_k_fold), scale=stats.sem(recall_k_fold))}\")\n",
        "print(f\"Precision {confidence} confidence interval: {stats.t.interval(confidence=confidence, df=len(precision_k_fold)-1, loc=np.mean(precision_k_fold), scale=stats.sem(precision_k_fold))}\")\n",
        "print(f\"F1 {confidence} confidence interval: {stats.t.interval(confidence=confidence, df=len(f1_k_fold)-1, loc=np.mean(f1_k_fold), scale=stats.sem(f1_k_fold))}\") # dopo lo plottiamo assieme all'intervallo dell'f1 score dell'svm\n",
        "print(f\"Explained Variance {confidence} confidence interval: {stats.t.interval(confidence=confidence, df=len(explained_variance_k_fold)-1, loc=np.mean(explained_variance_k_fold), scale=stats.sem(explained_variance_k_fold))}\")"
      ]
    },
    {
      "cell_type": "markdown",
      "metadata": {
        "id": "2qMxPtowMiQI"
      },
      "source": [
        "### __Addestramento__ con l'intero __training set__"
      ]
    },
    {
      "cell_type": "code",
      "execution_count": 212,
      "metadata": {
        "id": "YFVPFVc9MiQI"
      },
      "outputs": [],
      "source": [
        "X_train_val = np.concatenate([X_train, X_val])\n",
        "y_train_val = np.concatenate([y_train, y_val])"
      ]
    },
    {
      "cell_type": "code",
      "execution_count": 213,
      "metadata": {
        "id": "cmPY3GR0MiQI"
      },
      "outputs": [],
      "source": [
        "assert X_train_val.shape[0] == y_train_val.shape[0], \"Training + validation set have different number of examples and labels\""
      ]
    },
    {
      "cell_type": "code",
      "execution_count": 214,
      "metadata": {
        "id": "BZO9zE5_MiQI"
      },
      "outputs": [],
      "source": [
        "resample = True\n",
        "\n",
        "undersampling_pos_proportion, oversampling_pos_proportion = 0.333, 0.4\n",
        "undersampling_pos_to_neg_proportion = undersampling_pos_proportion / (1 - undersampling_pos_proportion)\n",
        "oversampling_pos_to_neg_proportion = oversampling_pos_proportion / (1 - oversampling_pos_proportion)\n",
        "undersampler = RandomUnderSampler(sampling_strategy=undersampling_pos_to_neg_proportion, random_state=RANDOM_STATE)\n",
        "oversampler = RandomOverSampler(sampling_strategy=oversampling_pos_to_neg_proportion, random_state=RANDOM_STATE)\n",
        "\n",
        "if resample:\n",
        "    X_train_val, y_train_val = undersampler.fit_resample(X_train_val, y_train_val)\n",
        "    X_train_val, y_train_val = oversampler.fit_resample(X_train_val, y_train_val)"
      ]
    },
    {
      "cell_type": "code",
      "execution_count": 215,
      "metadata": {
        "id": "qhWe7_n3MiQI"
      },
      "outputs": [],
      "source": [
        "pca_train_dataset = pca.transform(X_train_val)"
      ]
    },
    {
      "cell_type": "code",
      "execution_count": 216,
      "metadata": {
        "colab": {
          "base_uri": "https://localhost:8080/"
        },
        "id": "-x-YEEygMiQJ",
        "outputId": "634195fa-1798-460a-a070-71fc90f54936"
      },
      "outputs": [
        {
          "output_type": "stream",
          "name": "stdout",
          "text": [
            "Epoch 1/22\n",
            "600/600 [==============================] - 2s 3ms/step - loss: 0.6182 - accuracy: 0.8725\n",
            "Epoch 2/22\n",
            "600/600 [==============================] - 1s 2ms/step - loss: 0.1501 - accuracy: 0.9516\n",
            "Epoch 3/22\n",
            "600/600 [==============================] - 1s 2ms/step - loss: 0.0952 - accuracy: 0.9676\n",
            "Epoch 4/22\n",
            "600/600 [==============================] - 1s 2ms/step - loss: 0.0616 - accuracy: 0.9780\n",
            "Epoch 5/22\n",
            "600/600 [==============================] - 1s 2ms/step - loss: 0.0430 - accuracy: 0.9856\n",
            "Epoch 6/22\n",
            "600/600 [==============================] - 1s 2ms/step - loss: 0.0245 - accuracy: 0.9927\n",
            "Epoch 7/22\n",
            "600/600 [==============================] - 1s 2ms/step - loss: 0.0152 - accuracy: 0.9960\n",
            "Epoch 8/22\n",
            "600/600 [==============================] - 1s 2ms/step - loss: 0.0220 - accuracy: 0.9933\n",
            "Epoch 9/22\n",
            "600/600 [==============================] - 1s 2ms/step - loss: 0.0255 - accuracy: 0.9897\n",
            "Epoch 10/22\n",
            "600/600 [==============================] - 1s 2ms/step - loss: 0.0108 - accuracy: 0.9970\n",
            "Epoch 11/22\n",
            "600/600 [==============================] - 1s 2ms/step - loss: 0.0074 - accuracy: 0.9987\n",
            "Epoch 12/22\n",
            "600/600 [==============================] - 2s 3ms/step - loss: 0.0020 - accuracy: 1.0000\n",
            "Epoch 13/22\n",
            "600/600 [==============================] - 2s 3ms/step - loss: 0.0011 - accuracy: 1.0000\n",
            "Epoch 14/22\n",
            "600/600 [==============================] - 1s 2ms/step - loss: 6.7639e-04 - accuracy: 1.0000\n",
            "Epoch 15/22\n",
            "600/600 [==============================] - 1s 2ms/step - loss: 5.1312e-04 - accuracy: 1.0000\n",
            "Epoch 16/22\n",
            "600/600 [==============================] - 1s 2ms/step - loss: 4.8844e-04 - accuracy: 1.0000\n",
            "Epoch 17/22\n",
            "600/600 [==============================] - 1s 2ms/step - loss: 3.7686e-04 - accuracy: 1.0000\n",
            "Epoch 18/22\n",
            "600/600 [==============================] - 1s 2ms/step - loss: 2.7830e-04 - accuracy: 1.0000\n",
            "Epoch 19/22\n",
            "600/600 [==============================] - 1s 2ms/step - loss: 0.0097 - accuracy: 0.9973\n",
            "Epoch 20/22\n",
            "600/600 [==============================] - 1s 2ms/step - loss: 0.1015 - accuracy: 0.9786\n",
            "Epoch 21/22\n",
            "600/600 [==============================] - 1s 2ms/step - loss: 0.0127 - accuracy: 0.9963\n",
            "Epoch 22/22\n",
            "600/600 [==============================] - 1s 2ms/step - loss: 0.0021 - accuracy: 0.9997\n",
            "Training time: 41.95 seconds\n"
          ]
        }
      ],
      "source": [
        "model = Sequential()\n",
        "model.add(Dense(best_nodes, input_shape=(n_components,), activation=best_activation_function))\n",
        "model.add(Dense(1, activation='sigmoid'))\n",
        "model.compile(loss='binary_crossentropy', optimizer='adam', metrics=['accuracy'])\n",
        "\n",
        "tic = time.time()\n",
        "model.fit(pca_train_dataset, y_train_val, epochs=epochs, batch_size=batch_size, verbose=1)\n",
        "training_time = time.time() - tic\n",
        "\n",
        "print(f\"Training time: {training_time:.2f} seconds\")"
      ]
    },
    {
      "cell_type": "markdown",
      "metadata": {
        "id": "kLO3UGulMiQJ"
      },
      "source": [
        "### Test finale sul test-set e matrice di confusione"
      ]
    },
    {
      "cell_type": "code",
      "execution_count": 217,
      "metadata": {
        "colab": {
          "base_uri": "https://localhost:8080/"
        },
        "id": "fkO_3visMiQJ",
        "outputId": "cb8b5818-fce9-4a6e-9839-47d1ed28ac0a"
      },
      "outputs": [
        {
          "output_type": "stream",
          "name": "stdout",
          "text": [
            "13/13 [==============================] - 0s 2ms/step\n",
            "Accuracy=0.970, Recall=0.941, Precision=0.941, F1=0.941, Explained Variance=0.842\n"
          ]
        }
      ],
      "source": [
        "y_test_pred_prob_nn = model.predict(pca_X_test) #questi valori saranno utili nella sezione test finale della svm, dove formeranno dei grafici congiunti con i rispettivi dati dell'svm\n",
        "threshold = 0.5\n",
        "y_test_pred_valid = (y_test_pred_prob_nn > threshold).astype(int)\n",
        "\n",
        "accuracy_nn = accuracy_score(y_test, y_test_pred_valid)\n",
        "recall_nn = recall_score(y_test, y_test_pred_valid)\n",
        "precision_nn = precision_score(y_test, y_test_pred_valid)\n",
        "f1_nn = f1_score(y_test, y_test_pred_valid)\n",
        "explained_variance_nn = explained_variance_score(y_test, y_test_pred_valid)\n",
        "\n",
        "print(f\"Accuracy={accuracy_nn:.3f}, Recall={recall_nn:.3f}, Precision={precision_nn:.3f}, F1={f1_nn:.3f}, Explained Variance={explained_variance_nn:.3f}\")"
      ]
    },
    {
      "cell_type": "code",
      "execution_count": 218,
      "metadata": {
        "colab": {
          "base_uri": "https://localhost:8080/",
          "height": 707
        },
        "id": "Yf2--CwCVrtB",
        "outputId": "456f028b-7f1c-4e91-bd5b-90f50ffcbcd2"
      },
      "outputs": [
        {
          "output_type": "display_data",
          "data": {
            "text/plain": [
              "<Figure size 700x700 with 1 Axes>"
            ],
            "image/png": "[encoded data removed]"
          },
          "metadata": {}
        }
      ],
      "source": [
        "confmat = confusion_matrix(y_test, y_test_pred_valid)\n",
        "# Plot the confusion matrix\n",
        "f,ax = plt.subplots(figsize=(7, 7))\n",
        "sns.heatmap(confmat, annot=True, linewidths=0.02, cbar=False, fmt= '.1f',ax=ax)\n",
        "\n",
        "plt.title(\"Confusion Matrix NN addestrato su train+validation set\")\n",
        "plt.xlabel(\"Predicted Label\")\n",
        "plt.ylabel(\"True Label\")\n",
        "plt.tight_layout()\n",
        "plt.show()"
      ]
    },
    {
      "cell_type": "markdown",
      "metadata": {
        "id": "s8b90rmdMiQL"
      },
      "source": [
        "### Addestramento finale con l'intero dataset\n"
      ]
    },
    {
      "cell_type": "code",
      "execution_count": 219,
      "metadata": {
        "colab": {
          "base_uri": "https://localhost:8080/"
        },
        "id": "hPvewbmWMiQL",
        "outputId": "61fcf58f-b8d7-45df-d096-01388d3c24c2"
      },
      "outputs": [
        {
          "output_type": "execute_result",
          "data": {
            "text/plain": [
              "(4000, 19200)"
            ]
          },
          "metadata": {},
          "execution_count": 219
        }
      ],
      "source": [
        "X_final_dataset = dataset.drop(\"labels\", axis=1)\n",
        "y_final_dataset = dataset[\"labels\"]\n",
        "X_final_dataset.shape"
      ]
    },
    {
      "cell_type": "code",
      "execution_count": 220,
      "metadata": {
        "id": "KlEQahUxMiQM"
      },
      "outputs": [],
      "source": [
        "assert X_final_dataset.shape[0] == y_final_dataset.shape[0], \"Final dataset and labels have different number of examples\""
      ]
    },
    {
      "cell_type": "code",
      "execution_count": 221,
      "metadata": {
        "id": "J_t0lvm0MiQM"
      },
      "outputs": [],
      "source": [
        "resample = True\n",
        "\n",
        "undersampling_pos_proportion, oversampling_pos_proportion = 0.333, 0.4\n",
        "undersampling_pos_to_neg_proportion = undersampling_pos_proportion / (1 - undersampling_pos_proportion)\n",
        "oversampling_pos_to_neg_proportion = oversampling_pos_proportion / (1 - oversampling_pos_proportion)\n",
        "undersampler = RandomUnderSampler(sampling_strategy=undersampling_pos_to_neg_proportion, random_state=RANDOM_STATE)\n",
        "oversampler = RandomOverSampler(sampling_strategy=oversampling_pos_to_neg_proportion, random_state=RANDOM_STATE)\n",
        "\n",
        "if resample:\n",
        "    X_final_dataset, y_final_dataset = undersampler.fit_resample(X_final_dataset, y_final_dataset)\n",
        "    X_final_dataset, y_final_dataset = oversampler.fit_resample(X_final_dataset, y_final_dataset)"
      ]
    },
    {
      "cell_type": "code",
      "execution_count": 222,
      "metadata": {
        "id": "8_nl1n01MiQM"
      },
      "outputs": [],
      "source": [
        "pca_final_dataset = pca.transform(X_final_dataset)"
      ]
    },
    {
      "cell_type": "code",
      "execution_count": 223,
      "metadata": {
        "colab": {
          "base_uri": "https://localhost:8080/"
        },
        "id": "itFAIBhQMiQM",
        "outputId": "68281aaf-b9aa-4f60-9c80-aadfd1d69bbd"
      },
      "outputs": [
        {
          "output_type": "stream",
          "name": "stdout",
          "text": [
            "Epoch 1/22\n",
            "668/668 [==============================] - 2s 2ms/step - loss: 0.5051 - accuracy: 0.8907\n",
            "Epoch 2/22\n",
            "668/668 [==============================] - 1s 2ms/step - loss: 0.1372 - accuracy: 0.9572\n",
            "Epoch 3/22\n",
            "668/668 [==============================] - 1s 2ms/step - loss: 0.0779 - accuracy: 0.9739\n",
            "Epoch 4/22\n",
            "668/668 [==============================] - 2s 3ms/step - loss: 0.0470 - accuracy: 0.9880\n",
            "Epoch 5/22\n",
            "668/668 [==============================] - 2s 3ms/step - loss: 0.0247 - accuracy: 0.9940\n",
            "Epoch 6/22\n",
            "668/668 [==============================] - 1s 2ms/step - loss: 0.0193 - accuracy: 0.9955\n",
            "Epoch 7/22\n",
            "668/668 [==============================] - 1s 2ms/step - loss: 0.0147 - accuracy: 0.9967\n",
            "Epoch 8/22\n",
            "668/668 [==============================] - 1s 2ms/step - loss: 0.0251 - accuracy: 0.9919\n",
            "Epoch 9/22\n",
            "668/668 [==============================] - 1s 2ms/step - loss: 0.0154 - accuracy: 0.9955\n",
            "Epoch 10/22\n",
            "668/668 [==============================] - 1s 2ms/step - loss: 0.0067 - accuracy: 0.9985\n",
            "Epoch 11/22\n",
            "668/668 [==============================] - 1s 2ms/step - loss: 0.0016 - accuracy: 1.0000\n",
            "Epoch 12/22\n",
            "668/668 [==============================] - 1s 2ms/step - loss: 9.5663e-04 - accuracy: 1.0000\n",
            "Epoch 13/22\n",
            "668/668 [==============================] - 1s 2ms/step - loss: 6.8382e-04 - accuracy: 1.0000\n",
            "Epoch 14/22\n",
            "668/668 [==============================] - 2s 3ms/step - loss: 5.0527e-04 - accuracy: 1.0000\n",
            "Epoch 15/22\n",
            "668/668 [==============================] - 2s 3ms/step - loss: 3.7259e-04 - accuracy: 1.0000\n",
            "Epoch 16/22\n",
            "668/668 [==============================] - 1s 2ms/step - loss: 3.0515e-04 - accuracy: 1.0000\n",
            "Epoch 17/22\n",
            "668/668 [==============================] - 1s 2ms/step - loss: 2.3423e-04 - accuracy: 1.0000\n",
            "Epoch 18/22\n",
            "668/668 [==============================] - 1s 2ms/step - loss: 1.8818e-04 - accuracy: 1.0000\n",
            "Epoch 19/22\n",
            "668/668 [==============================] - 1s 2ms/step - loss: 0.0564 - accuracy: 0.9880\n",
            "Epoch 20/22\n",
            "668/668 [==============================] - 1s 2ms/step - loss: 0.0310 - accuracy: 0.9937\n",
            "Epoch 21/22\n",
            "668/668 [==============================] - 1s 2ms/step - loss: 0.0024 - accuracy: 0.9994\n",
            "Epoch 22/22\n",
            "668/668 [==============================] - 1s 2ms/step - loss: 0.0015 - accuracy: 0.9994\n"
          ]
        },
        {
          "output_type": "execute_result",
          "data": {
            "text/plain": [
              "<keras.src.callbacks.History at 0x7f61176519c0>"
            ]
          },
          "metadata": {},
          "execution_count": 223
        }
      ],
      "source": [
        "model = Sequential()\n",
        "model.add(Dense(best_nodes, input_shape=(n_components,), activation=best_activation_function))\n",
        "model.add(Dense(1, activation='sigmoid'))\n",
        "model.compile(loss='binary_crossentropy', optimizer='adam', metrics=['accuracy'])\n",
        "\n",
        "model.fit(pca_final_dataset, y_final_dataset, epochs=epochs, batch_size=batch_size, verbose=1)"
      ]
    },
    {
      "cell_type": "markdown",
      "metadata": {
        "id": "bhl_gHJFMiQM"
      },
      "source": [
        "### Salvataggio del modello su disco"
      ]
    },
    {
      "cell_type": "markdown",
      "metadata": {
        "id": "7qMxY4BVMiQN"
      },
      "source": [
        "Salvataggio dei pesi in formato _h5_:"
      ]
    },
    {
      "cell_type": "code",
      "execution_count": 93,
      "metadata": {
        "id": "AbqJT1TUMiQN"
      },
      "outputs": [],
      "source": [
        "model.save_weights(NN_WEIGHTS_PATH)"
      ]
    },
    {
      "cell_type": "markdown",
      "metadata": {
        "id": "fvpAmCN1MiQN"
      },
      "source": [
        "Salvataggio delle configurazioni in formato _JSON_:"
      ]
    },
    {
      "cell_type": "code",
      "execution_count": 94,
      "metadata": {
        "id": "zKf0lstCMiQN"
      },
      "outputs": [],
      "source": [
        "with open(NN_CONFIG_PATH, \"w\") as json_file:\n",
        "    json_file.write(model.to_json())"
      ]
    },
    {
      "cell_type": "markdown",
      "metadata": {
        "id": "xhaKpqN4MiQN"
      },
      "source": [
        "# Modello 2 - SVM"
      ]
    },
    {
      "cell_type": "markdown",
      "metadata": {
        "id": "0yvvaK1YzNZa"
      },
      "source": [
        "## Tuning iperparametri"
      ]
    },
    {
      "cell_type": "code",
      "execution_count": 224,
      "metadata": {
        "id": "LcVe7QMsMiQN"
      },
      "outputs": [],
      "source": [
        "assert y_val.shape[0] == pca_X_val.shape[0], \"Il numero di esempi nel validation set dopo la PCA è diverso dal numero di labels\""
      ]
    },
    {
      "cell_type": "code",
      "execution_count": 225,
      "metadata": {
        "colab": {
          "base_uri": "https://localhost:8080/"
        },
        "id": "lUYEhWjmMiQN",
        "outputId": "ecedf692-b5bb-4553-e607-104527599dee"
      },
      "outputs": [
        {
          "output_type": "stream",
          "name": "stdout",
          "text": [
            "Testing kernels: linear (1/4):\n",
            "f1 score: 0.847, Explained Variance: 0.573\n",
            "Testing kernels: rbf (2/4):\n",
            "f1 score: 0.908, Explained Variance: 0.750\n",
            "Testing kernels: poly (3/4):\n",
            "f1 score: 0.702, Explained Variance: 0.399\n",
            "Testing kernels: sigmoid (4/4):\n",
            "f1 score: 0.518, Explained Variance: -0.499\n"
          ]
        }
      ],
      "source": [
        "from sklearn import svm\n",
        "from sklearn.metrics import f1_score, explained_variance_score\n",
        "\n",
        "kernels_avaible = ['linear', 'rbf', 'poly', 'sigmoid']\n",
        "kernels_f1 = []\n",
        "kernels_explained_variance = []\n",
        "for i, kernel in enumerate(kernels_avaible):\n",
        "    print(f\"Testing kernels: {kernel} ({i+1}/{len(kernels_avaible)}):\")\n",
        "    # Crea il classificatore SVM\n",
        "    clf = svm.SVC(kernel=kernel, C=1, random_state=RANDOM_STATE)\n",
        "\n",
        "    # Addestra il classificatore\n",
        "    clf.fit(pca_X_train, resized_y_train)\n",
        "    # Effettua le predizioni sul validation set\n",
        "    y_pred = clf.predict(pca_X_val) #array di booleani, grande quanto il num di righe di pca_X_val\n",
        "\n",
        "    kernels_f1.append(f1_score(y_val, y_pred))\n",
        "\n",
        "    kernels_explained_variance.append(explained_variance_score(y_val, y_pred))\n",
        "    print(f\"f1 score: {kernels_f1[-1]:.3f}, Explained Variance: {kernels_explained_variance[-1]:.3f}\")"
      ]
    },
    {
      "cell_type": "code",
      "execution_count": 226,
      "metadata": {
        "colab": {
          "base_uri": "https://localhost:8080/",
          "height": 0
        },
        "id": "brEmQ3AEMiQO",
        "outputId": "78869a54-7489-46be-cd7e-f88e0a255963"
      },
      "outputs": [
        {
          "output_type": "execute_result",
          "data": {
            "text/plain": [
              "'rbf'"
            ],
            "application/vnd.google.colaboratory.intrinsic+json": {
              "type": "string"
            }
          },
          "metadata": {},
          "execution_count": 226
        }
      ],
      "source": [
        "best_kernel = kernels_avaible[np.argmax(kernels_f1)]\n",
        "best_kernel"
      ]
    },
    {
      "cell_type": "code",
      "execution_count": 227,
      "metadata": {
        "colab": {
          "base_uri": "https://localhost:8080/"
        },
        "id": "vM_UemmRMiQO",
        "outputId": "7e2bb77c-9a86-4aaf-d900-334275d8aeb2"
      },
      "outputs": [
        {
          "output_type": "stream",
          "name": "stdout",
          "text": [
            "Testing C: 1 (1/9):\n",
            "f1 score: 0.908, Explained Variance: 0.750\n",
            "Testing C: 2 (2/9):\n",
            "f1 score: 0.919, Explained Variance: 0.783\n",
            "Testing C: 3 (3/9):\n",
            "f1 score: 0.915, Explained Variance: 0.770\n",
            "Testing C: 4 (4/9):\n",
            "f1 score: 0.915, Explained Variance: 0.770\n",
            "Testing C: 5 (5/9):\n",
            "f1 score: 0.922, Explained Variance: 0.791\n",
            "Testing C: 6 (6/9):\n",
            "f1 score: 0.927, Explained Variance: 0.804\n",
            "Testing C: 7 (7/9):\n",
            "f1 score: 0.924, Explained Variance: 0.797\n",
            "Testing C: 8 (8/9):\n",
            "f1 score: 0.927, Explained Variance: 0.804\n",
            "Testing C: 9 (9/9):\n",
            "f1 score: 0.924, Explained Variance: 0.797\n"
          ]
        }
      ],
      "source": [
        "C_avaible = range(1,10)\n",
        "C_f1 = []\n",
        "C_explained_variance = []\n",
        "for i, C in enumerate(C_avaible):\n",
        "    print(f\"Testing C: {C} ({i+1}/{len(C_avaible)}):\")\n",
        "    # Crea il classificatore SVM\n",
        "    clf = svm.SVC(kernel=best_kernel, C=C, random_state=RANDOM_STATE)\n",
        "\n",
        "    # Addestra il classificatore\n",
        "    clf.fit(pca_X_train, resized_y_train)\n",
        "    # Effettua le predizioni sul validation set\n",
        "    y_pred = clf.predict(pca_X_val) #array di booleani, grande quanto il num di righe di pca_X_val\n",
        "\n",
        "    C_f1.append(f1_score(y_val, y_pred))\n",
        "\n",
        "    C_explained_variance.append(explained_variance_score(y_val, y_pred))\n",
        "    print(f\"f1 score: {C_f1[-1]:.3f}, Explained Variance: {C_explained_variance[-1]:.3f}\")"
      ]
    },
    {
      "cell_type": "code",
      "execution_count": 228,
      "metadata": {
        "colab": {
          "base_uri": "https://localhost:8080/"
        },
        "id": "OJm6QcGDMiQO",
        "outputId": "affa890d-5d95-4fa8-887f-cb40a8af0eea"
      },
      "outputs": [
        {
          "output_type": "execute_result",
          "data": {
            "text/plain": [
              "6"
            ]
          },
          "metadata": {},
          "execution_count": 228
        }
      ],
      "source": [
        "best_C = C_avaible[np.argmax(C_f1)]\n",
        "best_C"
      ]
    },
    {
      "cell_type": "markdown",
      "metadata": {
        "id": "q3ngdQolMiQO"
      },
      "source": [
        "## __Stratified 10-fold cross validation__"
      ]
    },
    {
      "cell_type": "code",
      "execution_count": 229,
      "metadata": {
        "id": "t7D_XwDoMiQO"
      },
      "outputs": [],
      "source": [
        "X_train_val = np.concatenate([X_train, X_val])\n",
        "y_train_val = np.concatenate([y_train, y_val])\n",
        "y = y_train_val\n",
        "\n",
        "assert X_train_val.shape[0] == y_train_val.shape[0], \"Training + validation set have different number of examples and labels\"\n",
        "\n",
        "pca_cross_dataset = pca.transform(X_train_val)\n",
        "df = pd.DataFrame(data=pca_cross_dataset)"
      ]
    },
    {
      "cell_type": "code",
      "execution_count": 230,
      "metadata": {
        "colab": {
          "base_uri": "https://localhost:8080/"
        },
        "id": "cJSo7KPJMiQP",
        "outputId": "69d9cd4b-2c07-43c8-a859-1bfa09a1a1db"
      },
      "outputs": [
        {
          "output_type": "stream",
          "name": "stdout",
          "text": [
            "Fold 1, Accuracy: 0.969, F1: 0.936, Explained Variance: 0.837, Training time: 0.281, Evaluation time: 0.042\n",
            "Fold 2, Accuracy: 0.969, F1: 0.939, Explained Variance: 0.836, Training time: 0.279, Evaluation time: 0.043\n",
            "Fold 3, Accuracy: 0.967, F1: 0.934, Explained Variance: 0.822, Training time: 0.285, Evaluation time: 0.045\n",
            "Fold 4, Accuracy: 0.983, F1: 0.967, Explained Variance: 0.911, Training time: 0.267, Evaluation time: 0.045\n",
            "Fold 5, Accuracy: 0.978, F1: 0.955, Explained Variance: 0.882, Training time: 0.280, Evaluation time: 0.042\n",
            "Fold 6, Accuracy: 0.972, F1: 0.946, Explained Variance: 0.853, Training time: 0.257, Evaluation time: 0.045\n",
            "Fold 7, Accuracy: 0.964, F1: 0.927, Explained Variance: 0.808, Training time: 0.266, Evaluation time: 0.043\n",
            "Fold 8, Accuracy: 0.981, F1: 0.960, Explained Variance: 0.897, Training time: 0.277, Evaluation time: 0.047\n",
            "Fold 9, Accuracy: 0.953, F1: 0.903, Explained Variance: 0.749, Training time: 0.245, Evaluation time: 0.020\n",
            "Fold 10, Accuracy: 0.986, F1: 0.972, Explained Variance: 0.926, Training time: 0.182, Evaluation time: 0.033\n"
          ]
        }
      ],
      "source": [
        "from sklearn.metrics import accuracy_score, recall_score, precision_score, f1_score, explained_variance_score\n",
        "from sklearn.model_selection import StratifiedKFold\n",
        "from imblearn.under_sampling import RandomUnderSampler\n",
        "from imblearn.over_sampling import RandomOverSampler\n",
        "import time\n",
        "\n",
        "n_fold = 10\n",
        "folds = StratifiedKFold(n_splits=n_fold, shuffle=True, random_state=RANDOM_STATE)\n",
        "\n",
        "test_pred_proba = np.zeros((df.shape[0], 2))\n",
        "accuracy_k_fold_svm = []\n",
        "recall_k_fold_svm = []\n",
        "precision_k_fold_svm = []\n",
        "f1_k_fold_svm = []\n",
        "explained_variance_k_fold_svm = []\n",
        "\n",
        "timesAddestramento_svm = []\n",
        "timesInferenza_svm = []\n",
        "\n",
        "resample = False\n",
        "undersampling_pos_proportion, oversampling_pos_proportion = 0.333, 0.4\n",
        "undersampling_pos_to_neg_proportion = undersampling_pos_proportion / (1 - undersampling_pos_proportion)\n",
        "oversampling_pos_to_neg_proportion = oversampling_pos_proportion / (1 - oversampling_pos_proportion)\n",
        "undersampler = RandomUnderSampler(sampling_strategy=undersampling_pos_to_neg_proportion, random_state=RANDOM_STATE)\n",
        "oversampler = RandomOverSampler(sampling_strategy=oversampling_pos_to_neg_proportion, random_state=RANDOM_STATE)\n",
        "\n",
        "for n_fold, (train_idx, val_test_idx) in enumerate(folds.split(df, y)):\n",
        "        X_cross_train, X_cross_val = df.iloc[train_idx], df.iloc[val_test_idx]\n",
        "        y_cross_train, y_cross_val = y[train_idx], y[val_test_idx]\n",
        "\n",
        "        if resample:\n",
        "                X_cross_train, y_cross_train = undersampler.fit_resample(X_cross_train, y_cross_train)\n",
        "                X_cross_train, y_cross_train = oversampler.fit_resample(X_cross_train, y_cross_train)\n",
        "\n",
        "        # Crea il classificatore SVM\n",
        "        clf = svm.SVC(kernel=best_kernel, C=best_C, random_state=RANDOM_STATE)\n",
        "        tic = time.time()\n",
        "\n",
        "        # Addestra il classificatore\n",
        "        clf.fit(X_cross_train, y_cross_train)\n",
        "        timesAddestramento_svm.append(time.time() - tic)\n",
        "\n",
        "        tic = time.time()\n",
        "        #fai inferenza sui dati di validation\n",
        "        y_cross_pred_valid = clf.predict(X_cross_val)\n",
        "        timesInferenza_svm.append(time.time() - tic)\n",
        "\n",
        "        accuracy_k_fold_svm.append(accuracy_score(y_cross_val, y_cross_pred_valid))\n",
        "        recall_k_fold_svm.append(recall_score(y_cross_val, y_cross_pred_valid))\n",
        "        precision_k_fold_svm.append(precision_score(y_cross_val, y_cross_pred_valid))\n",
        "        f1_k_fold_svm.append(f1_score(y_cross_val, y_cross_pred_valid))\n",
        "        explained_variance_k_fold_svm.append(explained_variance_score(y_cross_val, y_cross_pred_valid))\n",
        "\n",
        "        print(f'Fold {n_fold + 1}, Accuracy: {accuracy_k_fold_svm[-1]:.3f}, F1: {f1_k_fold_svm[-1]:.3f}, Explained Variance: {explained_variance_k_fold_svm[-1]:.3f}', end=\", \")\n",
        "        print(f'Training time: {timesAddestramento_svm[-1]:.3f}, Evaluation time: {timesInferenza_svm[-1]:.3f}')"
      ]
    },
    {
      "cell_type": "code",
      "execution_count": 231,
      "metadata": {
        "colab": {
          "base_uri": "https://localhost:8080/"
        },
        "id": "CRhCs3KnMiQP",
        "outputId": "903b1dc7-9e7a-4acc-c9e2-9e46781a1efd"
      },
      "outputs": [
        {
          "output_type": "stream",
          "name": "stdout",
          "text": [
            "Tempo medio di addestramento: 0.26 secondi\n",
            "Tempo medio di inferenza: 0.04 secondi\n"
          ]
        }
      ],
      "source": [
        "print(f\"Tempo medio di addestramento: {np.mean(timesAddestramento_svm):.2f} secondi\")\n",
        "print(f\"Tempo medio di inferenza: {np.mean(timesInferenza_svm):.2f} secondi\")"
      ]
    },
    {
      "cell_type": "markdown",
      "metadata": {
        "id": "J2S4xMQzMiQP"
      },
      "source": [
        "Metriche sul __validation test__ per la __stratified cross validation__:"
      ]
    },
    {
      "cell_type": "code",
      "execution_count": 232,
      "metadata": {
        "colab": {
          "base_uri": "https://localhost:8080/"
        },
        "id": "aWl7TaTKMiQP",
        "outputId": "b77118e3-69ba-4c39-f996-ad4acf375676"
      },
      "outputs": [
        {
          "output_type": "stream",
          "name": "stdout",
          "text": [
            "Accuracy=0.972, Recall=0.937, Precision=0.952, F1=0.944, Explained Variance=0.852\n"
          ]
        }
      ],
      "source": [
        "accuracy = np.mean(accuracy_k_fold_svm)\n",
        "recall = np.mean(recall_k_fold_svm)\n",
        "precision = np.mean(precision_k_fold_svm)\n",
        "f1 = np.mean(f1_k_fold_svm)\n",
        "explained_variance = np.mean(explained_variance_k_fold_svm)\n",
        "print(f\"Accuracy={accuracy:.3f}, Recall={recall:.3f}, Precision={precision:.3f}, F1={f1:.3f}, Explained Variance={explained_variance:.3f}\")"
      ]
    },
    {
      "cell_type": "markdown",
      "metadata": {
        "id": "qcRwpuTNMiQQ"
      },
      "source": [
        "Intervalli di confidenza per tutte le metriche:"
      ]
    },
    {
      "cell_type": "code",
      "execution_count": 233,
      "metadata": {
        "colab": {
          "base_uri": "https://localhost:8080/"
        },
        "id": "XSx7ySz8MiQQ",
        "outputId": "6b81ec77-bb0e-4c8b-8015-28a5f45a3acc"
      },
      "outputs": [
        {
          "output_type": "stream",
          "name": "stdout",
          "text": [
            "Accuracy 0.95 confidence interval: (0.9650270694053453, 0.9794173750390989)\n",
            "Recall 0.95 confidence interval: (0.9155678668391081, 0.9574408722370467)\n",
            "Precision 0.95 confidence interval: (0.9349386179028966, 0.9685301116791108)\n",
            "F1 0.95 confidence interval: (0.928963693610848, 0.9586128023301949)\n",
            "Explained Variance 0.95 confidence interval: (0.8137640815312512, 0.890357398435109)\n"
          ]
        }
      ],
      "source": [
        "confidence = 0.95\n",
        "\n",
        "import scipy.stats as stats\n",
        "\n",
        "print(f\"Accuracy {confidence} confidence interval: {stats.t.interval(confidence=confidence, df=len(accuracy_k_fold_svm)-1, loc=np.mean(accuracy_k_fold_svm), scale=stats.sem(accuracy_k_fold_svm))}\")\n",
        "print(f\"Recall {confidence} confidence interval: {stats.t.interval(confidence=confidence, df=len(recall_k_fold_svm)-1, loc=np.mean(recall_k_fold_svm), scale=stats.sem(recall_k_fold_svm))}\")\n",
        "print(f\"Precision {confidence} confidence interval: {stats.t.interval(confidence=confidence, df=len(precision_k_fold_svm)-1, loc=np.mean(precision_k_fold_svm), scale=stats.sem(precision_k_fold_svm))}\")\n",
        "print(f\"F1 {confidence} confidence interval: {stats.t.interval(confidence=confidence, df=len(f1_k_fold_svm)-1, loc=np.mean(f1_k_fold_svm), scale=stats.sem(f1_k_fold_svm))}\") # dopo lo plottiamo pure\n",
        "print(f\"Explained Variance {confidence} confidence interval: {stats.t.interval(confidence=confidence, df=len(explained_variance_k_fold_svm)-1, loc=np.mean(explained_variance_k_fold_svm), scale=stats.sem(explained_variance_k_fold_svm))}\")"
      ]
    },
    {
      "cell_type": "markdown",
      "metadata": {
        "id": "AqE0gmvS6Ysu"
      },
      "source": [
        "## __Addestramento__ con l'intero __training set__"
      ]
    },
    {
      "cell_type": "code",
      "execution_count": 234,
      "metadata": {
        "colab": {
          "base_uri": "https://localhost:8080/",
          "height": 0
        },
        "id": "F_yu60et3-on",
        "outputId": "2198c67d-f829-43d6-8e50-5a60365aede6"
      },
      "outputs": [
        {
          "output_type": "execute_result",
          "data": {
            "text/plain": [
              "SVC(C=6, probability=True, random_state=57)"
            ],
            "text/html": [
              "<style>#sk-container-id-4 {color: black;background-color: white;}#sk-container-id-4 pre{padding: 0;}#sk-container-id-4 div.sk-toggleable {background-color: white;}#sk-container-id-4 label.sk-toggleable__label {cursor: pointer;display: block;width: 100%;margin-bottom: 0;padding: 0.3em;box-sizing: border-box;text-align: center;}#sk-container-id-4 label.sk-toggleable__label-arrow:before {content: \"▸\";float: left;margin-right: 0.25em;color: #696969;}#sk-container-id-4 label.sk-toggleable__label-arrow:hover:before {color: black;}#sk-container-id-4 div.sk-estimator:hover label.sk-toggleable__label-arrow:before {color: black;}#sk-container-id-4 div.sk-toggleable__content {max-height: 0;max-width: 0;overflow: hidden;text-align: left;background-color: #f0f8ff;}#sk-container-id-4 div.sk-toggleable__content pre {margin: 0.2em;color: black;border-radius: 0.25em;background-color: #f0f8ff;}#sk-container-id-4 input.sk-toggleable__control:checked~div.sk-toggleable__content {max-height: 200px;max-width: 100%;overflow: auto;}#sk-container-id-4 input.sk-toggleable__control:checked~label.sk-toggleable__label-arrow:before {content: \"▾\";}#sk-container-id-4 div.sk-estimator input.sk-toggleable__control:checked~label.sk-toggleable__label {background-color: #d4ebff;}#sk-container-id-4 div.sk-label input.sk-toggleable__control:checked~label.sk-toggleable__label {background-color: #d4ebff;}#sk-container-id-4 input.sk-hidden--visually {border: 0;clip: rect(1px 1px 1px 1px);clip: rect(1px, 1px, 1px, 1px);height: 1px;margin: -1px;overflow: hidden;padding: 0;position: absolute;width: 1px;}#sk-container-id-4 div.sk-estimator {font-family: monospace;background-color: #f0f8ff;border: 1px dotted black;border-radius: 0.25em;box-sizing: border-box;margin-bottom: 0.5em;}#sk-container-id-4 div.sk-estimator:hover {background-color: #d4ebff;}#sk-container-id-4 div.sk-parallel-item::after {content: \"\";width: 100%;border-bottom: 1px solid gray;flex-grow: 1;}#sk-container-id-4 div.sk-label:hover label.sk-toggleable__label {background-color: #d4ebff;}#sk-container-id-4 div.sk-serial::before {content: \"\";position: absolute;border-left: 1px solid gray;box-sizing: border-box;top: 0;bottom: 0;left: 50%;z-index: 0;}#sk-container-id-4 div.sk-serial {display: flex;flex-direction: column;align-items: center;background-color: white;padding-right: 0.2em;padding-left: 0.2em;position: relative;}#sk-container-id-4 div.sk-item {position: relative;z-index: 1;}#sk-container-id-4 div.sk-parallel {display: flex;align-items: stretch;justify-content: center;background-color: white;position: relative;}#sk-container-id-4 div.sk-item::before, #sk-container-id-4 div.sk-parallel-item::before {content: \"\";position: absolute;border-left: 1px solid gray;box-sizing: border-box;top: 0;bottom: 0;left: 50%;z-index: -1;}#sk-container-id-4 div.sk-parallel-item {display: flex;flex-direction: column;z-index: 1;position: relative;background-color: white;}#sk-container-id-4 div.sk-parallel-item:first-child::after {align-self: flex-end;width: 50%;}#sk-container-id-4 div.sk-parallel-item:last-child::after {align-self: flex-start;width: 50%;}#sk-container-id-4 div.sk-parallel-item:only-child::after {width: 0;}#sk-container-id-4 div.sk-dashed-wrapped {border: 1px dashed gray;margin: 0 0.4em 0.5em 0.4em;box-sizing: border-box;padding-bottom: 0.4em;background-color: white;}#sk-container-id-4 div.sk-label label {font-family: monospace;font-weight: bold;display: inline-block;line-height: 1.2em;}#sk-container-id-4 div.sk-label-container {text-align: center;}#sk-container-id-4 div.sk-container {/* jupyter's `normalize.less` sets `[hidden] { display: none; }` but bootstrap.min.css set `[hidden] { display: none !important; }` so we also need the `!important` here to be able to override the default hidden behavior on the sphinx rendered scikit-learn.org. See: https://github.com/scikit-learn/scikit-learn/issues/21755 */display: inline-block !important;position: relative;}#sk-container-id-4 div.sk-text-repr-fallback {display: none;}</style><div id=\"sk-container-id-4\" class=\"sk-top-container\"><div class=\"sk-text-repr-fallback\"><pre>SVC(C=6, probability=True, random_state=57)</pre><b>In a Jupyter environment, please rerun this cell to show the HTML representation or trust the notebook. <br />On GitHub, the HTML representation is unable to render, please try loading this page with nbviewer.org.</b></div><div class=\"sk-container\" hidden><div class=\"sk-item\"><div class=\"sk-estimator sk-toggleable\"><input class=\"sk-toggleable__control sk-hidden--visually\" id=\"sk-estimator-id-4\" type=\"checkbox\" checked><label for=\"sk-estimator-id-4\" class=\"sk-toggleable__label sk-toggleable__label-arrow\">SVC</label><div class=\"sk-toggleable__content\"><pre>SVC(C=6, probability=True, random_state=57)</pre></div></div></div></div></div>"
            ]
          },
          "metadata": {},
          "execution_count": 234
        }
      ],
      "source": [
        "assert X_train_val.shape[0] == y_train_val.shape[0], \"Training + validation set have different number of examples and labels\"\n",
        "\n",
        "resample = True\n",
        "undersampling_pos_proportion, oversampling_pos_proportion = 0.333, 0.4\n",
        "undersampling_pos_to_neg_proportion = undersampling_pos_proportion / (1 - undersampling_pos_proportion)\n",
        "oversampling_pos_to_neg_proportion = oversampling_pos_proportion / (1 - oversampling_pos_proportion)\n",
        "undersampler = RandomUnderSampler(sampling_strategy=undersampling_pos_to_neg_proportion, random_state=RANDOM_STATE)\n",
        "oversampler = RandomOverSampler(sampling_strategy=oversampling_pos_to_neg_proportion, random_state=RANDOM_STATE)\n",
        "\n",
        "if resample:\n",
        "    X_train_val, y_train_val = undersampler.fit_resample(X_train_val, y_train_val)\n",
        "    X_train_val, y_train_val = oversampler.fit_resample(X_train_val, y_train_val)\n",
        "\n",
        "pca_train_dataset = pca.transform(X_train_val)\n",
        "\n",
        "model = svm.SVC(kernel=best_kernel, C=best_C, random_state=RANDOM_STATE, probability=True) #nota il probability=True, perchè vogliamo (con la NN di sopra) output reale e non già sogliato sulla threshold che decide lui (ci serve dopo per le varie curve)\n",
        "\n",
        "# Addestra il classificatore\n",
        "model.fit(pca_train_dataset, y_train_val)"
      ]
    },
    {
      "cell_type": "markdown",
      "metadata": {
        "id": "jadDkfXP8Eky"
      },
      "source": [
        "## Test finale sul test-set e matrice di confusione\n",
        "\n"
      ]
    },
    {
      "cell_type": "code",
      "execution_count": 235,
      "metadata": {
        "colab": {
          "base_uri": "https://localhost:8080/"
        },
        "id": "4duPQy0o8IW5",
        "outputId": "a2d07329-9d90-40b0-9d60-94fece5a93b8"
      },
      "outputs": [
        {
          "output_type": "stream",
          "name": "stdout",
          "text": [
            "Accuracy=0.955, Recall=0.922, Precision=0.904, F1=0.913, Explained Variance=0.763\n"
          ]
        }
      ],
      "source": [
        "y_test_pred_prob_svm = model.predict_proba(pca_X_test)[:, 1]\n",
        "threshold = 0.5\n",
        "y_test_pred_valid = (y_test_pred_prob_svm > threshold).astype(int)\n",
        "\n",
        "accuracy_svm = accuracy_score(y_test, y_test_pred_valid)\n",
        "recall_svm = recall_score(y_test, y_test_pred_valid)\n",
        "precision_svm = precision_score(y_test, y_test_pred_valid)\n",
        "f1_svm = f1_score(y_test, y_test_pred_valid)\n",
        "explained_variance_svm = explained_variance_score(y_test, y_test_pred_valid)\n",
        "\n",
        "print(f\"Accuracy={accuracy_svm:.3f}, Recall={recall_svm:.3f}, Precision={precision_svm:.3f}, F1={f1_svm:.3f}, Explained Variance={explained_variance_svm:.3f}\")"
      ]
    },
    {
      "cell_type": "code",
      "execution_count": 236,
      "metadata": {
        "colab": {
          "base_uri": "https://localhost:8080/",
          "height": 0
        },
        "id": "4--vatK5WE8m",
        "outputId": "db924108-8424-48e0-e47d-b55ebf01f85e"
      },
      "outputs": [
        {
          "output_type": "display_data",
          "data": {
            "text/plain": [
              "<Figure size 700x700 with 1 Axes>"
            ],
            "image/png": "[encoded data removed]"
          },
          "metadata": {}
        }
      ],
      "source": [
        "\n",
        "confmat = confusion_matrix(y_test, y_test_pred_valid)\n",
        "# Plot the confusion matrix\n",
        "f,ax = plt.subplots(figsize=(7, 7))\n",
        "sns.heatmap(confmat, annot=True, linewidths=0.02, cbar=False, fmt= '.1f',ax=ax)\n",
        "\n",
        "plt.title(\"Confusion Matrix SVM addestrata su train+validation set\")\n",
        "plt.xlabel(\"Predicted Label\")\n",
        "plt.ylabel(\"True Label\")\n",
        "plt.tight_layout()\n",
        "plt.show()"
      ]
    },
    {
      "cell_type": "markdown",
      "metadata": {
        "id": "k694T24_WVR4"
      },
      "source": [
        "## Addestramento finale con l'intero dataset e salvataggio su disco"
      ]
    },
    {
      "cell_type": "code",
      "execution_count": 108,
      "metadata": {
        "id": "v9NDgsadWSOI"
      },
      "outputs": [],
      "source": [
        "X_final_dataset = dataset.drop(\"labels\", axis=1)\n",
        "y_final_dataset = dataset[\"labels\"]\n",
        "X_final_dataset.shape\n",
        "\n",
        "assert X_final_dataset.shape[0] == y_final_dataset.shape[0], \"Final dataset and labels have different number of examples\"\n",
        "\n",
        "resample = True\n",
        "\n",
        "undersampling_pos_proportion, oversampling_pos_proportion = 0.333, 0.4\n",
        "undersampling_pos_to_neg_proportion = undersampling_pos_proportion / (1 - undersampling_pos_proportion)\n",
        "oversampling_pos_to_neg_proportion = oversampling_pos_proportion / (1 - oversampling_pos_proportion)\n",
        "undersampler = RandomUnderSampler(sampling_strategy=undersampling_pos_to_neg_proportion, random_state=RANDOM_STATE)\n",
        "oversampler = RandomOverSampler(sampling_strategy=oversampling_pos_to_neg_proportion, random_state=RANDOM_STATE)\n",
        "\n",
        "if resample:\n",
        "    X_final_dataset, y_final_dataset = undersampler.fit_resample(X_final_dataset, y_final_dataset)\n",
        "    X_final_dataset, y_final_dataset = oversampler.fit_resample(X_final_dataset, y_final_dataset)\n",
        "\n",
        "pca_final_dataset = pca.transform(X_final_dataset)\n",
        "\n",
        "model = svm.SVC(kernel=best_kernel, C=best_C, random_state=RANDOM_STATE)\n",
        "model.fit(pca_final_dataset, y_final_dataset)\n",
        "\n",
        "\n",
        "# salvo modello addestrato su disco\n",
        "with open(SVM_MODEL_DUMP_PATH,'wb') as f:\n",
        "    pickle.dump(model,f)\n",
        "\n",
        "# per caricare (se si vuole fare inferenza in ambiente di produzione) il modello addestrato:\n",
        "# with open(SVM_MODEL_DUMP_PATH, 'rb') as f:\n",
        "#     model = pickle.load(f)\n"
      ]
    },
    {
      "cell_type": "markdown",
      "metadata": {
        "id": "sL9n6Z4xoqhp"
      },
      "source": [
        "## Comparazione delle performance dei due modelli sulle rispettive __10-fold cross validation__"
      ]
    },
    {
      "cell_type": "markdown",
      "metadata": {
        "id": "bq8Rd99ubFoT"
      },
      "source": [
        "__Metriche__:"
      ]
    },
    {
      "cell_type": "code",
      "execution_count": 237,
      "metadata": {
        "colab": {
          "base_uri": "https://localhost:8080/",
          "height": 561
        },
        "id": "DMDL7epZ8zjp",
        "outputId": "8eba47ae-8aa7-4489-e1d9-65302e4d55f9"
      },
      "outputs": [
        {
          "output_type": "stream",
          "name": "stdout",
          "text": [
            "NN metrics mean: [0.9713888888888889, 0.9509862671660425, 0.9360198786307381, 0.9433305503745878]\n",
            "SVM metrics mean: [0.9722222222222221, 0.9365043695380774, 0.9517343647910037, 0.9437882479705214]\n",
            "NN metrics intervals: [(0.9595753272074573, 0.9832024505703204), (0.9310561446686508, 0.9709163896634342), (0.9085102670058008, 0.9635294902556754), (0.9204589378760564, 0.9662021628731192)]\n",
            "SVM metrics intervals: [(0.9650270694053453, 0.9794173750390989), (0.9155678668391081, 0.9574408722370467), (0.9349386179028966, 0.9685301116791108), (0.928963693610848, 0.9586128023301949)]\n"
          ]
        },
        {
          "output_type": "display_data",
          "data": {
            "text/plain": [
              "<Figure size 640x480 with 1 Axes>"
            ],
            "image/png": "[encoded data removed]"
          },
          "metadata": {}
        }
      ],
      "source": [
        "import numpy as np\n",
        "import matplotlib.pyplot as plt\n",
        "from scipy import stats\n",
        "\n",
        "metrics = ['Accuracy', \"Recall\", \"Precision\", \"F1-score\"]\n",
        "nn_metrics_mean = []\n",
        "nn_metrics_intervals = []\n",
        "svm_metrics_mean = []\n",
        "svm_metrics_intervals = []\n",
        "\n",
        "# Calculate metrics for nn\n",
        "[nn_metrics_mean.append(np.mean(metric)) for metric in (accuracy_k_fold, recall_k_fold, precision_k_fold, f1_k_fold)]\n",
        "\n",
        "# Calculate intervals for nn\n",
        "[nn_metrics_intervals.append(stats.t.interval(0.95, len(metric)-1, loc=np.mean(metric), scale=stats.sem(metric))) for metric in (accuracy_k_fold, recall_k_fold, precision_k_fold, f1_k_fold)]\n",
        "nn_errors = [(interval[1] - interval[0]) / 2 for interval in nn_metrics_intervals]\n",
        "\n",
        "# Calculate metrics for svm\n",
        "[svm_metrics_mean.append(np.mean(metric)) for metric in (accuracy_k_fold_svm, recall_k_fold_svm, precision_k_fold_svm, f1_k_fold_svm)]\n",
        "\n",
        "# Calculate intervals for svm\n",
        "[svm_metrics_intervals.append(stats.t.interval(0.95, len(metric)-1, loc=np.mean(metric), scale=stats.sem(metric))) for metric in (accuracy_k_fold_svm, recall_k_fold_svm, precision_k_fold_svm, f1_k_fold_svm)]\n",
        "svm_errors = [(interval[1] - interval[0]) / 2 for interval in svm_metrics_intervals]\n",
        "\n",
        "print(f\"NN metrics mean: {nn_metrics_mean}\")\n",
        "print(f\"SVM metrics mean: {svm_metrics_mean}\")\n",
        "print(f\"NN metrics intervals: {nn_metrics_intervals}\")\n",
        "print(f\"SVM metrics intervals: {svm_metrics_intervals}\")\n",
        "\n",
        "models = [\"NN\", \"SVM\"]\n",
        "means = [nn_metrics_mean, svm_metrics_mean]\n",
        "errors = [nn_errors, svm_errors]\n",
        "\n",
        "for i, model in enumerate(models):\n",
        "  x_pos = np.arange(len(metrics)) + i * 0.2  # Posizione x per ogni modello\n",
        "  plt.errorbar(x_pos, means[i], yerr=errors[i], fmt='o', label=model)\n",
        "\n",
        "\n",
        "plt.xticks(np.arange(len(metrics)) + 0.1, metrics)\n",
        "plt.ylabel('Performance')\n",
        "plt.xlabel('Metrica')\n",
        "plt.title('Comparazione metriche su cross-validation')\n",
        "plt.legend()\n",
        "\n",
        "plt.show()"
      ]
    },
    {
      "cell_type": "markdown",
      "metadata": {
        "id": "_fSUMVPdbIJL"
      },
      "source": [
        "Curva __ROC__:"
      ]
    },
    {
      "cell_type": "code",
      "execution_count": 238,
      "metadata": {
        "colab": {
          "base_uri": "https://localhost:8080/",
          "height": 472
        },
        "id": "LrnoBfGCnhSk",
        "outputId": "e319f438-fc64-40b5-ab3a-a3cd3ae68fcd"
      },
      "outputs": [
        {
          "output_type": "display_data",
          "data": {
            "text/plain": [
              "<Figure size 640x480 with 1 Axes>"
            ],
            "image/png": "[encoded data removed]"
          },
          "metadata": {}
        }
      ],
      "source": [
        "from sklearn.metrics import roc_curve, auc\n",
        "import matplotlib.pyplot as plt\n",
        "\n",
        "fpr_nn, tpr_nn, thresholds_nn = roc_curve(y_test, y_test_pred_prob_nn)\n",
        "roc_auc_nn = auc(fpr_nn, tpr_nn)\n",
        "\n",
        "fpr_svm, tpr_svm, thresholds_svm = roc_curve(y_test, y_test_pred_prob_svm)\n",
        "roc_auc_svm = auc(fpr_svm, tpr_svm)\n",
        "\n",
        "plt.figure()\n",
        "plt.plot([0, 0], [0, 1], color='navy', lw=1, linestyle='--')\n",
        "plt.plot([0, 1], [1, 1], color='navy', lw=1, linestyle='--')\n",
        "plt.plot([0, 1], [0, 1], color='navy', lw=1, linestyle='--')\n",
        "\n",
        "# Plotta la curva ROC dei due modelli per comparare le performance\n",
        "\n",
        "plt.plot(fpr_nn, tpr_nn, label=f'NN (AUC = {roc_auc_nn:.3f})')\n",
        "plt.plot(fpr_svm, tpr_svm, label=f'SVM (AUC = {roc_auc_svm:.3f})')\n",
        "\n",
        "plt.xlim([0.0, 1.0])\n",
        "plt.ylim([0.0, 1.05])\n",
        "plt.xlabel('False Positive Rate')\n",
        "plt.ylabel('True Positive Rate')\n",
        "plt.title('Receiver Operating Characteristic')\n",
        "plt.legend(loc=\"lower right\")\n",
        "plt.show()"
      ]
    },
    {
      "cell_type": "markdown",
      "metadata": {
        "id": "d3-HepPDblCI"
      },
      "source": [
        "Curva __Precision-Recall__:"
      ]
    },
    {
      "cell_type": "code",
      "execution_count": 240,
      "metadata": {
        "colab": {
          "base_uri": "https://localhost:8080/",
          "height": 472
        },
        "id": "uBR-Z62FY8ZP",
        "outputId": "ed3012e3-b80c-425c-b9e9-9df05c07a5a3"
      },
      "outputs": [
        {
          "output_type": "display_data",
          "data": {
            "text/plain": [
              "<Figure size 640x480 with 1 Axes>"
            ],
            "image/png": "[encoded data removed]"
          },
          "metadata": {}
        }
      ],
      "source": [
        "from sklearn.metrics import precision_recall_curve\n",
        "import matplotlib.pyplot as plt\n",
        "\n",
        "precision_nn_threshold, recall_nn_threshold, thresholds_nn = precision_recall_curve(y_test, y_test_pred_prob_nn)\n",
        "prec_rec_auc_nn = auc(recall_nn_threshold, precision_nn_threshold)\n",
        "\n",
        "precision_svm_threshold, recall_svm_threshold, thresholds_svm = precision_recall_curve(y_test, y_test_pred_prob_svm)\n",
        "prec_rec_auc_svm = auc(recall_svm_threshold, precision_svm_threshold)\n",
        "\n",
        "plt.plot([1, 1], [0, 1], color='navy', lw=1, linestyle='--')\n",
        "plt.plot([1, 0], [1, 1], color='navy', lw=1, linestyle='--')\n",
        "plt.plot(recall_nn_threshold, precision_nn_threshold, lw=2, label='NN (AUC = %0.3f)' % prec_rec_auc_nn)\n",
        "plt.plot(recall_svm_threshold, precision_svm_threshold, lw=2, label='SVM (AUC = %0.3f)' % prec_rec_auc_svm)\n",
        "plt.xlabel('Recall')\n",
        "plt.ylabel('Precision')\n",
        "plt.title('Curve Precision-Recall')\n",
        "plt.legend(loc=\"lower left\")\n",
        "plt.show()"
      ]
    },
    {
      "cell_type": "code",
      "execution_count": 241,
      "metadata": {
        "colab": {
          "base_uri": "https://localhost:8080/",
          "height": 317
        },
        "id": "PxID2_UAbj31",
        "outputId": "5071520e-da1a-4d2c-b2e1-6360352ce521"
      },
      "outputs": [
        {
          "output_type": "stream",
          "name": "stdout",
          "text": [
            "Precision vs Recall a vari livelli della soglia decisionale per il modello NN\n"
          ]
        },
        {
          "output_type": "execute_result",
          "data": {
            "text/plain": [
              "   Threshold  Precision    Recall\n",
              "0   0.004863      0.800  0.990196\n",
              "1   0.010082      0.825  0.990196\n",
              "2   0.051488      0.850  0.950980\n",
              "3   0.116382      0.875  0.941176\n",
              "4   0.271101      0.900  0.941176\n",
              "5   0.450683      0.925  0.941176\n",
              "6   0.779892      0.950  0.941176\n",
              "7   0.969677      0.975  0.931373"
            ],
            "text/html": [
              "\n",
              "  <div id=\"df-74ac56fa-21e4-453e-b3a6-f1baefe58f95\" class=\"colab-df-container\">\n",
              "    <div>\n",
              "<style scoped>\n",
              "    .dataframe tbody tr th:only-of-type {\n",
              "        vertical-align: middle;\n",
              "    }\n",
              "\n",
              "    .dataframe tbody tr th {\n",
              "        vertical-align: top;\n",
              "    }\n",
              "\n",
              "    .dataframe thead th {\n",
              "        text-align: right;\n",
              "    }\n",
              "</style>\n",
              "<table border=\"1\" class=\"dataframe\">\n",
              "  <thead>\n",
              "    <tr style=\"text-align: right;\">\n",
              "      <th></th>\n",
              "      <th>Threshold</th>\n",
              "      <th>Precision</th>\n",
              "      <th>Recall</th>\n",
              "    </tr>\n",
              "  </thead>\n",
              "  <tbody>\n",
              "    <tr>\n",
              "      <th>0</th>\n",
              "      <td>0.004863</td>\n",
              "      <td>0.800</td>\n",
              "      <td>0.990196</td>\n",
              "    </tr>\n",
              "    <tr>\n",
              "      <th>1</th>\n",
              "      <td>0.010082</td>\n",
              "      <td>0.825</td>\n",
              "      <td>0.990196</td>\n",
              "    </tr>\n",
              "    <tr>\n",
              "      <th>2</th>\n",
              "      <td>0.051488</td>\n",
              "      <td>0.850</td>\n",
              "      <td>0.950980</td>\n",
              "    </tr>\n",
              "    <tr>\n",
              "      <th>3</th>\n",
              "      <td>0.116382</td>\n",
              "      <td>0.875</td>\n",
              "      <td>0.941176</td>\n",
              "    </tr>\n",
              "    <tr>\n",
              "      <th>4</th>\n",
              "      <td>0.271101</td>\n",
              "      <td>0.900</td>\n",
              "      <td>0.941176</td>\n",
              "    </tr>\n",
              "    <tr>\n",
              "      <th>5</th>\n",
              "      <td>0.450683</td>\n",
              "      <td>0.925</td>\n",
              "      <td>0.941176</td>\n",
              "    </tr>\n",
              "    <tr>\n",
              "      <th>6</th>\n",
              "      <td>0.779892</td>\n",
              "      <td>0.950</td>\n",
              "      <td>0.941176</td>\n",
              "    </tr>\n",
              "    <tr>\n",
              "      <th>7</th>\n",
              "      <td>0.969677</td>\n",
              "      <td>0.975</td>\n",
              "      <td>0.931373</td>\n",
              "    </tr>\n",
              "  </tbody>\n",
              "</table>\n",
              "</div>\n",
              "    <div class=\"colab-df-buttons\">\n",
              "\n",
              "  <div class=\"colab-df-container\">\n",
              "    <button class=\"colab-df-convert\" onclick=\"convertToInteractive('df-74ac56fa-21e4-453e-b3a6-f1baefe58f95')\"\n",
              "            title=\"Convert this dataframe to an interactive table.\"\n",
              "            style=\"display:none;\">\n",
              "\n",
              "  <svg xmlns=\"http://www.w3.org/2000/svg\" height=\"24px\" viewBox=\"0 -960 960 960\">\n",
              "    <path d=\"M120-120v-720h720v720H120Zm60-500h600v-160H180v160Zm220 220h160v-160H400v160Zm0 220h160v-160H400v160ZM180-400h160v-160H180v160Zm440 0h160v-160H620v160ZM180-180h160v-160H180v160Zm440 0h160v-160H620v160Z\"/>\n",
              "  </svg>\n",
              "    </button>\n",
              "\n",
              "  <style>\n",
              "    .colab-df-container {\n",
              "      display:flex;\n",
              "      gap: 12px;\n",
              "    }\n",
              "\n",
              "    .colab-df-convert {\n",
              "      background-color: #E8F0FE;\n",
              "      border: none;\n",
              "      border-radius: 50%;\n",
              "      cursor: pointer;\n",
              "      display: none;\n",
              "      fill: #1967D2;\n",
              "      height: 32px;\n",
              "      padding: 0 0 0 0;\n",
              "      width: 32px;\n",
              "    }\n",
              "\n",
              "    .colab-df-convert:hover {\n",
              "      background-color: #E2EBFA;\n",
              "      box-shadow: 0px 1px 2px rgba(60, 64, 67, 0.3), 0px 1px 3px 1px rgba(60, 64, 67, 0.15);\n",
              "      fill: #174EA6;\n",
              "    }\n",
              "\n",
              "    .colab-df-buttons div {\n",
              "      margin-bottom: 4px;\n",
              "    }\n",
              "\n",
              "    [theme=dark] .colab-df-convert {\n",
              "      background-color: #3B4455;\n",
              "      fill: #D2E3FC;\n",
              "    }\n",
              "\n",
              "    [theme=dark] .colab-df-convert:hover {\n",
              "      background-color: #434B5C;\n",
              "      box-shadow: 0px 1px 3px 1px rgba(0, 0, 0, 0.15);\n",
              "      filter: drop-shadow(0px 1px 2px rgba(0, 0, 0, 0.3));\n",
              "      fill: #FFFFFF;\n",
              "    }\n",
              "  </style>\n",
              "\n",
              "    <script>\n",
              "      const buttonEl =\n",
              "        document.querySelector('#df-74ac56fa-21e4-453e-b3a6-f1baefe58f95 button.colab-df-convert');\n",
              "      buttonEl.style.display =\n",
              "        google.colab.kernel.accessAllowed ? 'block' : 'none';\n",
              "\n",
              "      async function convertToInteractive(key) {\n",
              "        const element = document.querySelector('#df-74ac56fa-21e4-453e-b3a6-f1baefe58f95');\n",
              "        const dataTable =\n",
              "          await google.colab.kernel.invokeFunction('convertToInteractive',\n",
              "                                                    [key], {});\n",
              "        if (!dataTable) return;\n",
              "\n",
              "        const docLinkHtml = 'Like what you see? Visit the ' +\n",
              "          '<a target=\"_blank\" href=https://colab.research.google.com/notebooks/data_table.ipynb>data table notebook</a>'\n",
              "          + ' to learn more about interactive tables.';\n",
              "        element.innerHTML = '';\n",
              "        dataTable['output_type'] = 'display_data';\n",
              "        await google.colab.output.renderOutput(dataTable, element);\n",
              "        const docLink = document.createElement('div');\n",
              "        docLink.innerHTML = docLinkHtml;\n",
              "        element.appendChild(docLink);\n",
              "      }\n",
              "    </script>\n",
              "  </div>\n",
              "\n",
              "\n",
              "<div id=\"df-7d8f2682-dfc4-469c-adc1-ac1f9a77d60e\">\n",
              "  <button class=\"colab-df-quickchart\" onclick=\"quickchart('df-7d8f2682-dfc4-469c-adc1-ac1f9a77d60e')\"\n",
              "            title=\"Suggest charts\"\n",
              "            style=\"display:none;\">\n",
              "\n",
              "<svg xmlns=\"http://www.w3.org/2000/svg\" height=\"24px\"viewBox=\"0 0 24 24\"\n",
              "     width=\"24px\">\n",
              "    <g>\n",
              "        <path d=\"M19 3H5c-1.1 0-2 .9-2 2v14c0 1.1.9 2 2 2h14c1.1 0 2-.9 2-2V5c0-1.1-.9-2-2-2zM9 17H7v-7h2v7zm4 0h-2V7h2v10zm4 0h-2v-4h2v4z\"/>\n",
              "    </g>\n",
              "</svg>\n",
              "  </button>\n",
              "\n",
              "<style>\n",
              "  .colab-df-quickchart {\n",
              "      --bg-color: #E8F0FE;\n",
              "      --fill-color: #1967D2;\n",
              "      --hover-bg-color: #E2EBFA;\n",
              "      --hover-fill-color: #174EA6;\n",
              "      --disabled-fill-color: #AAA;\n",
              "      --disabled-bg-color: #DDD;\n",
              "  }\n",
              "\n",
              "  [theme=dark] .colab-df-quickchart {\n",
              "      --bg-color: #3B4455;\n",
              "      --fill-color: #D2E3FC;\n",
              "      --hover-bg-color: #434B5C;\n",
              "      --hover-fill-color: #FFFFFF;\n",
              "      --disabled-bg-color: #3B4455;\n",
              "      --disabled-fill-color: #666;\n",
              "  }\n",
              "\n",
              "  .colab-df-quickchart {\n",
              "    background-color: var(--bg-color);\n",
              "    border: none;\n",
              "    border-radius: 50%;\n",
              "    cursor: pointer;\n",
              "    display: none;\n",
              "    fill: var(--fill-color);\n",
              "    height: 32px;\n",
              "    padding: 0;\n",
              "    width: 32px;\n",
              "  }\n",
              "\n",
              "  .colab-df-quickchart:hover {\n",
              "    background-color: var(--hover-bg-color);\n",
              "    box-shadow: 0 1px 2px rgba(60, 64, 67, 0.3), 0 1px 3px 1px rgba(60, 64, 67, 0.15);\n",
              "    fill: var(--button-hover-fill-color);\n",
              "  }\n",
              "\n",
              "  .colab-df-quickchart-complete:disabled,\n",
              "  .colab-df-quickchart-complete:disabled:hover {\n",
              "    background-color: var(--disabled-bg-color);\n",
              "    fill: var(--disabled-fill-color);\n",
              "    box-shadow: none;\n",
              "  }\n",
              "\n",
              "  .colab-df-spinner {\n",
              "    border: 2px solid var(--fill-color);\n",
              "    border-color: transparent;\n",
              "    border-bottom-color: var(--fill-color);\n",
              "    animation:\n",
              "      spin 1s steps(1) infinite;\n",
              "  }\n",
              "\n",
              "  @keyframes spin {\n",
              "    0% {\n",
              "      border-color: transparent;\n",
              "      border-bottom-color: var(--fill-color);\n",
              "      border-left-color: var(--fill-color);\n",
              "    }\n",
              "    20% {\n",
              "      border-color: transparent;\n",
              "      border-left-color: var(--fill-color);\n",
              "      border-top-color: var(--fill-color);\n",
              "    }\n",
              "    30% {\n",
              "      border-color: transparent;\n",
              "      border-left-color: var(--fill-color);\n",
              "      border-top-color: var(--fill-color);\n",
              "      border-right-color: var(--fill-color);\n",
              "    }\n",
              "    40% {\n",
              "      border-color: transparent;\n",
              "      border-right-color: var(--fill-color);\n",
              "      border-top-color: var(--fill-color);\n",
              "    }\n",
              "    60% {\n",
              "      border-color: transparent;\n",
              "      border-right-color: var(--fill-color);\n",
              "    }\n",
              "    80% {\n",
              "      border-color: transparent;\n",
              "      border-right-color: var(--fill-color);\n",
              "      border-bottom-color: var(--fill-color);\n",
              "    }\n",
              "    90% {\n",
              "      border-color: transparent;\n",
              "      border-bottom-color: var(--fill-color);\n",
              "    }\n",
              "  }\n",
              "</style>\n",
              "\n",
              "  <script>\n",
              "    async function quickchart(key) {\n",
              "      const quickchartButtonEl =\n",
              "        document.querySelector('#' + key + ' button');\n",
              "      quickchartButtonEl.disabled = true;  // To prevent multiple clicks.\n",
              "      quickchartButtonEl.classList.add('colab-df-spinner');\n",
              "      try {\n",
              "        const charts = await google.colab.kernel.invokeFunction(\n",
              "            'suggestCharts', [key], {});\n",
              "      } catch (error) {\n",
              "        console.error('Error during call to suggestCharts:', error);\n",
              "      }\n",
              "      quickchartButtonEl.classList.remove('colab-df-spinner');\n",
              "      quickchartButtonEl.classList.add('colab-df-quickchart-complete');\n",
              "    }\n",
              "    (() => {\n",
              "      let quickchartButtonEl =\n",
              "        document.querySelector('#df-7d8f2682-dfc4-469c-adc1-ac1f9a77d60e button');\n",
              "      quickchartButtonEl.style.display =\n",
              "        google.colab.kernel.accessAllowed ? 'block' : 'none';\n",
              "    })();\n",
              "  </script>\n",
              "</div>\n",
              "    </div>\n",
              "  </div>\n"
            ]
          },
          "metadata": {},
          "execution_count": 241
        }
      ],
      "source": [
        "min_precision, delta = 0.8, 0.025\n",
        "crit_precisions = [min_precision + delta * i for i in range(int((1 - min_precision) / delta) + 1)]\n",
        "crit_thresholds = []\n",
        "\n",
        "max_recalls = []\n",
        "\n",
        "for prec in crit_precisions:\n",
        "    index = np.argmax(precision_nn_threshold >= prec)\n",
        "    max_recalls.append(recall_nn_threshold[index])\n",
        "    crit_thresholds.append(thresholds_nn[index])\n",
        "\n",
        "# Create a dataframe with the precision and maximum recall values\n",
        "df = pd.DataFrame({'Threshold': crit_thresholds,'Precision': crit_precisions, 'Recall': max_recalls})\n",
        "print(\"Precision vs Recall a vari livelli della soglia decisionale per il modello NN\")\n",
        "df"
      ]
    },
    {
      "cell_type": "code",
      "execution_count": 242,
      "metadata": {
        "colab": {
          "base_uri": "https://localhost:8080/",
          "height": 317
        },
        "id": "T89d3D2IceTg",
        "outputId": "a652ba4e-55eb-447a-f6b8-92b515187dc1"
      },
      "outputs": [
        {
          "output_type": "stream",
          "name": "stdout",
          "text": [
            "Precision vs Recall a vari livelli della soglia decisionale per il modello SVM\n"
          ]
        },
        {
          "output_type": "execute_result",
          "data": {
            "text/plain": [
              "   Threshold  Precision    Recall\n",
              "0   0.141643      0.800  0.960784\n",
              "1   0.189218      0.825  0.960784\n",
              "2   0.218156      0.850  0.960784\n",
              "3   0.431608      0.875  0.921569\n",
              "4   0.525730      0.900  0.921569\n",
              "5   0.705332      0.925  0.901961\n",
              "6   0.866442      0.950  0.882353\n",
              "7   0.880415      0.975  0.882353"
            ],
            "text/html": [
              "\n",
              "  <div id=\"df-eefb0451-295f-49a0-bcb2-97c9b0b94368\" class=\"colab-df-container\">\n",
              "    <div>\n",
              "<style scoped>\n",
              "    .dataframe tbody tr th:only-of-type {\n",
              "        vertical-align: middle;\n",
              "    }\n",
              "\n",
              "    .dataframe tbody tr th {\n",
              "        vertical-align: top;\n",
              "    }\n",
              "\n",
              "    .dataframe thead th {\n",
              "        text-align: right;\n",
              "    }\n",
              "</style>\n",
              "<table border=\"1\" class=\"dataframe\">\n",
              "  <thead>\n",
              "    <tr style=\"text-align: right;\">\n",
              "      <th></th>\n",
              "      <th>Threshold</th>\n",
              "      <th>Precision</th>\n",
              "      <th>Recall</th>\n",
              "    </tr>\n",
              "  </thead>\n",
              "  <tbody>\n",
              "    <tr>\n",
              "      <th>0</th>\n",
              "      <td>0.141643</td>\n",
              "      <td>0.800</td>\n",
              "      <td>0.960784</td>\n",
              "    </tr>\n",
              "    <tr>\n",
              "      <th>1</th>\n",
              "      <td>0.189218</td>\n",
              "      <td>0.825</td>\n",
              "      <td>0.960784</td>\n",
              "    </tr>\n",
              "    <tr>\n",
              "      <th>2</th>\n",
              "      <td>0.218156</td>\n",
              "      <td>0.850</td>\n",
              "      <td>0.960784</td>\n",
              "    </tr>\n",
              "    <tr>\n",
              "      <th>3</th>\n",
              "      <td>0.431608</td>\n",
              "      <td>0.875</td>\n",
              "      <td>0.921569</td>\n",
              "    </tr>\n",
              "    <tr>\n",
              "      <th>4</th>\n",
              "      <td>0.525730</td>\n",
              "      <td>0.900</td>\n",
              "      <td>0.921569</td>\n",
              "    </tr>\n",
              "    <tr>\n",
              "      <th>5</th>\n",
              "      <td>0.705332</td>\n",
              "      <td>0.925</td>\n",
              "      <td>0.901961</td>\n",
              "    </tr>\n",
              "    <tr>\n",
              "      <th>6</th>\n",
              "      <td>0.866442</td>\n",
              "      <td>0.950</td>\n",
              "      <td>0.882353</td>\n",
              "    </tr>\n",
              "    <tr>\n",
              "      <th>7</th>\n",
              "      <td>0.880415</td>\n",
              "      <td>0.975</td>\n",
              "      <td>0.882353</td>\n",
              "    </tr>\n",
              "  </tbody>\n",
              "</table>\n",
              "</div>\n",
              "    <div class=\"colab-df-buttons\">\n",
              "\n",
              "  <div class=\"colab-df-container\">\n",
              "    <button class=\"colab-df-convert\" onclick=\"convertToInteractive('df-eefb0451-295f-49a0-bcb2-97c9b0b94368')\"\n",
              "            title=\"Convert this dataframe to an interactive table.\"\n",
              "            style=\"display:none;\">\n",
              "\n",
              "  <svg xmlns=\"http://www.w3.org/2000/svg\" height=\"24px\" viewBox=\"0 -960 960 960\">\n",
              "    <path d=\"M120-120v-720h720v720H120Zm60-500h600v-160H180v160Zm220 220h160v-160H400v160Zm0 220h160v-160H400v160ZM180-400h160v-160H180v160Zm440 0h160v-160H620v160ZM180-180h160v-160H180v160Zm440 0h160v-160H620v160Z\"/>\n",
              "  </svg>\n",
              "    </button>\n",
              "\n",
              "  <style>\n",
              "    .colab-df-container {\n",
              "      display:flex;\n",
              "      gap: 12px;\n",
              "    }\n",
              "\n",
              "    .colab-df-convert {\n",
              "      background-color: #E8F0FE;\n",
              "      border: none;\n",
              "      border-radius: 50%;\n",
              "      cursor: pointer;\n",
              "      display: none;\n",
              "      fill: #1967D2;\n",
              "      height: 32px;\n",
              "      padding: 0 0 0 0;\n",
              "      width: 32px;\n",
              "    }\n",
              "\n",
              "    .colab-df-convert:hover {\n",
              "      background-color: #E2EBFA;\n",
              "      box-shadow: 0px 1px 2px rgba(60, 64, 67, 0.3), 0px 1px 3px 1px rgba(60, 64, 67, 0.15);\n",
              "      fill: #174EA6;\n",
              "    }\n",
              "\n",
              "    .colab-df-buttons div {\n",
              "      margin-bottom: 4px;\n",
              "    }\n",
              "\n",
              "    [theme=dark] .colab-df-convert {\n",
              "      background-color: #3B4455;\n",
              "      fill: #D2E3FC;\n",
              "    }\n",
              "\n",
              "    [theme=dark] .colab-df-convert:hover {\n",
              "      background-color: #434B5C;\n",
              "      box-shadow: 0px 1px 3px 1px rgba(0, 0, 0, 0.15);\n",
              "      filter: drop-shadow(0px 1px 2px rgba(0, 0, 0, 0.3));\n",
              "      fill: #FFFFFF;\n",
              "    }\n",
              "  </style>\n",
              "\n",
              "    <script>\n",
              "      const buttonEl =\n",
              "        document.querySelector('#df-eefb0451-295f-49a0-bcb2-97c9b0b94368 button.colab-df-convert');\n",
              "      buttonEl.style.display =\n",
              "        google.colab.kernel.accessAllowed ? 'block' : 'none';\n",
              "\n",
              "      async function convertToInteractive(key) {\n",
              "        const element = document.querySelector('#df-eefb0451-295f-49a0-bcb2-97c9b0b94368');\n",
              "        const dataTable =\n",
              "          await google.colab.kernel.invokeFunction('convertToInteractive',\n",
              "                                                    [key], {});\n",
              "        if (!dataTable) return;\n",
              "\n",
              "        const docLinkHtml = 'Like what you see? Visit the ' +\n",
              "          '<a target=\"_blank\" href=https://colab.research.google.com/notebooks/data_table.ipynb>data table notebook</a>'\n",
              "          + ' to learn more about interactive tables.';\n",
              "        element.innerHTML = '';\n",
              "        dataTable['output_type'] = 'display_data';\n",
              "        await google.colab.output.renderOutput(dataTable, element);\n",
              "        const docLink = document.createElement('div');\n",
              "        docLink.innerHTML = docLinkHtml;\n",
              "        element.appendChild(docLink);\n",
              "      }\n",
              "    </script>\n",
              "  </div>\n",
              "\n",
              "\n",
              "<div id=\"df-5c0ae823-e453-4b74-a266-0404a05c7883\">\n",
              "  <button class=\"colab-df-quickchart\" onclick=\"quickchart('df-5c0ae823-e453-4b74-a266-0404a05c7883')\"\n",
              "            title=\"Suggest charts\"\n",
              "            style=\"display:none;\">\n",
              "\n",
              "<svg xmlns=\"http://www.w3.org/2000/svg\" height=\"24px\"viewBox=\"0 0 24 24\"\n",
              "     width=\"24px\">\n",
              "    <g>\n",
              "        <path d=\"M19 3H5c-1.1 0-2 .9-2 2v14c0 1.1.9 2 2 2h14c1.1 0 2-.9 2-2V5c0-1.1-.9-2-2-2zM9 17H7v-7h2v7zm4 0h-2V7h2v10zm4 0h-2v-4h2v4z\"/>\n",
              "    </g>\n",
              "</svg>\n",
              "  </button>\n",
              "\n",
              "<style>\n",
              "  .colab-df-quickchart {\n",
              "      --bg-color: #E8F0FE;\n",
              "      --fill-color: #1967D2;\n",
              "      --hover-bg-color: #E2EBFA;\n",
              "      --hover-fill-color: #174EA6;\n",
              "      --disabled-fill-color: #AAA;\n",
              "      --disabled-bg-color: #DDD;\n",
              "  }\n",
              "\n",
              "  [theme=dark] .colab-df-quickchart {\n",
              "      --bg-color: #3B4455;\n",
              "      --fill-color: #D2E3FC;\n",
              "      --hover-bg-color: #434B5C;\n",
              "      --hover-fill-color: #FFFFFF;\n",
              "      --disabled-bg-color: #3B4455;\n",
              "      --disabled-fill-color: #666;\n",
              "  }\n",
              "\n",
              "  .colab-df-quickchart {\n",
              "    background-color: var(--bg-color);\n",
              "    border: none;\n",
              "    border-radius: 50%;\n",
              "    cursor: pointer;\n",
              "    display: none;\n",
              "    fill: var(--fill-color);\n",
              "    height: 32px;\n",
              "    padding: 0;\n",
              "    width: 32px;\n",
              "  }\n",
              "\n",
              "  .colab-df-quickchart:hover {\n",
              "    background-color: var(--hover-bg-color);\n",
              "    box-shadow: 0 1px 2px rgba(60, 64, 67, 0.3), 0 1px 3px 1px rgba(60, 64, 67, 0.15);\n",
              "    fill: var(--button-hover-fill-color);\n",
              "  }\n",
              "\n",
              "  .colab-df-quickchart-complete:disabled,\n",
              "  .colab-df-quickchart-complete:disabled:hover {\n",
              "    background-color: var(--disabled-bg-color);\n",
              "    fill: var(--disabled-fill-color);\n",
              "    box-shadow: none;\n",
              "  }\n",
              "\n",
              "  .colab-df-spinner {\n",
              "    border: 2px solid var(--fill-color);\n",
              "    border-color: transparent;\n",
              "    border-bottom-color: var(--fill-color);\n",
              "    animation:\n",
              "      spin 1s steps(1) infinite;\n",
              "  }\n",
              "\n",
              "  @keyframes spin {\n",
              "    0% {\n",
              "      border-color: transparent;\n",
              "      border-bottom-color: var(--fill-color);\n",
              "      border-left-color: var(--fill-color);\n",
              "    }\n",
              "    20% {\n",
              "      border-color: transparent;\n",
              "      border-left-color: var(--fill-color);\n",
              "      border-top-color: var(--fill-color);\n",
              "    }\n",
              "    30% {\n",
              "      border-color: transparent;\n",
              "      border-left-color: var(--fill-color);\n",
              "      border-top-color: var(--fill-color);\n",
              "      border-right-color: var(--fill-color);\n",
              "    }\n",
              "    40% {\n",
              "      border-color: transparent;\n",
              "      border-right-color: var(--fill-color);\n",
              "      border-top-color: var(--fill-color);\n",
              "    }\n",
              "    60% {\n",
              "      border-color: transparent;\n",
              "      border-right-color: var(--fill-color);\n",
              "    }\n",
              "    80% {\n",
              "      border-color: transparent;\n",
              "      border-right-color: var(--fill-color);\n",
              "      border-bottom-color: var(--fill-color);\n",
              "    }\n",
              "    90% {\n",
              "      border-color: transparent;\n",
              "      border-bottom-color: var(--fill-color);\n",
              "    }\n",
              "  }\n",
              "</style>\n",
              "\n",
              "  <script>\n",
              "    async function quickchart(key) {\n",
              "      const quickchartButtonEl =\n",
              "        document.querySelector('#' + key + ' button');\n",
              "      quickchartButtonEl.disabled = true;  // To prevent multiple clicks.\n",
              "      quickchartButtonEl.classList.add('colab-df-spinner');\n",
              "      try {\n",
              "        const charts = await google.colab.kernel.invokeFunction(\n",
              "            'suggestCharts', [key], {});\n",
              "      } catch (error) {\n",
              "        console.error('Error during call to suggestCharts:', error);\n",
              "      }\n",
              "      quickchartButtonEl.classList.remove('colab-df-spinner');\n",
              "      quickchartButtonEl.classList.add('colab-df-quickchart-complete');\n",
              "    }\n",
              "    (() => {\n",
              "      let quickchartButtonEl =\n",
              "        document.querySelector('#df-5c0ae823-e453-4b74-a266-0404a05c7883 button');\n",
              "      quickchartButtonEl.style.display =\n",
              "        google.colab.kernel.accessAllowed ? 'block' : 'none';\n",
              "    })();\n",
              "  </script>\n",
              "</div>\n",
              "    </div>\n",
              "  </div>\n"
            ]
          },
          "metadata": {},
          "execution_count": 242
        }
      ],
      "source": [
        "min_precision, delta = 0.8, 0.025\n",
        "crit_precisions = [min_precision + delta * i for i in range(int((1 - min_precision) / delta) + 1)]\n",
        "crit_thresholds = []\n",
        "\n",
        "max_recalls = []\n",
        "\n",
        "for prec in crit_precisions:\n",
        "    index = np.argmax(precision_svm_threshold >= prec)\n",
        "    max_recalls.append(recall_svm_threshold[index])\n",
        "    crit_thresholds.append(thresholds_svm[index])\n",
        "\n",
        "# Create a dataframe with the precision and maximum recall values\n",
        "df = pd.DataFrame({'Threshold': crit_thresholds,'Precision': crit_precisions, 'Recall': max_recalls})\n",
        "print(\"Precision vs Recall a vari livelli della soglia decisionale per il modello SVM\")\n",
        "df"
      ]
    },
    {
      "cell_type": "markdown",
      "source": [
        "Comparazione performance su __test-set__ della rete neurale tra __gray-scale__ e __RGB__:"
      ],
      "metadata": {
        "id": "bMImOZ0uKwbv"
      }
    },
    {
      "cell_type": "code",
      "execution_count": 254,
      "metadata": {
        "colab": {
          "base_uri": "https://localhost:8080/",
          "height": 489
        },
        "id": "VyMmBWHpw1cI",
        "outputId": "56c59209-99ba-47e8-a28b-1b3e24fdbe80"
      },
      "outputs": [
        {
          "output_type": "stream",
          "name": "stdout",
          "text": [
            "[[0.968, 0.931, 0.941, 0.936], [0.97, 0.9411764705882353, 0.9411764705882353, 0.9411764705882353]]\n"
          ]
        },
        {
          "output_type": "display_data",
          "data": {
            "text/plain": [
              "<Figure size 640x480 with 1 Axes>"
            ],
            "image/png": "[encoded data removed]"
          },
          "metadata": {}
        }
      ],
      "source": [
        "import numpy as np\n",
        "import matplotlib.pyplot as plt\n",
        "\n",
        "metrics = ['Accuracy', \"Recall\", \"Precision\", \"F1-score\"]\n",
        "nn_test_metrics = [0.968, 0.931, 0.941, 0.936]\n",
        "nn_rgb_test_metrics = [float(accuracy_nn), float(recall_nn), float(precision_nn), float(f1_nn)]\n",
        "\n",
        "models = [\"NN Gray-scaled\", \"NN RGB\"]\n",
        "test_results = [nn_test_metrics, nn_rgb_test_metrics]\n",
        "\n",
        "print(test_results)\n",
        "\n",
        "for i, model in enumerate(models):\n",
        "    x_pos = np.arange(len(metrics)) + i * 0.2  # Posizione x per ogni modello\n",
        "    plt.scatter(x_pos, test_results[i], label=model)\n",
        "\n",
        "x_pos = np.arange(len(metrics)) + 0.1\n",
        "for i, x in enumerate(x_pos):\n",
        "    y_values = [min(test_results[0][i], test_results[1][i]), max(test_results[0][i], test_results[1][i])]\n",
        "    plt.plot([x, x], y_values, color='black', lw=1)\n",
        "    plt.scatter([x, x], y_values, color='black', marker='_')\n",
        "    diff = np.abs(test_results[0][i] - test_results[1][i])\n",
        "    if diff > 0.001:\n",
        "        plt.text(x + 0.05, (test_results[0][i] + test_results[1][i]) / 2 - 0.001, f'{(diff*100):.1f}%', rotation=0)\n",
        "\n",
        "plt.xticks(np.arange(len(metrics)) + 0.1, metrics)\n",
        "plt.ylabel('Performance')\n",
        "plt.xlabel('Metrica')\n",
        "plt.title('Comparazione metriche su test set')\n",
        "plt.legend()\n",
        "\n",
        "plt.show()"
      ]
    },
    {
      "cell_type": "markdown",
      "source": [
        "Comparazione performance su __test-set__ della SVM tra __gray-scale__ e __RGB__:"
      ],
      "metadata": {
        "id": "RElXRavMLDFU"
      }
    },
    {
      "cell_type": "code",
      "source": [
        "import numpy as np\n",
        "import matplotlib.pyplot as plt\n",
        "\n",
        "metrics = ['Accuracy', \"Recall\", \"Precision\", \"F1-score\"]\n",
        "svm_test_metrics = [0.953, 0.931, 0.888, 0.909]\n",
        "svm_rgb_test_metrics = [accuracy_svm, recall_svm, precision_svm, f1_svm]\n",
        "\n",
        "models = [\"SVM Gray-scaled\", \"SVM RGB\"]\n",
        "test_results = [svm_test_metrics, svm_rgb_test_metrics]\n",
        "\n",
        "for i, model in enumerate(models):\n",
        "    x_pos = np.arange(len(metrics)) + i * 0.2  # Posizione x per ogni modello\n",
        "    plt.scatter(x_pos, test_results[i], label=model)\n",
        "\n",
        "x_pos = np.arange(len(metrics)) + 0.1\n",
        "for i, x in enumerate(x_pos):\n",
        "    y_values = [min(test_results[0][i], test_results[1][i]), max(test_results[0][i], test_results[1][i])]\n",
        "    plt.plot([x, x], y_values, color='black', lw=1)\n",
        "    plt.scatter([x, x], y_values, color='black', marker='_')\n",
        "    diff = np.abs(test_results[0][i] - test_results[1][i])\n",
        "    if diff > 0.003:\n",
        "        plt.text(x + 0.05, (test_results[0][i] + test_results[1][i]) / 2 - 0.0015, f'{(diff*100):.1f}%', rotation=0)\n",
        "\n",
        "plt.xticks(np.arange(len(metrics)) + 0.1, metrics)\n",
        "plt.ylabel('Performance')\n",
        "plt.xlabel('Metrica')\n",
        "plt.title('Comparazione metriche su test set')\n",
        "plt.legend()\n",
        "\n",
        "plt.show()"
      ],
      "metadata": {
        "colab": {
          "base_uri": "https://localhost:8080/",
          "height": 472
        },
        "id": "nPYeGT9KyPd2",
        "outputId": "df8e343f-5e85-449d-caf6-a2cd62007ebb"
      },
      "execution_count": 252,
      "outputs": [
        {
          "output_type": "display_data",
          "data": {
            "text/plain": [
              "<Figure size 640x480 with 1 Axes>"
            ],
            "image/png": "[encoded data removed]"
          },
          "metadata": {}
        }
      ]
    },
    {
      "cell_type": "markdown",
      "source": [
        "Comparazione dei tempi di addestramento su __cross-validation__:"
      ],
      "metadata": {
        "id": "VImP9gaXLpGp"
      }
    },
    {
      "cell_type": "code",
      "source": [
        "import numpy as np\n",
        "import matplotlib.pyplot as plt\n",
        "from scipy import stats\n",
        "\n",
        "confidence = 0.95\n",
        "\n",
        "operations = ['Training', 'Evaluation']\n",
        "nn_gray_times_mean = [17.500384998321532, 2.865693998336792]\n",
        "nn_gray_times_intervals = [(15.129273229316645, 19.87149676732642), (-1.3142737236867204, 7.045661720360305)]\n",
        "nn_rgb_times_mean = []\n",
        "nn_rgb_times_intervals = []\n",
        "svm_gray_times_mean = [0.1915947675704956, 0.02462303638458252]\n",
        "svm_gray_times_intervals = [(0.18274292621413238, 0.2004466089268588), (0.023336935882528033, 0.025909136886637006)]\n",
        "svm_rgb_times_mean = []\n",
        "svm_rgb_times_intervals = []\n",
        "\n",
        "nn_gray_errors = [(interval[1] - interval[0]) / 2 for interval in nn_gray_times_intervals]\n",
        "\n",
        "# Calculate times for nn\n",
        "[nn_rgb_times_mean.append(np.mean(times)) for times in (timesAddestramento, timesInferenza)]\n",
        "\n",
        "# Calculate intervals for nn\n",
        "[nn_rgb_times_intervals.append(stats.t.interval(confidence, len(times)-1, loc=np.mean(times), scale=stats.sem(times))) for times in (timesAddestramento, timesInferenza)]\n",
        "nn_rgb_errors = [(interval[1] - interval[0]) / 2 for interval in nn_rgb_times_intervals]\n",
        "\n",
        "svm_gray_errors = [(interval[1] - interval[0]) / 2 for interval in svm_gray_times_intervals]\n",
        "\n",
        "# Calculate metrics for svm\n",
        "[svm_rgb_times_mean.append(np.mean(times)) for times in (timesAddestramento_svm, timesInferenza_svm)]\n",
        "\n",
        "# Calculate intervals for svm\n",
        "[svm_rgb_times_intervals.append(stats.t.interval(confidence, len(times)-1, loc=np.mean(times), scale=stats.sem(times))) for times in (timesAddestramento_svm, timesInferenza_svm)]\n",
        "svm_rgb_errors = [(interval[1] - interval[0]) / 2 for interval in svm_rgb_times_intervals]\n",
        "\n",
        "print(f\"NN rgb metrics mean: {nn_rgb_times_mean}\")\n",
        "print(f\"SVM rgb metrics mean: {svm_rgb_times_mean}\")\n",
        "print(f\"NN rgb metrics intervals: {nn_rgb_times_intervals}\")\n",
        "print(f\"SVM rgb metrics intervals: {svm_rgb_times_intervals}\")\n",
        "\n",
        "models = [\"NN gray-scaled\", \"NN RGB\", \"SVM gray-scaled\", \"SVM RGB\"]\n",
        "means = [nn_gray_times_mean, nn_rgb_times_mean, svm_gray_times_mean, svm_rgb_times_mean]\n",
        "errors = [nn_gray_errors, nn_rgb_errors, svm_gray_errors, svm_rgb_errors]\n",
        "\n",
        "for i, model in enumerate(models):\n",
        "  x_pos = np.arange(len(operations)) + i * 0.1\n",
        "  print(x_pos)\n",
        "  print(means[i])\n",
        "  plt.errorbar(x_pos, means[i], yerr=errors[i], fmt='o', label=model)\n",
        "\n",
        "plt.xticks(np.arange(len(operations)) + 0.1, operations)\n",
        "plt.ylabel('Tempo (s)')\n",
        "plt.xlabel('Operazione')\n",
        "plt.title('Comparazione tempi su cross-validation')\n",
        "plt.legend()\n",
        "\n",
        "plt.show()"
      ],
      "metadata": {
        "colab": {
          "base_uri": "https://localhost:8080/",
          "height": 680
        },
        "id": "UUeGOIdlLtcI",
        "outputId": "2293967e-0cf0-4298-d753-5a40e8fe878b"
      },
      "execution_count": 253,
      "outputs": [
        {
          "output_type": "stream",
          "name": "stdout",
          "text": [
            "NN rgb metrics mean: [21.337312030792237, 4.211584353446961]\n",
            "SVM rgb metrics mean: [0.26196234226226806, 0.040483617782592775]\n",
            "NN rgb metrics intervals: [(15.507931075705851, 27.166692985878623), (-0.09754649771167667, 8.520715204605597)]\n",
            "SVM rgb metrics intervals: [(0.2399711979721374, 0.2839534865523987), (0.03472101329743665, 0.0462462222677489)]\n",
            "[0. 1.]\n",
            "[17.500384998321532, 2.865693998336792]\n",
            "[0.1 1.1]\n",
            "[21.337312030792237, 4.211584353446961]\n",
            "[0.2 1.2]\n",
            "[0.1915947675704956, 0.02462303638458252]\n",
            "[0.3 1.3]\n",
            "[0.26196234226226806, 0.040483617782592775]\n"
          ]
        },
        {
          "output_type": "display_data",
          "data": {
            "text/plain": [
              "<Figure size 640x480 with 1 Axes>"
            ],
            "image/png": "[encoded data removed]"
          },
          "metadata": {}
        }
      ]
    }
  ],
  "metadata": {
    "colab": {
      "collapsed_sections": [
        "vETYvM4MMiP_",
        "gCuqvevIMiQA",
        "87hv_1UwMiQC",
        "_PLYO7yrMiQF",
        "2qMxPtowMiQI",
        "kLO3UGulMiQJ",
        "s8b90rmdMiQL",
        "bhl_gHJFMiQM",
        "0yvvaK1YzNZa",
        "q3ngdQolMiQO",
        "AqE0gmvS6Ysu",
        "jadDkfXP8Eky",
        "k694T24_WVR4"
      ],
      "provenance": []
    },
    "kernelspec": {
      "display_name": "Python 3",
      "language": "python",
      "name": "python3"
    },
    "language_info": {
      "codemirror_mode": {
        "name": "ipython",
        "version": 3
      },
      "file_extension": ".py",
      "mimetype": "text/x-python",
      "name": "python",
      "nbconvert_exporter": "python",
      "pygments_lexer": "ipython3",
      "version": "3.9.2"
    }
  },
  "nbformat": 4,
  "nbformat_minor": 0
}